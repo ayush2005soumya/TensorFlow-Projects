{
 "cells": [
  {
   "cell_type": "code",
   "execution_count": 14,
   "id": "1295c0a2",
   "metadata": {},
   "outputs": [],
   "source": [
    "import tensorflow as tf\n",
    "import numpy as np\n",
    "from sklearn.feature_extraction.text import TfidfVectorizer\n",
    "from sklearn.model_selection import train_test_split"
   ]
  },
  {
   "cell_type": "markdown",
   "id": "a33d8abc",
   "metadata": {},
   "source": [
    "# Sample dataset (headlines + labels)"
   ]
  },
  {
   "cell_type": "code",
   "execution_count": 15,
   "id": "d5ed01bd",
   "metadata": {},
   "outputs": [],
   "source": [
    "texts = [\n",
    "    \"Donald Trump meets with the president of Mexico\",\n",
    "    \"NASA announces the discovery of new exoplanets\",\n",
    "    \"Breaking: Aliens found living in New York subway\",\n",
    "    \"Obama caught hiding alien technology\",\n",
    "    \"Scientists develop cure for cancer\",\n",
    "    \"Elvis Presley spotted in Times Square\"\n",
    "]\n",
    "labels = [0, 0, 1, 1, 0, 1]  # 0 = real, 1 = fake"
   ]
  },
  {
   "cell_type": "markdown",
   "id": "052d5024",
   "metadata": {},
   "source": [
    "# Split data"
   ]
  },
  {
   "cell_type": "code",
   "execution_count": 16,
   "id": "f1f308fb",
   "metadata": {},
   "outputs": [],
   "source": [
    "X_train_texts, X_test_texts, y_train, y_test = train_test_split(texts, labels, test_size=0.3, random_state=42)"
   ]
  },
  {
   "cell_type": "markdown",
   "id": "ede5a65e",
   "metadata": {},
   "source": [
    "# Vectorize text using TF-IDF"
   ]
  },
  {
   "cell_type": "code",
   "execution_count": 17,
   "id": "59324d8b",
   "metadata": {},
   "outputs": [],
   "source": [
    "vectorizer = TfidfVectorizer()\n",
    "X_train = vectorizer.fit_transform(X_train_texts).toarray()\n",
    "X_test = vectorizer.transform(X_test_texts).toarray()"
   ]
  },
  {
   "cell_type": "markdown",
   "id": "169f4052",
   "metadata": {},
   "source": [
    "# Build DNN model"
   ]
  },
  {
   "cell_type": "code",
   "execution_count": 18,
   "id": "bfa433c1",
   "metadata": {},
   "outputs": [],
   "source": [
    "model = tf.keras.Sequential([\n",
    "    tf.keras.layers.Input(shape=(X_train.shape[1],)),\n",
    "    tf.keras.layers.Dense(64, activation='relu'),\n",
    "    tf.keras.layers.Dense(32, activation='relu'),\n",
    "    tf.keras.layers.Dense(1, activation='sigmoid')  # Output for binary classification\n",
    "])"
   ]
  },
  {
   "cell_type": "markdown",
   "id": "557b3261",
   "metadata": {},
   "source": [
    "# Compile and train"
   ]
  },
  {
   "cell_type": "code",
   "execution_count": 19,
   "id": "2f1ab1eb",
   "metadata": {},
   "outputs": [
    {
     "data": {
      "text/plain": [
       "<keras.src.callbacks.history.History at 0x1acde90fda0>"
      ]
     },
     "execution_count": 19,
     "metadata": {},
     "output_type": "execute_result"
    }
   ],
   "source": [
    "model.compile(optimizer='adam', loss='binary_crossentropy', metrics=['accuracy'])\n",
    "\n",
    "# Convert y_train to numpy array for Keras compatibility\n",
    "y_train_np = np.array(y_train)\n",
    "model.fit(X_train, y_train_np, epochs=10, verbose=0)"
   ]
  },
  {
   "cell_type": "markdown",
   "id": "a0ba7744",
   "metadata": {},
   "source": [
    "# Evaluate"
   ]
  },
  {
   "cell_type": "code",
   "execution_count": 20,
   "id": "8eee6f52",
   "metadata": {},
   "outputs": [
    {
     "name": "stdout",
     "output_type": "stream",
     "text": [
      "Test Accuracy: 0.00\n"
     ]
    }
   ],
   "source": [
    "loss, acc = model.evaluate(X_test, np.array(y_test), verbose=0)\n",
    "print(f\"Test Accuracy: {acc:.2f}\")"
   ]
  },
  {
   "cell_type": "markdown",
   "id": "95365a83",
   "metadata": {},
   "source": [
    "# Predict on a new headline"
   ]
  },
  {
   "cell_type": "code",
   "execution_count": 23,
   "id": "db551f37",
   "metadata": {},
   "outputs": [
    {
     "name": "stdout",
     "output_type": "stream",
     "text": [
      "\u001b[1m1/1\u001b[0m \u001b[32m━━━━━━━━━━━━━━━━━━━━\u001b[0m\u001b[37m\u001b[0m \u001b[1m0s\u001b[0m 42ms/step\n",
      "Prediction: Fake\n"
     ]
    }
   ],
   "source": [
    "headline = [\"New study reveals link between exercise and happiness\"]\n",
    "headline_vec = vectorizer.transform(headline).toarray()\n",
    "pred = model.predict(headline_vec)[0][0]\n",
    "print(\"Prediction:\", \"Fake\" if pred > 0.5 else \"Real\")"
   ]
  }
 ],
 "metadata": {
  "kernelspec": {
   "display_name": "Python 3",
   "language": "python",
   "name": "python3"
  },
  "language_info": {
   "codemirror_mode": {
    "name": "ipython",
    "version": 3
   },
   "file_extension": ".py",
   "mimetype": "text/x-python",
   "name": "python",
   "nbconvert_exporter": "python",
   "pygments_lexer": "ipython3",
   "version": "3.12.5"
  }
 },
 "nbformat": 4,
 "nbformat_minor": 5
}
