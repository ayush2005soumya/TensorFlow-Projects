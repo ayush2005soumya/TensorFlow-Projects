{
 "cells": [
  {
   "cell_type": "code",
   "execution_count": 1,
   "id": "908999b0",
   "metadata": {},
   "outputs": [],
   "source": [
    "import tensorflow as tf\n",
    "import datetime\n"
   ]
  },
  {
   "cell_type": "markdown",
   "id": "ced921fb",
   "metadata": {},
   "source": [
    "# Load and normalize MNIST dataset"
   ]
  },
  {
   "cell_type": "code",
   "execution_count": 2,
   "id": "87c51fcb",
   "metadata": {},
   "outputs": [],
   "source": [
    "(X_train, y_train), _ = tf.keras.datasets.mnist.load_data()        # Use only training data\n",
    "X_train = X_train / 255.0                                          # Normalize pixel values\n",
    "X_train = X_train[..., tf.newaxis]                                 # Add channel dimension (28,28,1)"
   ]
  },
  {
   "cell_type": "markdown",
   "id": "1a38355d",
   "metadata": {},
   "source": [
    "# Create a simple CNN model"
   ]
  },
  {
   "cell_type": "code",
   "execution_count": 3,
   "id": "e70ad5d0",
   "metadata": {},
   "outputs": [
    {
     "name": "stderr",
     "output_type": "stream",
     "text": [
      "c:\\Users\\Dell\\AppData\\Local\\Programs\\Python\\Python312\\Lib\\site-packages\\keras\\src\\layers\\convolutional\\base_conv.py:107: UserWarning: Do not pass an `input_shape`/`input_dim` argument to a layer. When using Sequential models, prefer using an `Input(shape)` object as the first layer in the model instead.\n",
      "  super().__init__(activity_regularizer=activity_regularizer, **kwargs)\n"
     ]
    }
   ],
   "source": [
    "model = tf.keras.Sequential([\n",
    "    tf.keras.layers.Conv2D(32, 3, activation='relu', input_shape=(28, 28, 1)),  # Conv layer\n",
    "    tf.keras.layers.Flatten(),                                                 # Flatten for Dense layer\n",
    "    tf.keras.layers.Dense(64, activation='relu'),                              # Hidden layer\n",
    "    tf.keras.layers.Dense(10, activation='softmax')                            # Output layer\n",
    "])"
   ]
  },
  {
   "cell_type": "markdown",
   "id": "00f1ed2a",
   "metadata": {},
   "source": [
    "# Compile the model"
   ]
  },
  {
   "cell_type": "code",
   "execution_count": 5,
   "id": "1b83cc11",
   "metadata": {},
   "outputs": [],
   "source": [
    "model.compile(optimizer='adam', loss='sparse_categorical_crossentropy', metrics=['accuracy'])"
   ]
  },
  {
   "cell_type": "markdown",
   "id": "cc973783",
   "metadata": {},
   "source": [
    "# Set up TensorBoard log directory"
   ]
  },
  {
   "cell_type": "code",
   "execution_count": 6,
   "id": "e95d7c5b",
   "metadata": {},
   "outputs": [],
   "source": [
    "log_dir = \"logs/tensorboard_demo/\" + datetime.datetime.now().strftime(\"%Y%m%d-%H%M%S\")"
   ]
  },
  {
   "cell_type": "markdown",
   "id": "e7756704",
   "metadata": {},
   "source": [
    "# Create TensorBoard callback"
   ]
  },
  {
   "cell_type": "code",
   "execution_count": 7,
   "id": "5f5bd25d",
   "metadata": {},
   "outputs": [],
   "source": [
    "tensorboard_cb = tf.keras.callbacks.TensorBoard(log_dir=log_dir, histogram_freq=1)"
   ]
  },
  {
   "cell_type": "markdown",
   "id": "9d1888fe",
   "metadata": {},
   "source": [
    "# Train the model with TensorBoard callback"
   ]
  },
  {
   "cell_type": "code",
   "execution_count": 8,
   "id": "7fb02d99",
   "metadata": {},
   "outputs": [
    {
     "data": {
      "text/plain": [
       "<keras.src.callbacks.history.History at 0x2ad82024cb0>"
      ]
     },
     "execution_count": 8,
     "metadata": {},
     "output_type": "execute_result"
    }
   ],
   "source": [
    "model.fit(X_train, y_train, epochs=5, validation_split=0.2, callbacks=[tensorboard_cb], verbose=0)\n",
    " \n",
    "# To launch TensorBoard, run this command in a separate terminal (not in Python):\n",
    "# tensorboard --logdir=logs/tensorboard_demo/"
   ]
  }
 ],
 "metadata": {
  "kernelspec": {
   "display_name": "Python 3",
   "language": "python",
   "name": "python3"
  },
  "language_info": {
   "codemirror_mode": {
    "name": "ipython",
    "version": 3
   },
   "file_extension": ".py",
   "mimetype": "text/x-python",
   "name": "python",
   "nbconvert_exporter": "python",
   "pygments_lexer": "ipython3",
   "version": "3.12.5"
  }
 },
 "nbformat": 4,
 "nbformat_minor": 5
}
