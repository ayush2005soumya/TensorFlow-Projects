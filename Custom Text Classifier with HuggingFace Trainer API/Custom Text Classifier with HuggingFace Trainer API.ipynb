{
 "cells": [
  {
   "cell_type": "code",
   "execution_count": 1,
   "id": "c5a4dd26",
   "metadata": {},
   "outputs": [
    {
     "name": "stderr",
     "output_type": "stream",
     "text": [
      "c:\\Users\\Dell\\AppData\\Local\\Programs\\Python\\Python312\\Lib\\site-packages\\huggingface_hub\\file_download.py:943: FutureWarning: `resume_download` is deprecated and will be removed in version 1.0.0. Downloads always resume when possible. If you want to force a new download, use `force_download=True`.\n",
      "  warnings.warn(\n",
      "Some weights of DistilBertForSequenceClassification were not initialized from the model checkpoint at distilbert-base-uncased and are newly initialized: ['classifier.bias', 'classifier.weight', 'pre_classifier.bias', 'pre_classifier.weight']\n",
      "You should probably TRAIN this model on a down-stream task to be able to use it for predictions and inference.\n"
     ]
    },
    {
     "data": {
      "application/vnd.jupyter.widget-view+json": {
       "model_id": "03ee8fc175564caa9539dffa8c5435f0",
       "version_major": 2,
       "version_minor": 0
      },
      "text/plain": [
       "Map:   0%|          | 0/4 [00:00<?, ? examples/s]"
      ]
     },
     "metadata": {},
     "output_type": "display_data"
    },
    {
     "data": {
      "application/vnd.jupyter.widget-view+json": {
       "model_id": "99c9b7e519bb468f8c3fb78556a620f6",
       "version_major": 2,
       "version_minor": 0
      },
      "text/plain": [
       "Map:   0%|          | 0/1 [00:00<?, ? examples/s]"
      ]
     },
     "metadata": {},
     "output_type": "display_data"
    },
    {
     "data": {
      "application/vnd.jupyter.widget-view+json": {
       "model_id": "8f615a78558442849c519154c800a063",
       "version_major": 2,
       "version_minor": 0
      },
      "text/plain": [
       "  0%|          | 0/6 [00:00<?, ?it/s]"
      ]
     },
     "metadata": {},
     "output_type": "display_data"
    },
    {
     "data": {
      "application/vnd.jupyter.widget-view+json": {
       "model_id": "b51973055cff487895f9abc388077bb2",
       "version_major": 2,
       "version_minor": 0
      },
      "text/plain": [
       "  0%|          | 0/1 [00:00<?, ?it/s]"
      ]
     },
     "metadata": {},
     "output_type": "display_data"
    },
    {
     "name": "stdout",
     "output_type": "stream",
     "text": [
      "{'eval_loss': 0.7227716445922852, 'eval_runtime': 0.3608, 'eval_samples_per_second': 2.772, 'eval_steps_per_second': 2.772, 'epoch': 1.0}\n"
     ]
    },
    {
     "data": {
      "application/vnd.jupyter.widget-view+json": {
       "model_id": "50548d4d917249ab823061060e1e2a17",
       "version_major": 2,
       "version_minor": 0
      },
      "text/plain": [
       "  0%|          | 0/1 [00:00<?, ?it/s]"
      ]
     },
     "metadata": {},
     "output_type": "display_data"
    },
    {
     "name": "stdout",
     "output_type": "stream",
     "text": [
      "{'eval_loss': 0.6896909475326538, 'eval_runtime': 0.3993, 'eval_samples_per_second': 2.504, 'eval_steps_per_second': 2.504, 'epoch': 2.0}\n"
     ]
    },
    {
     "data": {
      "application/vnd.jupyter.widget-view+json": {
       "model_id": "22c1795de46f4e99bf1f269ea430bcf6",
       "version_major": 2,
       "version_minor": 0
      },
      "text/plain": [
       "  0%|          | 0/1 [00:00<?, ?it/s]"
      ]
     },
     "metadata": {},
     "output_type": "display_data"
    },
    {
     "name": "stdout",
     "output_type": "stream",
     "text": [
      "{'eval_loss': 0.6715867519378662, 'eval_runtime': 0.4122, 'eval_samples_per_second': 2.426, 'eval_steps_per_second': 2.426, 'epoch': 3.0}\n",
      "{'train_runtime': 34.2921, 'train_samples_per_second': 0.35, 'train_steps_per_second': 0.175, 'train_loss': 0.638109008471171, 'epoch': 3.0}\n",
      "📝 Sample: I hated the user interface of this app.\n",
      "🔖 Predicted Sentiment: Negative\n"
     ]
    }
   ],
   "source": [
    "from transformers import (\n",
    "    AutoTokenizer, AutoModelForSequenceClassification, Trainer, TrainingArguments\n",
    ")\n",
    "from datasets import Dataset\n",
    "import numpy as np\n",
    " \n",
    "# Sample dataset for binary classification\n",
    "data = {\n",
    "    \"text\": [\n",
    "        \"The new iPhone looks amazing!\",\n",
    "        \"The game was boring and unwatchable.\",\n",
    "        \"I absolutely loved the movie!\",\n",
    "        \"This laptop performs very poorly.\",\n",
    "        \"Fantastic service and great food!\"\n",
    "    ],\n",
    "    \"label\": [1, 0, 1, 0, 1]  # 1 = positive, 0 = negative\n",
    "}\n",
    " \n",
    "# Convert to Hugging Face dataset\n",
    "dataset = Dataset.from_dict(data).train_test_split(test_size=0.2)\n",
    " \n",
    "# Load tokenizer and model\n",
    "model_name = \"distilbert-base-uncased\"\n",
    "tokenizer = AutoTokenizer.from_pretrained(model_name)\n",
    "model = AutoModelForSequenceClassification.from_pretrained(model_name, num_labels=2)\n",
    " \n",
    "# Tokenize dataset\n",
    "def tokenize(batch):\n",
    "    return tokenizer(batch[\"text\"], padding=\"max_length\", truncation=True)\n",
    " \n",
    "tokenized_ds = dataset.map(tokenize, batched=True)\n",
    "tokenized_ds.set_format(\"torch\", columns=[\"input_ids\", \"attention_mask\", \"label\"])\n",
    " \n",
    "# Training arguments\n",
    "training_args = TrainingArguments(\n",
    "    output_dir=\"./results\",\n",
    "    per_device_train_batch_size=2,\n",
    "    per_device_eval_batch_size=2,\n",
    "    num_train_epochs=3,\n",
    "    logging_dir=\"./logs\",\n",
    "    load_best_model_at_end=True,\n",
    "    save_strategy=\"epoch\",\n",
    "    evaluation_strategy=\"epoch\"  # <-- Add this line to match save_strategy\n",
    ")\n",
    " \n",
    "# Define Trainer\n",
    "trainer = Trainer(\n",
    "    model=model,\n",
    "    args=training_args,\n",
    "    train_dataset=tokenized_ds[\"train\"],\n",
    "    eval_dataset=tokenized_ds[\"test\"]\n",
    ")\n",
    " \n",
    "# Train model\n",
    "trainer.train()\n",
    " \n",
    "# Inference\n",
    "sample = \"I hated the user interface of this app.\"\n",
    "tokens = tokenizer(sample, return_tensors=\"pt\", truncation=True, padding=True)\n",
    "output = model(**tokens)\n",
    "pred = int(np.argmax(output.logits.detach().numpy()))\n",
    "print(\"📝 Sample:\", sample)\n",
    "print(\"🔖 Predicted Sentiment:\", \"Positive\" if pred == 1 else \"Negative\")"
   ]
  }
 ],
 "metadata": {
  "kernelspec": {
   "display_name": "Python 3",
   "language": "python",
   "name": "python3"
  },
  "language_info": {
   "codemirror_mode": {
    "name": "ipython",
    "version": 3
   },
   "file_extension": ".py",
   "mimetype": "text/x-python",
   "name": "python",
   "nbconvert_exporter": "python",
   "pygments_lexer": "ipython3",
   "version": "3.12.5"
  }
 },
 "nbformat": 4,
 "nbformat_minor": 5
}
