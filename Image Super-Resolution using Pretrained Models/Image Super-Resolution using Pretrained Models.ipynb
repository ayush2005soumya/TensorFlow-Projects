{
 "cells": [
  {
   "cell_type": "code",
   "execution_count": null,
   "id": "09a4c0e7",
   "metadata": {},
   "outputs": [],
   "source": [
    "import cv2\n",
    "import os\n",
    "import time\n",
    "import numpy as np\n",
    "from tensorflow.keras.models import load_model\n",
    "from PIL import Image\n",
    "import tensorflow_hub as hub\n",
    "import matplotlib.pyplot as plt\n",
    "os.environ[\"TFHUB_DOWNLOAD_PROGRESS\"] = \"True\"\n",
    "\n",
    "SAVED_MODEL_PATH = \"https://tfhub.dev/captain-pool/esrgan-tf2/1\"\n",
    "# Load the pretrained super-resolution model (using a simple pre-trained model for demonstration)\n",
    "# You can use models like ESRGAN or any other available super-resolution model for better results\n",
    "model = hub.load(SAVED_MODEL_PATH)  # Load model from TensorFlow Hub\n",
    " \n",
    "# Read an image (low resolution)\n",
    "image = cv2.imread(r\"C:\\Users\\Dell\\OneDrive\\Pictures\\Screenshots\\Screenshot 2025-03-29 190123.png\")  # Replace with your low-res image\n",
    "image_rgb = cv2.cvtColor(image, cv2.COLOR_BGR2RGB)\n",
    "image_pil = Image.fromarray(image_rgb)\n",
    " \n",
    "# Preprocess image (resize or pad)\n",
    "image_resized = image_pil.resize((image_pil.width * 2, image_pil.height * 2))  # Upscale by factor of 2 for demo\n",
    " \n",
    "# Convert image to array\n",
    "image_array = np.array(image_resized) / 255.0  # Normalize\n",
    "image_array = np.expand_dims(image_array, axis=0)  # Add batch dimension\n",
    "image_array = image_array.astype(np.float32)  # Ensure dtype is float32\n",
    " \n",
    "# Perform super-resolution\n",
    "high_res_image = model(image_array)\n",
    " \n",
    "# Postprocess and display the result\n",
    "high_res_image = np.squeeze(high_res_image) * 255.0  # Denormalize\n",
    "high_res_image = np.clip(high_res_image, 0, 255).astype(\"uint8\")\n",
    " \n",
    "# Show the result\n",
    "high_res_pil = Image.fromarray(high_res_image)\n",
    "high_res_pil.show()\n",
    " \n",
    "# Save the high-resolution image\n",
    "high_res_pil.save(\"high_resolution_image.jpg\")"
   ]
  }
 ],
 "metadata": {
  "kernelspec": {
   "display_name": "Python 3",
   "language": "python",
   "name": "python3"
  },
  "language_info": {
   "codemirror_mode": {
    "name": "ipython",
    "version": 3
   },
   "file_extension": ".py",
   "mimetype": "text/x-python",
   "name": "python",
   "nbconvert_exporter": "python",
   "pygments_lexer": "ipython3",
   "version": "3.12.5"
  }
 },
 "nbformat": 4,
 "nbformat_minor": 5
}
