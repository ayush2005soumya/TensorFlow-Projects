{
 "cells": [
  {
   "cell_type": "code",
   "execution_count": 1,
   "id": "a88e8301",
   "metadata": {},
   "outputs": [
    {
     "name": "stdout",
     "output_type": "stream",
     "text": [
      "WARNING:tensorflow:From C:\\Users\\Dell\\AppData\\Roaming\\Python\\Python312\\site-packages\\tf_keras\\src\\losses.py:2976: The name tf.losses.sparse_softmax_cross_entropy is deprecated. Please use tf.compat.v1.losses.sparse_softmax_cross_entropy instead.\n",
      "\n"
     ]
    }
   ],
   "source": [
    "import tensorflow as tf\n",
    "import tensorflow_hub as hub\n",
    "import cv2\n",
    "import numpy as np"
   ]
  },
  {
   "cell_type": "markdown",
   "id": "cf95f07b",
   "metadata": {},
   "source": [
    "# Load the pretrained SSD MobileNet model from TensorFlow Hub"
   ]
  },
  {
   "cell_type": "code",
   "execution_count": 2,
   "id": "375d9a4e",
   "metadata": {},
   "outputs": [
    {
     "name": "stdout",
     "output_type": "stream",
     "text": [
      "WARNING:tensorflow:From c:\\Users\\Dell\\AppData\\Local\\Programs\\Python\\Python312\\Lib\\site-packages\\tensorflow_hub\\resolver.py:120: The name tf.gfile.MakeDirs is deprecated. Please use tf.io.gfile.makedirs instead.\n",
      "\n"
     ]
    },
    {
     "name": "stderr",
     "output_type": "stream",
     "text": [
      "WARNING:tensorflow:From c:\\Users\\Dell\\AppData\\Local\\Programs\\Python\\Python312\\Lib\\site-packages\\tensorflow_hub\\resolver.py:120: The name tf.gfile.MakeDirs is deprecated. Please use tf.io.gfile.makedirs instead.\n",
      "\n"
     ]
    },
    {
     "name": "stdout",
     "output_type": "stream",
     "text": [
      "WARNING:tensorflow:From c:\\Users\\Dell\\AppData\\Local\\Programs\\Python\\Python312\\Lib\\site-packages\\tensorflow_hub\\module_v2.py:126: The name tf.saved_model.load_v2 is deprecated. Please use tf.compat.v2.saved_model.load instead.\n",
      "\n"
     ]
    },
    {
     "name": "stderr",
     "output_type": "stream",
     "text": [
      "WARNING:tensorflow:From c:\\Users\\Dell\\AppData\\Local\\Programs\\Python\\Python312\\Lib\\site-packages\\tensorflow_hub\\module_v2.py:126: The name tf.saved_model.load_v2 is deprecated. Please use tf.compat.v2.saved_model.load instead.\n",
      "\n"
     ]
    }
   ],
   "source": [
    "detector = hub.load(\"https://tfhub.dev/tensorflow/ssd_mobilenet_v2/2\")"
   ]
  },
  {
   "cell_type": "markdown",
   "id": "2ac52a26",
   "metadata": {},
   "source": [
    "# Load COCO labels"
   ]
  },
  {
   "cell_type": "code",
   "execution_count": 3,
   "id": "6c7d2d4f",
   "metadata": {},
   "outputs": [],
   "source": [
    "labels_path = tf.keras.utils.get_file(\n",
    "    'coco_labels.txt',\n",
    "    'https://raw.githubusercontent.com/amikelive/coco-labels/master/coco-labels-paper.txt'\n",
    ")\n",
    "labels = [line.strip() for line in open(labels_path).readlines()]"
   ]
  },
  {
   "cell_type": "markdown",
   "id": "8aeb04b6",
   "metadata": {},
   "source": [
    "# Start webcam feed"
   ]
  },
  {
   "cell_type": "code",
   "execution_count": 4,
   "id": "b79fd520",
   "metadata": {},
   "outputs": [],
   "source": [
    "# %pip install opencv-python\n",
    "\n",
    "# import cv2  # Ensure cv2 is imported after installation\n",
    "\n",
    "cap = cv2.VideoCapture(0)  # Use camera index 0\n",
    "\n",
    "while True:\n",
    "    ret, frame = cap.read()\n",
    "    if not ret:\n",
    "        break\n",
    "\n",
    "    # Preprocess the frame: resize, normalize, expand dims\n",
    "    input_tensor = cv2.cvtColor(frame, cv2.COLOR_BGR2RGB)          # Convert BGR to RGB\n",
    "    input_tensor = tf.convert_to_tensor(input_tensor, dtype=tf.uint8)\n",
    "    input_tensor = tf.image.resize(input_tensor, (320, 320))\n",
    "    input_tensor = tf.cast(input_tensor, tf.uint8)\n",
    "    input_tensor = input_tensor[tf.newaxis, ...]\n",
    "\n",
    "    # Run detection\n",
    "    detections = detector(input_tensor)\n",
    "    detections = {k: v.numpy() for k, v in detections.items()}\n",
    "\n",
    "    # Draw detections with score > 0.5\n",
    "    h, w, _ = frame.shape\n",
    "    num_detections = int(detections['num_detections'][0])\n",
    "    for i in range(num_detections):\n",
    "        score = detections['detection_scores'][0][i]\n",
    "        if score < 0.5:\n",
    "            continue\n",
    "\n",
    "        box = detections['detection_boxes'][0][i]\n",
    "        class_id = int(detections['detection_classes'][0][i])\n",
    "        label = labels[class_id]\n",
    "\n",
    "        ymin, xmin, ymax, xmax = box\n",
    "        left, top = int(xmin * w), int(ymin * h)\n",
    "        right, bottom = int(xmax * w), int(ymax * h)\n",
    "\n",
    "        # Draw rectangle and label\n",
    "        cv2.rectangle(frame, (left, top), (right, bottom), (0, 255, 0), 2)\n",
    "        cv2.putText(frame, f\"{label} {score:.2f}\", (left, top - 10),\n",
    "                    cv2.FONT_HERSHEY_SIMPLEX, 0.5, (0, 255, 0), 1)\n",
    "\n",
    "    # Show frame\n",
    "    cv2.imshow('Real-Time Object Detection', frame)\n",
    "\n",
    "    # Press 'q' to quit\n",
    "    if cv2.waitKey(1) & 0xFF == ord('q'):\n",
    "        break\n",
    "\n",
    "cap.release()\n",
    "cv2.destroyAllWindows()"
   ]
  }
 ],
 "metadata": {
  "kernelspec": {
   "display_name": "Python 3",
   "language": "python",
   "name": "python3"
  },
  "language_info": {
   "codemirror_mode": {
    "name": "ipython",
    "version": 3
   },
   "file_extension": ".py",
   "mimetype": "text/x-python",
   "name": "python",
   "nbconvert_exporter": "python",
   "pygments_lexer": "ipython3",
   "version": "3.12.5"
  }
 },
 "nbformat": 4,
 "nbformat_minor": 5
}
