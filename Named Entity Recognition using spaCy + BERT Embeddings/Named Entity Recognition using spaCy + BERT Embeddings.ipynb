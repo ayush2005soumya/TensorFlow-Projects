{
 "cells": [
  {
   "cell_type": "code",
   "execution_count": 5,
   "id": "8c8b66ec",
   "metadata": {},
   "outputs": [
    {
     "name": "stdout",
     "output_type": "stream",
     "text": [
      "📄 Text:\n",
      " Apple is opening a new office in Toronto on January 15th, 2025.\n",
      "\n",
      "🔍 Detected Named Entities:\n",
      "\n",
      "Apple                          → ORG\n",
      "Toronto                        → GPE\n",
      "January 15th, 2025             → DATE\n"
     ]
    }
   ],
   "source": [
    "import spacy\n",
    "\n",
    "# Download the spaCy English model if not already installed\n",
    "try:\n",
    "    nlp = spacy.load(\"en_core_web_sm\")\n",
    "except OSError:\n",
    "    from spacy.cli import download\n",
    "    download(\"en_core_web_sm\")\n",
    "    nlp = spacy.load(\"en_core_web_sm\")\n",
    "\n",
    "# Input text\n",
    "text = \"Apple is opening a new office in Toronto on January 15th, 2025.\"\n",
    "\n",
    "# Run NER\n",
    "doc = nlp(text)\n",
    "\n",
    "# Extract and print named entities\n",
    "print(\"📄 Text:\\n\", text)\n",
    "print(\"\\n🔍 Detected Named Entities:\\n\")\n",
    "for ent in doc.ents:\n",
    "    print(f\"{ent.text:30} → {ent.label_}\")"
   ]
  }
 ],
 "metadata": {
  "kernelspec": {
   "display_name": "Python 3",
   "language": "python",
   "name": "python3"
  },
  "language_info": {
   "codemirror_mode": {
    "name": "ipython",
    "version": 3
   },
   "file_extension": ".py",
   "mimetype": "text/x-python",
   "name": "python",
   "nbconvert_exporter": "python",
   "pygments_lexer": "ipython3",
   "version": "3.12.5"
  }
 },
 "nbformat": 4,
 "nbformat_minor": 5
}
