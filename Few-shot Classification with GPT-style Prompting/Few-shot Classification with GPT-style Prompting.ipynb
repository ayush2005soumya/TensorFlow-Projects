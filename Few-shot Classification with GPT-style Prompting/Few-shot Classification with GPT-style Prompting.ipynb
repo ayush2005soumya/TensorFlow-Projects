{
 "cells": [
  {
   "cell_type": "code",
   "execution_count": 8,
   "id": "129f5a8d",
   "metadata": {},
   "outputs": [],
   "source": [
    "from transformers import pipeline"
   ]
  },
  {
   "cell_type": "markdown",
   "id": "d1eb84df",
   "metadata": {},
   "source": [
    "# Load a text generation pipeline (e.g., GPT-3-like model)"
   ]
  },
  {
   "cell_type": "code",
   "execution_count": 9,
   "id": "a92e375c",
   "metadata": {},
   "outputs": [
    {
     "name": "stderr",
     "output_type": "stream",
     "text": [
      "Device set to use cpu\n"
     ]
    }
   ],
   "source": [
    "generator = pipeline(\"text-generation\", model=\"gpt2\", max_length=100)"
   ]
  },
  {
   "cell_type": "markdown",
   "id": "a4828fe4",
   "metadata": {},
   "source": [
    "# Define prompt with a few examples for few-shot learning"
   ]
  },
  {
   "cell_type": "code",
   "execution_count": 10,
   "id": "12aeec26",
   "metadata": {},
   "outputs": [],
   "source": [
    "prompt = \"\"\"\n",
    "Classify the following text into categories: [greeting, booking, question, complaint]\n",
    " \n",
    "Example 1:\n",
    "Text: Hello, how are you?\n",
    "Category: greeting\n",
    " \n",
    "Example 2:\n",
    "Text: I want to book a flight to Toronto.\n",
    "Category: booking\n",
    " \n",
    "Example 3:\n",
    "Text: Can you tell me the train schedule?\n",
    "Category: question\n",
    " \n",
    "Example 4:\n",
    "Text: My hotel room was dirty and not cleaned.\n",
    "Category: complaint\n",
    " \n",
    "Now classify:\n",
    "Text: I need help canceling my reservation.\n",
    "Category:\"\"\""
   ]
  },
  {
   "cell_type": "markdown",
   "id": "6c6622b2",
   "metadata": {},
   "source": [
    "# Generate prediction"
   ]
  },
  {
   "cell_type": "code",
   "execution_count": 11,
   "id": "c6185a4a",
   "metadata": {},
   "outputs": [
    {
     "name": "stderr",
     "output_type": "stream",
     "text": [
      "The following generation flags are not valid and may be ignored: ['temperature']. Set `TRANSFORMERS_VERBOSITY=info` for more details.\n",
      "Setting `pad_token_id` to `eos_token_id`:50256 for open-end generation.\n"
     ]
    }
   ],
   "source": [
    "output = generator(prompt, do_sample=False, max_new_tokens=20)[0]['generated_text']"
   ]
  },
  {
   "cell_type": "markdown",
   "id": "5bbc53e7",
   "metadata": {},
   "source": [
    "# Extract model-generated category"
   ]
  },
  {
   "cell_type": "code",
   "execution_count": 12,
   "id": "1e2d5331",
   "metadata": {},
   "outputs": [
    {
     "name": "stdout",
     "output_type": "stream",
     "text": [
      "📝 Prompted Classification:\n",
      " Category\n"
     ]
    }
   ],
   "source": [
    "predicted_line = output.strip().split('\\n')[-1]\n",
    "print(\"📝 Prompted Classification:\\n\", predicted_line)"
   ]
  }
 ],
 "metadata": {
  "kernelspec": {
   "display_name": "Python 3",
   "language": "python",
   "name": "python3"
  },
  "language_info": {
   "codemirror_mode": {
    "name": "ipython",
    "version": 3
   },
   "file_extension": ".py",
   "mimetype": "text/x-python",
   "name": "python",
   "nbconvert_exporter": "python",
   "pygments_lexer": "ipython3",
   "version": "3.12.5"
  }
 },
 "nbformat": 4,
 "nbformat_minor": 5
}
