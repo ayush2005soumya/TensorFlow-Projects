{
 "cells": [
  {
   "cell_type": "code",
   "execution_count": 1,
   "id": "5b8b0e08",
   "metadata": {},
   "outputs": [],
   "source": [
    "import tensorflow as tf\n",
    "import os"
   ]
  },
  {
   "cell_type": "markdown",
   "id": "56aaafb3",
   "metadata": {},
   "source": [
    "# Load image dataset from directory (organized by class subfolders)"
   ]
  },
  {
   "cell_type": "code",
   "execution_count": 2,
   "id": "1a87e00c",
   "metadata": {},
   "outputs": [
    {
     "name": "stdout",
     "output_type": "stream",
     "text": [
      "Downloading data from https://storage.googleapis.com/mledu-datasets/cats_and_dogs_filtered.zip\n",
      "\u001b[1m68606236/68606236\u001b[0m \u001b[32m━━━━━━━━━━━━━━━━━━━━\u001b[0m\u001b[37m\u001b[0m \u001b[1m27s\u001b[0m 0us/step\n"
     ]
    }
   ],
   "source": [
    "dataset_url = \"https://storage.googleapis.com/mledu-datasets/cats_and_dogs_filtered.zip\"\n",
    "path_to_zip = tf.keras.utils.get_file('cats_and_dogs_filtered.zip', origin=dataset_url, extract=True)\n",
    "data_dir = os.path.join(os.path.dirname(path_to_zip), 'cats_and_dogs_filtered', 'train')  # Use train set"
   ]
  },
  {
   "cell_type": "markdown",
   "id": "10d0e107",
   "metadata": {},
   "source": [
    "# Function to create split datasets"
   ]
  },
  {
   "cell_type": "code",
   "execution_count": 3,
   "id": "8c91345e",
   "metadata": {},
   "outputs": [],
   "source": [
    "def create_split_datasets(data_dir, img_size=(160, 160), batch_size=32, val_split=0.2, test_split=0.1):\n",
    "    # First, split into training and validation\n",
    "    full_dataset = tf.keras.utils.image_dataset_from_directory(\n",
    "        data_dir,\n",
    "        image_size=img_size,\n",
    "        batch_size=batch_size,\n",
    "        validation_split=val_split + test_split,             # Reserve both val + test initially\n",
    "        subset=\"training\",\n",
    "        seed=123\n",
    "    )\n",
    "    \n",
    "    valtest_dataset = tf.keras.utils.image_dataset_from_directory(\n",
    "        data_dir,\n",
    "        image_size=img_size,\n",
    "        batch_size=batch_size,\n",
    "        validation_split=val_split + test_split,\n",
    "        subset=\"validation\",\n",
    "        seed=123\n",
    "    )\n",
    "    \n",
    "    val_batches = int(val_split / (val_split + test_split) * len(valtest_dataset))  # Split into val and test\n",
    "    \n",
    "    val_dataset = valtest_dataset.take(val_batches)            # First part = validation set\n",
    "    test_dataset = valtest_dataset.skip(val_batches)           # Remaining part = test set\n",
    "    \n",
    "    return full_dataset, val_dataset, test_dataset"
   ]
  },
  {
   "cell_type": "markdown",
   "id": "38196dc3",
   "metadata": {},
   "source": [
    "# Generate datasets"
   ]
  },
  {
   "cell_type": "code",
   "execution_count": 6,
   "id": "e7762f05",
   "metadata": {},
   "outputs": [
    {
     "name": "stdout",
     "output_type": "stream",
     "text": [
      "Found 2000 files belonging to 2 classes.\n",
      "Using 1400 files for training.\n",
      "Found 2000 files belonging to 2 classes.\n",
      "Using 600 files for validation.\n"
     ]
    }
   ],
   "source": [
    "train_ds, val_ds, test_ds = create_split_datasets(r\"C:\\Users\\Dell\\.keras\\datasets\\cats_and_dogs_filtered_extracted\\cats_and_dogs_filtered\\train\")"
   ]
  },
  {
   "cell_type": "markdown",
   "id": "a9cde3d9",
   "metadata": {},
   "source": [
    "# Print dataset sizes"
   ]
  },
  {
   "cell_type": "code",
   "execution_count": 7,
   "id": "dfe43896",
   "metadata": {},
   "outputs": [
    {
     "name": "stdout",
     "output_type": "stream",
     "text": [
      "Train batches: 44\n",
      "Validation batches: 12\n",
      "Test batches: 7\n"
     ]
    }
   ],
   "source": [
    "print(f\"Train batches: {len(train_ds)}\")\n",
    "print(f\"Validation batches: {len(val_ds)}\")\n",
    "print(f\"Test batches: {len(test_ds)}\")"
   ]
  }
 ],
 "metadata": {
  "kernelspec": {
   "display_name": "Python 3",
   "language": "python",
   "name": "python3"
  },
  "language_info": {
   "codemirror_mode": {
    "name": "ipython",
    "version": 3
   },
   "file_extension": ".py",
   "mimetype": "text/x-python",
   "name": "python",
   "nbconvert_exporter": "python",
   "pygments_lexer": "ipython3",
   "version": "3.12.5"
  }
 },
 "nbformat": 4,
 "nbformat_minor": 5
}
