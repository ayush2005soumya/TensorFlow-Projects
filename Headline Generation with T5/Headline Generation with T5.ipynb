{
 "cells": [
  {
   "cell_type": "code",
   "execution_count": 1,
   "id": "4cf593d6",
   "metadata": {},
   "outputs": [],
   "source": [
    "from transformers import TFAutoModelForSeq2SeqLM, AutoTokenizer\n",
    "import tensorflow as tf"
   ]
  },
  {
   "cell_type": "markdown",
   "id": "d81ca068",
   "metadata": {},
   "source": [
    "# Load pretrained T5 model and tokenizer"
   ]
  },
  {
   "cell_type": "code",
   "execution_count": 2,
   "id": "e28704aa",
   "metadata": {},
   "outputs": [
    {
     "name": "stdout",
     "output_type": "stream",
     "text": [
      "WARNING:tensorflow:From C:\\Users\\Dell\\AppData\\Roaming\\Python\\Python312\\site-packages\\tf_keras\\src\\losses.py:2976: The name tf.losses.sparse_softmax_cross_entropy is deprecated. Please use tf.compat.v1.losses.sparse_softmax_cross_entropy instead.\n",
      "\n",
      "WARNING:tensorflow:From C:\\Users\\Dell\\AppData\\Roaming\\Python\\Python312\\site-packages\\tf_keras\\src\\backend.py:873: The name tf.get_default_graph is deprecated. Please use tf.compat.v1.get_default_graph instead.\n",
      "\n"
     ]
    },
    {
     "name": "stderr",
     "output_type": "stream",
     "text": [
      "All PyTorch model weights were used when initializing TFT5ForConditionalGeneration.\n",
      "\n",
      "All the weights of TFT5ForConditionalGeneration were initialized from the PyTorch model.\n",
      "If your task is similar to the task the model of the checkpoint was trained on, you can already use TFT5ForConditionalGeneration for predictions without further training.\n"
     ]
    }
   ],
   "source": [
    "model_name = \"t5-small\"\n",
    "tokenizer = AutoTokenizer.from_pretrained(model_name)\n",
    "model = TFAutoModelForSeq2SeqLM.from_pretrained(model_name)"
   ]
  },
  {
   "cell_type": "markdown",
   "id": "3f65b51b",
   "metadata": {},
   "source": [
    "# News paragraph input"
   ]
  },
  {
   "cell_type": "code",
   "execution_count": 3,
   "id": "dc005424",
   "metadata": {},
   "outputs": [],
   "source": [
    "article = \"\"\"\n",
    "Scientists have discovered a new species of dinosaur in Argentina. The fossilized remains suggest the dinosaur was \n",
    "one of the largest to have ever walked the Earth, measuring over 120 feet long and weighing up to 70 tons.\n",
    "\"\"\""
   ]
  },
  {
   "cell_type": "markdown",
   "id": "64e062d0",
   "metadata": {},
   "source": [
    "# Format with headline prompt"
   ]
  },
  {
   "cell_type": "code",
   "execution_count": 4,
   "id": "c797379a",
   "metadata": {},
   "outputs": [],
   "source": [
    "input_text = \"headline: \" + article\n",
    "input_ids = tokenizer.encode(input_text, return_tensors=\"tf\", max_length=256, truncation=True)"
   ]
  },
  {
   "cell_type": "markdown",
   "id": "bc025864",
   "metadata": {},
   "source": [
    "# Generate headline"
   ]
  },
  {
   "cell_type": "code",
   "execution_count": 5,
   "id": "4d02ec04",
   "metadata": {},
   "outputs": [],
   "source": [
    "outputs = model.generate(input_ids, max_length=20, num_beams=4, early_stopping=True)\n",
    "headline = tokenizer.decode(outputs[0], skip_special_tokens=True)"
   ]
  },
  {
   "cell_type": "markdown",
   "id": "13db0e68",
   "metadata": {},
   "source": [
    "# Display result"
   ]
  },
  {
   "cell_type": "code",
   "execution_count": 6,
   "id": "c535fef1",
   "metadata": {},
   "outputs": [
    {
     "name": "stdout",
     "output_type": "stream",
     "text": [
      "📰 Article:\n",
      " Scientists have discovered a new species of dinosaur in Argentina. The fossilized remains suggest the dinosaur was \n",
      "one of the largest to have ever walked the Earth, measuring over 120 feet long and weighing up to 70 tons.\n",
      "\n",
      "🗞️ Generated Headline:\n",
      " scientists have discovered a new species of dinosaur in Argentina.\n"
     ]
    }
   ],
   "source": [
    "print(\"📰 Article:\\n\", article.strip())\n",
    "print(\"\\n🗞️ Generated Headline:\\n\", headline)"
   ]
  }
 ],
 "metadata": {
  "kernelspec": {
   "display_name": "Python 3",
   "language": "python",
   "name": "python3"
  },
  "language_info": {
   "codemirror_mode": {
    "name": "ipython",
    "version": 3
   },
   "file_extension": ".py",
   "mimetype": "text/x-python",
   "name": "python",
   "nbconvert_exporter": "python",
   "pygments_lexer": "ipython3",
   "version": "3.12.5"
  }
 },
 "nbformat": 4,
 "nbformat_minor": 5
}
