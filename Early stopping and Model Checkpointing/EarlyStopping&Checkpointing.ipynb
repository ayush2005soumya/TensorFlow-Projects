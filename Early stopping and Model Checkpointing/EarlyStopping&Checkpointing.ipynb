{
 "cells": [
  {
   "cell_type": "code",
   "execution_count": 1,
   "id": "9c39d468",
   "metadata": {},
   "outputs": [],
   "source": [
    "import tensorflow as tf\n",
    "import numpy as np\n",
    "import os"
   ]
  },
  {
   "cell_type": "markdown",
   "id": "2cae66e6",
   "metadata": {},
   "source": [
    "# Create synthetic regression data"
   ]
  },
  {
   "cell_type": "code",
   "execution_count": 2,
   "id": "7066ff0b",
   "metadata": {},
   "outputs": [],
   "source": [
    "X = np.linspace(0, 10, 300).reshape(-1, 1).astype(np.float32)         # Inputs from 0 to 10\n",
    "y = 2 * X + 3 + np.random.randn(*X.shape) * 0.5                       # Target with noise"
   ]
  },
  {
   "cell_type": "markdown",
   "id": "88359e7c",
   "metadata": {},
   "source": [
    "# Define a simple feedforward model"
   ]
  },
  {
   "cell_type": "code",
   "execution_count": 3,
   "id": "5c88f4f0",
   "metadata": {},
   "outputs": [
    {
     "name": "stderr",
     "output_type": "stream",
     "text": [
      "c:\\Users\\Dell\\AppData\\Local\\Programs\\Python\\Python312\\Lib\\site-packages\\keras\\src\\layers\\core\\dense.py:87: UserWarning: Do not pass an `input_shape`/`input_dim` argument to a layer. When using Sequential models, prefer using an `Input(shape)` object as the first layer in the model instead.\n",
      "  super().__init__(activity_regularizer=activity_regularizer, **kwargs)\n"
     ]
    }
   ],
   "source": [
    "model = tf.keras.Sequential([\n",
    "    tf.keras.layers.Dense(64, activation='relu', input_shape=[1]),   # Hidden layer\n",
    "    tf.keras.layers.Dense(1)                                         # Output layer\n",
    "])"
   ]
  },
  {
   "cell_type": "markdown",
   "id": "0a9497d5",
   "metadata": {},
   "source": [
    "# Compile with MSE loss and Adam optimizer"
   ]
  },
  {
   "cell_type": "code",
   "execution_count": 4,
   "id": "d0c38aaa",
   "metadata": {},
   "outputs": [],
   "source": [
    "model.compile(optimizer='adam', loss='mse', metrics=['mae'])         # Mean Absolute Error as metric"
   ]
  },
  {
   "cell_type": "markdown",
   "id": "4b256497",
   "metadata": {},
   "source": [
    "# Setup callbacks: EarlyStopping and ModelCheckpoint"
   ]
  },
  {
   "cell_type": "code",
   "execution_count": 6,
   "id": "9c3962d7",
   "metadata": {},
   "outputs": [],
   "source": [
    "early_stop = tf.keras.callbacks.EarlyStopping(patience=10, restore_best_weights=True) # Stop if no improvement\n",
    "checkpoint_path = \"best_model.keras\"                                  # Path to save best model\n",
    "checkpoint = tf.keras.callbacks.ModelCheckpoint(checkpoint_path, save_best_only=True)"
   ]
  },
  {
   "cell_type": "markdown",
   "id": "bdd8732d",
   "metadata": {},
   "source": [
    "# Train with callbacks"
   ]
  },
  {
   "cell_type": "code",
   "execution_count": 8,
   "id": "9a27c57d",
   "metadata": {},
   "outputs": [],
   "source": [
    "history = model.fit(X, y, epochs=100, validation_split=0.2,\n",
    "                    callbacks=[early_stop, checkpoint], verbose=0)\n"
   ]
  },
  {
   "cell_type": "markdown",
   "id": "f757ae5f",
   "metadata": {},
   "source": [
    "# Load best model weights (optional — already restored if early_stop.restore_best_weights=True)"
   ]
  },
  {
   "cell_type": "code",
   "execution_count": 9,
   "id": "ae4f70b8",
   "metadata": {},
   "outputs": [],
   "source": [
    "model.load_weights(checkpoint_path)"
   ]
  },
  {
   "cell_type": "markdown",
   "id": "a0b5de29",
   "metadata": {},
   "source": [
    "# Evaluate final model"
   ]
  },
  {
   "cell_type": "code",
   "execution_count": 10,
   "id": "6951a328",
   "metadata": {},
   "outputs": [
    {
     "name": "stdout",
     "output_type": "stream",
     "text": [
      "Final MAE: 0.742\n"
     ]
    }
   ],
   "source": [
    "loss, mae = model.evaluate(X, y, verbose=0)\n",
    "print(f\"Final MAE: {mae:.3f}\")"
   ]
  }
 ],
 "metadata": {
  "kernelspec": {
   "display_name": "Python 3",
   "language": "python",
   "name": "python3"
  },
  "language_info": {
   "codemirror_mode": {
    "name": "ipython",
    "version": 3
   },
   "file_extension": ".py",
   "mimetype": "text/x-python",
   "name": "python",
   "nbconvert_exporter": "python",
   "pygments_lexer": "ipython3",
   "version": "3.12.5"
  }
 },
 "nbformat": 4,
 "nbformat_minor": 5
}
