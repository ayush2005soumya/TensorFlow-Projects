{
 "cells": [
  {
   "cell_type": "code",
   "execution_count": 1,
   "id": "08263af2",
   "metadata": {},
   "outputs": [],
   "source": [
    "import tensorflow as tf\n",
    "import numpy as np"
   ]
  },
  {
   "cell_type": "markdown",
   "id": "4fcf52fd",
   "metadata": {},
   "source": [
    "# Sample tokenized sentence (already converted to integers)"
   ]
  },
  {
   "cell_type": "code",
   "execution_count": 2,
   "id": "d7fa6b84",
   "metadata": {},
   "outputs": [],
   "source": [
    "sample_input = tf.constant([[3, 5, 7, 9, 0, 0]])  # Padded sequence of length 6\n",
    "vocab_size = 20\n",
    "maxlen = 6\n",
    "embed_dim = 64\n",
    "num_heads = 4\n",
    "ff_dim = 128"
   ]
  },
  {
   "cell_type": "markdown",
   "id": "fb12a722",
   "metadata": {},
   "source": [
    "# Positional Encoding Layer"
   ]
  },
  {
   "cell_type": "code",
   "execution_count": 6,
   "id": "3cf580d8",
   "metadata": {},
   "outputs": [],
   "source": [
    "# class PositionalEncoding(tf.keras.layers.Layer):\n",
    "#     def call(self, inputs):\n",
    "#         seq_len = tf.shape(inputs)[1]\n",
    "#         position = tf.range(seq_len, dtype=tf.float32)[tf.newaxis, :, tf.newaxis]\n",
    "#         i = tf.range(embed_dim, dtype=tf.float32)[tf.newaxis, tf.newaxis, :]\n",
    "#         angle_rates = 1 / tf.pow(10000.0, (2 * (i // 2)) / tf.cast(embed_dim, tf.float32))\n",
    "#         angle_rads = position * angle_rates\n",
    "#         angle_rads[:, :, 0::2] = tf.math.sin(angle_rads[:, :, 0::2])\n",
    "#         angle_rads[:, :, 1::2] = tf.math.cos(angle_rads[:, :, 1::2])\n",
    "#         return inputs + tf.cast(angle_rads, tf.float32)\n",
    "\n",
    "\n",
    "class PositionalEncoding(tf.keras.layers.Layer):\n",
    "    def __init__(self):\n",
    "        super(PositionalEncoding, self).__init__()\n",
    "\n",
    "    def call(self, inputs):\n",
    "        seq_len = tf.shape(inputs)[1]\n",
    "        embed_dim = tf.shape(inputs)[2]\n",
    "\n",
    "        position = tf.cast(tf.range(seq_len)[:, tf.newaxis], tf.float32)\n",
    "        i = tf.cast(tf.range(embed_dim)[tf.newaxis, :], tf.float32)\n",
    "\n",
    "        angle_rates = 1 / tf.pow(10000.0, (2 * (i // 2)) / tf.cast(embed_dim, tf.float32))\n",
    "        angle_rads = position * angle_rates\n",
    "\n",
    "        # Apply sin to even indices (0::2) and cos to odd indices (1::2)\n",
    "        sines = tf.math.sin(angle_rads[:, 0::2])\n",
    "        cosines = tf.math.cos(angle_rads[:, 1::2])\n",
    "\n",
    "        # Interleave sines and cosines\n",
    "        even_indices = tf.expand_dims(sines, axis=-1)\n",
    "        odd_indices = tf.expand_dims(cosines, axis=-1)\n",
    "\n",
    "        # Combine along last axis\n",
    "        pos_encoding = tf.concat([even_indices, odd_indices], axis=-1)\n",
    "        pos_encoding = tf.reshape(pos_encoding, [seq_len, embed_dim])\n",
    "        pos_encoding = tf.expand_dims(pos_encoding, axis=0)  # Shape: (1, seq_len, embed_dim)\n",
    "\n",
    "        return inputs + tf.cast(pos_encoding, tf.float32)"
   ]
  },
  {
   "cell_type": "markdown",
   "id": "cb4ff3fb",
   "metadata": {},
   "source": [
    "# Transformer Encoder Block"
   ]
  },
  {
   "cell_type": "code",
   "execution_count": 7,
   "id": "9bcaf98a",
   "metadata": {},
   "outputs": [],
   "source": [
    "class TransformerEncoder(tf.keras.layers.Layer):\n",
    "    def __init__(self, embed_dim, num_heads, ff_dim):\n",
    "        super().__init__()\n",
    "        self.att = tf.keras.layers.MultiHeadAttention(num_heads=num_heads, key_dim=embed_dim)\n",
    "        self.ffn = tf.keras.Sequential([\n",
    "            tf.keras.layers.Dense(ff_dim, activation='relu'),\n",
    "            tf.keras.layers.Dense(embed_dim),\n",
    "        ])\n",
    "        self.norm1 = tf.keras.layers.LayerNormalization()\n",
    "        self.norm2 = tf.keras.layers.LayerNormalization()\n",
    " \n",
    "    def call(self, x):\n",
    "        attn_output = self.att(x, x)                         # Self-attention\n",
    "        out1 = self.norm1(x + attn_output)                   # Add & norm\n",
    "        ffn_output = self.ffn(out1)                          # Feed-forward network\n",
    "        return self.norm2(out1 + ffn_output)                 # Add & norm"
   ]
  },
  {
   "cell_type": "markdown",
   "id": "04742d4d",
   "metadata": {},
   "source": [
    "# Define the full encoder model"
   ]
  },
  {
   "cell_type": "code",
   "execution_count": 8,
   "id": "3d53fe26",
   "metadata": {},
   "outputs": [],
   "source": [
    "inputs = tf.keras.Input(shape=(maxlen,))\n",
    "x = tf.keras.layers.Embedding(input_dim=vocab_size, output_dim=embed_dim)(inputs)   # Word embeddings\n",
    "x = PositionalEncoding()(x)                                                         # Add positional encoding\n",
    "x = TransformerEncoder(embed_dim, num_heads, ff_dim)(x)                             # Transformer block\n",
    " \n",
    "model = tf.keras.Model(inputs, x)"
   ]
  },
  {
   "cell_type": "markdown",
   "id": "cecaf236",
   "metadata": {},
   "source": [
    "# Run the model on the sample input"
   ]
  },
  {
   "cell_type": "code",
   "execution_count": 9,
   "id": "57c29996",
   "metadata": {},
   "outputs": [
    {
     "name": "stdout",
     "output_type": "stream",
     "text": [
      "Output Embedding Shape: (1, 6, 64)\n",
      "Token Embedding for first token: [-1.016  0.487 -1.261 -0.092 -0.551]\n"
     ]
    }
   ],
   "source": [
    "output_embeddings = model(sample_input)\n",
    "print(\"Output Embedding Shape:\", output_embeddings.shape)\n",
    "print(\"Token Embedding for first token:\", output_embeddings[0, 0, :5].numpy().round(3))"
   ]
  }
 ],
 "metadata": {
  "kernelspec": {
   "display_name": "Python 3",
   "language": "python",
   "name": "python3"
  },
  "language_info": {
   "codemirror_mode": {
    "name": "ipython",
    "version": 3
   },
   "file_extension": ".py",
   "mimetype": "text/x-python",
   "name": "python",
   "nbconvert_exporter": "python",
   "pygments_lexer": "ipython3",
   "version": "3.12.5"
  }
 },
 "nbformat": 4,
 "nbformat_minor": 5
}
