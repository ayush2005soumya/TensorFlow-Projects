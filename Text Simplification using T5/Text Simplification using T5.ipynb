{
 "cells": [
  {
   "cell_type": "code",
   "execution_count": 1,
   "id": "4cbb23c8",
   "metadata": {},
   "outputs": [],
   "source": [
    "from transformers import TFAutoModelForSeq2SeqLM, AutoTokenizer\n",
    "import tensorflow as tf"
   ]
  },
  {
   "cell_type": "markdown",
   "id": "2bf245b2",
   "metadata": {},
   "source": [
    "# Load T5 model and tokenizer"
   ]
  },
  {
   "cell_type": "code",
   "execution_count": 2,
   "id": "96cddd85",
   "metadata": {},
   "outputs": [
    {
     "name": "stdout",
     "output_type": "stream",
     "text": [
      "WARNING:tensorflow:From C:\\Users\\Dell\\AppData\\Roaming\\Python\\Python312\\site-packages\\tf_keras\\src\\losses.py:2976: The name tf.losses.sparse_softmax_cross_entropy is deprecated. Please use tf.compat.v1.losses.sparse_softmax_cross_entropy instead.\n",
      "\n",
      "WARNING:tensorflow:From C:\\Users\\Dell\\AppData\\Roaming\\Python\\Python312\\site-packages\\tf_keras\\src\\backend.py:873: The name tf.get_default_graph is deprecated. Please use tf.compat.v1.get_default_graph instead.\n",
      "\n"
     ]
    },
    {
     "name": "stderr",
     "output_type": "stream",
     "text": [
      "All PyTorch model weights were used when initializing TFT5ForConditionalGeneration.\n",
      "\n",
      "All the weights of TFT5ForConditionalGeneration were initialized from the PyTorch model.\n",
      "If your task is similar to the task the model of the checkpoint was trained on, you can already use TFT5ForConditionalGeneration for predictions without further training.\n"
     ]
    }
   ],
   "source": [
    "model_name = \"t5-small\"\n",
    "tokenizer = AutoTokenizer.from_pretrained(model_name)\n",
    "model = TFAutoModelForSeq2SeqLM.from_pretrained(model_name)"
   ]
  },
  {
   "cell_type": "markdown",
   "id": "02f72b8c",
   "metadata": {},
   "source": [
    "# Input complex sentence"
   ]
  },
  {
   "cell_type": "code",
   "execution_count": 3,
   "id": "b38fbb38",
   "metadata": {},
   "outputs": [],
   "source": [
    "text = \"The precipitation will persist throughout the afternoon, primarily impacting regions with lower atmospheric pressure.\""
   ]
  },
  {
   "cell_type": "markdown",
   "id": "4b616dcd",
   "metadata": {},
   "source": [
    "# Add simplification prompt"
   ]
  },
  {
   "cell_type": "code",
   "execution_count": 4,
   "id": "789df5da",
   "metadata": {},
   "outputs": [],
   "source": [
    "input_text = \"simplify: \" + text\n",
    "input_ids = tokenizer.encode(input_text, return_tensors=\"tf\", max_length=128, truncation=True)"
   ]
  },
  {
   "cell_type": "markdown",
   "id": "98c2817c",
   "metadata": {},
   "source": [
    "# Generate simplified output"
   ]
  },
  {
   "cell_type": "code",
   "execution_count": 5,
   "id": "04ef7ad7",
   "metadata": {},
   "outputs": [],
   "source": [
    "outputs = model.generate(\n",
    "    input_ids,\n",
    "    max_length=50,\n",
    "    num_beams=4,\n",
    "    early_stopping=True\n",
    ")\n",
    "simplified = tokenizer.decode(outputs[0], skip_special_tokens=True)"
   ]
  },
  {
   "cell_type": "markdown",
   "id": "9c713669",
   "metadata": {},
   "source": [
    "# Display result"
   ]
  },
  {
   "cell_type": "code",
   "execution_count": 6,
   "id": "f663f0d0",
   "metadata": {},
   "outputs": [
    {
     "name": "stdout",
     "output_type": "stream",
     "text": [
      "📚 Original Text:\n",
      " The precipitation will persist throughout the afternoon, primarily impacting regions with lower atmospheric pressure.\n",
      "\n",
      "🧾 Simplified Version:\n",
      " : The precipitation will persist throughout the afternoon, primarily impacting regions with lower atmospheric pressure.\n"
     ]
    }
   ],
   "source": [
    "print(\"📚 Original Text:\\n\", text)\n",
    "print(\"\\n🧾 Simplified Version:\\n\", simplified)"
   ]
  }
 ],
 "metadata": {
  "kernelspec": {
   "display_name": "Python 3",
   "language": "python",
   "name": "python3"
  },
  "language_info": {
   "codemirror_mode": {
    "name": "ipython",
    "version": 3
   },
   "file_extension": ".py",
   "mimetype": "text/x-python",
   "name": "python",
   "nbconvert_exporter": "python",
   "pygments_lexer": "ipython3",
   "version": "3.12.5"
  }
 },
 "nbformat": 4,
 "nbformat_minor": 5
}
