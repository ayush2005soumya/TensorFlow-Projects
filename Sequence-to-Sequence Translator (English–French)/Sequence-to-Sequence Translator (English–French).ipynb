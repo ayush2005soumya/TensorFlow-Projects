{
 "cells": [
  {
   "cell_type": "code",
   "execution_count": 53,
   "id": "4e706a70",
   "metadata": {},
   "outputs": [],
   "source": [
    "import tensorflow as tf\n",
    "import numpy as np"
   ]
  },
  {
   "cell_type": "markdown",
   "id": "caafdfb9",
   "metadata": {},
   "source": [
    "# Sample parallel corpus (tiny for demo)"
   ]
  },
  {
   "cell_type": "code",
   "execution_count": 54,
   "id": "663c429f",
   "metadata": {},
   "outputs": [],
   "source": [
    "english_sentences = [\"hello\", \"how are you\", \"thank you\", \"good night\"]\n",
    "french_sentences = [\"bonjour\", \"comment ça va\", \"merci\", \"bonne nuit\"]\n",
    "french_sentences = [f\"<start> {s} <end>\" for s in french_sentences]"
   ]
  },
  {
   "cell_type": "markdown",
   "id": "894fca1a",
   "metadata": {},
   "source": [
    "# Tokenize source (English)"
   ]
  },
  {
   "cell_type": "code",
   "execution_count": 55,
   "id": "55e190d1",
   "metadata": {},
   "outputs": [],
   "source": [
    "src_tokenizer = tf.keras.preprocessing.text.Tokenizer(filters='')\n",
    "src_tokenizer.fit_on_texts(english_sentences)\n",
    "src_sequences = src_tokenizer.texts_to_sequences(english_sentences)\n",
    "src_word_index = src_tokenizer.word_index\n",
    "src_vocab_size = len(src_word_index) + 1"
   ]
  },
  {
   "cell_type": "markdown",
   "id": "30c2bb2e",
   "metadata": {},
   "source": [
    "# Tokenize target (French) and add <start>, <end> tokens"
   ]
  },
  {
   "cell_type": "code",
   "execution_count": null,
   "id": "994c94f7",
   "metadata": {},
   "outputs": [],
   "source": [
    "tgt_tokenizer = tf.keras.preprocessing.text.Tokenizer(filters='')\n",
    "tgt_tokenizer.fit_on_texts(french_sentences)\n",
    "tgt_sequences = tgt_tokenizer.texts_to_sequences(french_sentences)\n",
    "tgt_word_index = tgt_tokenizer.word_index\n",
    "tgt_index_word = {v: k for k, v in tgt_word_index.items()}\n",
    "tgt_vocab_size = len(tgt_word_index) + 1"
   ]
  },
  {
   "cell_type": "markdown",
   "id": "9e91c9fb",
   "metadata": {},
   "source": [
    "# Pad sequences"
   ]
  },
  {
   "cell_type": "code",
   "execution_count": 57,
   "id": "80e4efd6",
   "metadata": {},
   "outputs": [],
   "source": [
    "src_padded = tf.keras.preprocessing.sequence.pad_sequences(src_sequences, padding='post')\n",
    "tgt_padded = tf.keras.preprocessing.sequence.pad_sequences(tgt_sequences, padding='post')"
   ]
  },
  {
   "cell_type": "markdown",
   "id": "eead3d4d",
   "metadata": {},
   "source": [
    "# Split target into decoder input and output"
   ]
  },
  {
   "cell_type": "code",
   "execution_count": 58,
   "id": "95027367",
   "metadata": {},
   "outputs": [],
   "source": [
    "decoder_input = tgt_padded[:, :-1]\n",
    "decoder_target = tf.keras.utils.to_categorical(tgt_padded[:, 1:], num_classes=tgt_vocab_size)"
   ]
  },
  {
   "cell_type": "markdown",
   "id": "86e31239",
   "metadata": {},
   "source": [
    "# Define the Seq2Seq model"
   ]
  },
  {
   "cell_type": "code",
   "execution_count": 59,
   "id": "716c0268",
   "metadata": {},
   "outputs": [],
   "source": [
    "embedding_dim = 64\n",
    "latent_dim = 64\n",
    "\n",
    "encoder_inputs = tf.keras.Input(shape=(None,))\n",
    "enc_emb = tf.keras.layers.Embedding(src_vocab_size, embedding_dim)(encoder_inputs)\n",
    "encoder_outputs, state_h, state_c = tf.keras.layers.LSTM(latent_dim, return_state=True)(enc_emb)\n",
    " \n",
    "decoder_inputs = tf.keras.Input(shape=(None,))\n",
    "dec_emb_layer = tf.keras.layers.Embedding(tgt_vocab_size, embedding_dim)\n",
    "dec_emb = dec_emb_layer(decoder_inputs)\n",
    "decoder_lstm = tf.keras.layers.LSTM(latent_dim, return_sequences=True, return_state=True)\n",
    "decoder_outputs, _, _ = decoder_lstm(dec_emb, initial_state=[state_h, state_c])\n",
    "decoder_dense = tf.keras.layers.Dense(tgt_vocab_size, activation='softmax')\n",
    "decoder_outputs = decoder_dense(decoder_outputs)"
   ]
  },
  {
   "cell_type": "markdown",
   "id": "3ebd45fb",
   "metadata": {},
   "source": [
    "# Compile and train"
   ]
  },
  {
   "cell_type": "code",
   "execution_count": 60,
   "id": "f3759b0b",
   "metadata": {},
   "outputs": [
    {
     "data": {
      "text/plain": [
       "<keras.src.callbacks.history.History at 0x26dbed07080>"
      ]
     },
     "execution_count": 60,
     "metadata": {},
     "output_type": "execute_result"
    }
   ],
   "source": [
    "model = tf.keras.Model([encoder_inputs, decoder_inputs], decoder_outputs)\n",
    "model.compile(optimizer='adam', loss='categorical_crossentropy', metrics=['accuracy'])\n",
    "model.fit([src_padded, decoder_input], decoder_target, epochs=300, verbose=0)"
   ]
  },
  {
   "cell_type": "markdown",
   "id": "a5c80d36",
   "metadata": {},
   "source": [
    "# Inference models"
   ]
  },
  {
   "cell_type": "code",
   "execution_count": 61,
   "id": "4a9c5573",
   "metadata": {},
   "outputs": [],
   "source": [
    "# Encoder model\n",
    "encoder_model = tf.keras.Model(encoder_inputs, [state_h, state_c])\n",
    "\n",
    "# Decoder model (for inference)\n",
    "decoder_state_input_h = tf.keras.Input(shape=(latent_dim,))\n",
    "decoder_state_input_c = tf.keras.Input(shape=(latent_dim,))\n",
    "decoder_inputs_inf = tf.keras.Input(shape=(None,))\n",
    "dec_emb2 = dec_emb_layer(decoder_inputs_inf)\n",
    "decoder_outputs2, h, c = decoder_lstm(dec_emb2, initial_state=[decoder_state_input_h, decoder_state_input_c])\n",
    "decoder_outputs2 = decoder_dense(decoder_outputs2)\n",
    "\n",
    "decoder_model = tf.keras.Model(\n",
    "    [decoder_inputs_inf, decoder_state_input_h, decoder_state_input_c],\n",
    "    [decoder_outputs2, h, c]\n",
    ")\n"
   ]
  },
  {
   "cell_type": "markdown",
   "id": "4164a7a4",
   "metadata": {},
   "source": [
    "# Inference: simple translation (just index decoding here)"
   ]
  },
  {
   "cell_type": "code",
   "execution_count": 62,
   "id": "a37cd201",
   "metadata": {},
   "outputs": [],
   "source": [
    "def translate(input_text):\n",
    "    seq = src_tokenizer.texts_to_sequences([input_text])\n",
    "    seq = tf.keras.preprocessing.sequence.pad_sequences(seq, maxlen=src_padded.shape[1], padding='post')\n",
    "\n",
    "    h, c = encoder_model.predict(seq)\n",
    "\n",
    "    target_seq = np.array([[tgt_word_index['<start>']]])\n",
    "    stop_condition = False\n",
    "    decoded_sentence = []\n",
    "\n",
    "    while not stop_condition:\n",
    "        output_tokens, h, c = decoder_model.predict([target_seq, h, c])\n",
    "        sampled_token_index = np.argmax(output_tokens[0, -1, :])\n",
    "        sampled_word = tgt_index_word.get(sampled_token_index, '')\n",
    "\n",
    "        if sampled_word == '<end>' or len(decoded_sentence) > 10:\n",
    "            stop_condition = True\n",
    "        else:\n",
    "            decoded_sentence.append(sampled_word)\n",
    "            target_seq = np.array([[sampled_token_index]])\n",
    "\n",
    "    return ' '.join(decoded_sentence)\n"
   ]
  },
  {
   "cell_type": "markdown",
   "id": "3a209322",
   "metadata": {},
   "source": [
    "# Test translation"
   ]
  },
  {
   "cell_type": "code",
   "execution_count": 63,
   "id": "390fac29",
   "metadata": {},
   "outputs": [
    {
     "name": "stdout",
     "output_type": "stream",
     "text": [
      "\u001b[1m1/1\u001b[0m \u001b[32m━━━━━━━━━━━━━━━━━━━━\u001b[0m\u001b[37m\u001b[0m \u001b[1m0s\u001b[0m 130ms/step\n",
      "\u001b[1m1/1\u001b[0m \u001b[32m━━━━━━━━━━━━━━━━━━━━\u001b[0m\u001b[37m\u001b[0m \u001b[1m0s\u001b[0m 115ms/step\n",
      "\u001b[1m1/1\u001b[0m \u001b[32m━━━━━━━━━━━━━━━━━━━━\u001b[0m\u001b[37m\u001b[0m \u001b[1m0s\u001b[0m 118ms/step\n",
      "Translate 'thank you': merci\n",
      "\u001b[1m1/1\u001b[0m \u001b[32m━━━━━━━━━━━━━━━━━━━━\u001b[0m\u001b[37m\u001b[0m \u001b[1m0s\u001b[0m 29ms/step\n",
      "\u001b[1m1/1\u001b[0m \u001b[32m━━━━━━━━━━━━━━━━━━━━\u001b[0m\u001b[37m\u001b[0m \u001b[1m0s\u001b[0m 33ms/step\n",
      "\u001b[1m1/1\u001b[0m \u001b[32m━━━━━━━━━━━━━━━━━━━━\u001b[0m\u001b[37m\u001b[0m \u001b[1m0s\u001b[0m 33ms/step\n",
      "\u001b[1m1/1\u001b[0m \u001b[32m━━━━━━━━━━━━━━━━━━━━\u001b[0m\u001b[37m\u001b[0m \u001b[1m0s\u001b[0m 35ms/step\n",
      "Translate 'good night': bonne nuit\n",
      "\u001b[1m1/1\u001b[0m \u001b[32m━━━━━━━━━━━━━━━━━━━━\u001b[0m\u001b[37m\u001b[0m \u001b[1m0s\u001b[0m 36ms/step\n",
      "\u001b[1m1/1\u001b[0m \u001b[32m━━━━━━━━━━━━━━━━━━━━\u001b[0m\u001b[37m\u001b[0m \u001b[1m0s\u001b[0m 41ms/step\n",
      "\u001b[1m1/1\u001b[0m \u001b[32m━━━━━━━━━━━━━━━━━━━━\u001b[0m\u001b[37m\u001b[0m \u001b[1m0s\u001b[0m 34ms/step\n",
      "Translate 'hello': bonjour\n"
     ]
    }
   ],
   "source": [
    "print(\"Translate 'thank you':\", translate(\"thank you\"))\n",
    "print(\"Translate 'good night':\", translate(\"good night\"))\n",
    "print(\"Translate 'hello':\", translate(\"hello\"))"
   ]
  }
 ],
 "metadata": {
  "kernelspec": {
   "display_name": "Python 3",
   "language": "python",
   "name": "python3"
  },
  "language_info": {
   "codemirror_mode": {
    "name": "ipython",
    "version": 3
   },
   "file_extension": ".py",
   "mimetype": "text/x-python",
   "name": "python",
   "nbconvert_exporter": "python",
   "pygments_lexer": "ipython3",
   "version": "3.12.5"
  }
 },
 "nbformat": 4,
 "nbformat_minor": 5
}
