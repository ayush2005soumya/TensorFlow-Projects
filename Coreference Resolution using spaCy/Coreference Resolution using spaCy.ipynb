{
 "cells": [
  {
   "cell_type": "code",
   "execution_count": null,
   "id": "b0595933",
   "metadata": {},
   "outputs": [],
   "source": [
    "import spacy\n",
    " \n",
    "# Load spaCy model with coreferee extension\n",
    "nlp = spacy.load(\"en_core_web_sm\")\n",
    "import coreferee\n",
    "nlp.add_pipe('coreferee')\n",
    " \n",
    "# Input text with pronouns\n",
    "text = \"Angela went to the market. She bought some apples. Then she met her friend.\"\n",
    " \n",
    "# Run coreference resolution\n",
    "doc = nlp(text)\n",
    " \n",
    "# Display coreference clusters\n",
    "print(\"📄 Original Text:\\n\", text)\n",
    "print(\"\\n🔗 Coreference Clusters:\")\n",
    "for chain in doc._.coref_chains:\n",
    "    mentions = [doc[span.start:span.end].text for span in chain]\n",
    "    print(\" → \".join(mentions))"
   ]
  }
 ],
 "metadata": {
  "kernelspec": {
   "display_name": "Python 3",
   "language": "python",
   "name": "python3"
  },
  "language_info": {
   "codemirror_mode": {
    "name": "ipython",
    "version": 3
   },
   "file_extension": ".py",
   "mimetype": "text/x-python",
   "name": "python",
   "nbconvert_exporter": "python",
   "pygments_lexer": "ipython3",
   "version": "3.12.5"
  }
 },
 "nbformat": 4,
 "nbformat_minor": 5
}
