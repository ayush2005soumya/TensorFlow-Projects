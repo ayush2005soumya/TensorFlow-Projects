{
 "cells": [
  {
   "cell_type": "code",
   "execution_count": 14,
   "id": "6fc16a8b",
   "metadata": {},
   "outputs": [],
   "source": [
    "import tensorflow as tf\n",
    "import tensorflow_hub as hub\n",
    "import tensorflow_datasets as tfds\n",
    "import matplotlib.pyplot as plt\n",
    "import numpy as np"
   ]
  },
  {
   "cell_type": "markdown",
   "id": "f843ceed",
   "metadata": {},
   "source": [
    "# Load a pretrained model from TensorFlow Hub"
   ]
  },
  {
   "cell_type": "code",
   "execution_count": null,
   "id": "7a1e0f5d",
   "metadata": {},
   "outputs": [],
   "source": [
    "model_url = \"https://tfhub.dev/google/tf2-preview/mobilenet_v2/classification/4\"\n",
    "model = tf.keras.Sequential([\n",
    "    hub.KerasLayer(model_url, input_shape=(224, 224, 3))  # Ensure KerasLayer is properly initialized\n",
    "])"
   ]
  },
  {
   "cell_type": "markdown",
   "id": "6ef68aa2",
   "metadata": {},
   "source": [
    "# Load ImageNet labels for decoding predictions"
   ]
  },
  {
   "cell_type": "code",
   "execution_count": null,
   "id": "0f0c5245",
   "metadata": {},
   "outputs": [],
   "source": [
    "labels_path = tf.keras.utils.get_file(\n",
    "    'ImageNetLabels.txt',\n",
    "    'https://storage.googleapis.com/download.tensorflow.org/data/ImageNetLabels.txt'\n",
    ")\n",
    "imagenet_labels = np.array(open(labels_path).read().splitlines())  # Read labels into array"
   ]
  },
  {
   "cell_type": "markdown",
   "id": "b2305a2e",
   "metadata": {},
   "source": [
    "# Load and preprocess a sample image"
   ]
  },
  {
   "cell_type": "code",
   "execution_count": null,
   "id": "b51c19ec",
   "metadata": {},
   "outputs": [],
   "source": [
    "image_url = \"https://storage.googleapis.com/download.tensorflow.org/example_images/puppy.jpg\"\n",
    "image_path = tf.keras.utils.get_file(\"puppy.jpg\", origin=image_url)\n",
    " \n",
    "def load_and_preprocess_image(path):\n",
    "    img = tf.io.read_file(path)                         # Read image file\n",
    "    img = tf.image.decode_jpeg(img, channels=3)         # Decode JPEG\n",
    "    img = tf.image.resize(img, [224, 224])              # Resize to 224x224\n",
    "    img = img / 255.0                                   # Normalize pixel values\n",
    "    return tf.expand_dims(img, axis=0)                  # Add batch dimension\n",
    " \n",
    "image = load_and_preprocess_image(image_path)"
   ]
  },
  {
   "cell_type": "markdown",
   "id": "d073016c",
   "metadata": {},
   "source": [
    "# Predict class using the model"
   ]
  },
  {
   "cell_type": "code",
   "execution_count": null,
   "id": "61d1a0c4",
   "metadata": {},
   "outputs": [],
   "source": [
    "predictions = model(image)                              # Get prediction logits\n",
    "predicted_class = tf.argmax(predictions[0]).numpy()     # Get index of highest probability class\n",
    "predicted_label = imagenet_labels[predicted_class]      # Get class label from index"
   ]
  },
  {
   "cell_type": "markdown",
   "id": "ca6f9434",
   "metadata": {},
   "source": [
    "# Show result"
   ]
  },
  {
   "cell_type": "code",
   "execution_count": null,
   "id": "f6e4f58d",
   "metadata": {},
   "outputs": [],
   "source": [
    "plt.imshow(tf.squeeze(image))                           # Display the image\n",
    "plt.title(f\"Predicted: {predicted_label}\")\n",
    "plt.axis('off')\n",
    "plt.show()"
   ]
  }
 ],
 "metadata": {
  "kernelspec": {
   "display_name": "Python 3",
   "language": "python",
   "name": "python3"
  },
  "language_info": {
   "codemirror_mode": {
    "name": "ipython",
    "version": 3
   },
   "file_extension": ".py",
   "mimetype": "text/x-python",
   "name": "python",
   "nbconvert_exporter": "python",
   "pygments_lexer": "ipython3",
   "version": "3.12.5"
  }
 },
 "nbformat": 4,
 "nbformat_minor": 5
}
