{
 "cells": [
  {
   "cell_type": "code",
   "execution_count": 12,
   "id": "7e1bb618",
   "metadata": {},
   "outputs": [],
   "source": [
    "import re\n",
    "import collections"
   ]
  },
  {
   "cell_type": "markdown",
   "id": "5014ff0b",
   "metadata": {},
   "source": [
    "# Sample corpus text to build word frequency (can be replaced with large corpus)"
   ]
  },
  {
   "cell_type": "code",
   "execution_count": 13,
   "id": "dd67fea4",
   "metadata": {},
   "outputs": [],
   "source": [
    "corpus = \"\"\"\n",
    "machine learning is fun and powerful. machine learning algorithms are used everywhere.\n",
    "deep learning is a subset of machine learning. spelling mistakes can be corrected.mango is very sweet.\n",
    "\"\"\""
   ]
  },
  {
   "cell_type": "markdown",
   "id": "7b8d24d6",
   "metadata": {},
   "source": [
    "# Tokenize words"
   ]
  },
  {
   "cell_type": "code",
   "execution_count": 14,
   "id": "c14e4dba",
   "metadata": {},
   "outputs": [],
   "source": [
    "def words(text): \n",
    "    return re.findall(r'\\w+', text.lower())"
   ]
  },
  {
   "cell_type": "markdown",
   "id": "63d87e4d",
   "metadata": {},
   "source": [
    "# Build frequency dictionary"
   ]
  },
  {
   "cell_type": "code",
   "execution_count": 15,
   "id": "6f7380e6",
   "metadata": {},
   "outputs": [],
   "source": [
    "word_counts = collections.Counter(words(corpus))\n",
    "word_probs = {w: count / sum(word_counts.values()) for w, count in word_counts.items()}"
   ]
  },
  {
   "cell_type": "markdown",
   "id": "fdcef093",
   "metadata": {},
   "source": [
    "# Vocabulary"
   ]
  },
  {
   "cell_type": "code",
   "execution_count": 16,
   "id": "d60a0381",
   "metadata": {},
   "outputs": [],
   "source": [
    "WORDS = set(word_counts)"
   ]
  },
  {
   "cell_type": "markdown",
   "id": "87e40a4e",
   "metadata": {},
   "source": [
    "# Generate possible edits (1 edit distance away)"
   ]
  },
  {
   "cell_type": "code",
   "execution_count": 17,
   "id": "9b465bc5",
   "metadata": {},
   "outputs": [],
   "source": [
    "def edits1(word):\n",
    "    letters = 'abcdefghijklmnopqrstuvwxyz'\n",
    "    splits = [(word[:i], word[i:]) for i in range(len(word) + 1)]\n",
    "    deletes = [L + R[1:] for L, R in splits if R]\n",
    "    transposes = [L + R[1] + R[0] + R[2:] for L, R in splits if len(R) > 1]\n",
    "    replaces = [L + c + R[1:] for L, R in splits if R for c in letters]\n",
    "    inserts = [L + c + R for L, R in splits for c in letters]\n",
    "    return set(deletes + transposes + replaces + inserts)"
   ]
  },
  {
   "cell_type": "markdown",
   "id": "5c4f32af",
   "metadata": {},
   "source": [
    "# Known words from candidates"
   ]
  },
  {
   "cell_type": "code",
   "execution_count": 18,
   "id": "3aad4077",
   "metadata": {},
   "outputs": [],
   "source": [
    "def known(words): \n",
    "    return set(w for w in words if w in WORDS)"
   ]
  },
  {
   "cell_type": "markdown",
   "id": "6579c79d",
   "metadata": {},
   "source": [
    "# Generate candidates and rank by probability"
   ]
  },
  {
   "cell_type": "code",
   "execution_count": 19,
   "id": "aa3646ea",
   "metadata": {},
   "outputs": [],
   "source": [
    "def correct(word):\n",
    "    candidates = (known([word]) or \n",
    "                  known(edits1(word)) or \n",
    "                  [word])\n",
    "    return max(candidates, key=lambda w: word_probs.get(w, 0))"
   ]
  },
  {
   "cell_type": "markdown",
   "id": "6060dd33",
   "metadata": {},
   "source": [
    "# Test the model"
   ]
  },
  {
   "cell_type": "code",
   "execution_count": 20,
   "id": "e75bb4cf",
   "metadata": {},
   "outputs": [
    {
     "name": "stdout",
     "output_type": "stream",
     "text": [
      "machin → machine\n",
      "lerning → learning\n",
      "deeep → deep\n",
      "corected → corrected\n",
      "mongo → mango\n"
     ]
    }
   ],
   "source": [
    "misspelled = [\"machin\", \"lerning\", \"deeep\", \"corected\",\"mongo\"]\n",
    "for w in misspelled:\n",
    "    print(f\"{w} → {correct(w)}\")"
   ]
  }
 ],
 "metadata": {
  "kernelspec": {
   "display_name": "Python 3",
   "language": "python",
   "name": "python3"
  },
  "language_info": {
   "codemirror_mode": {
    "name": "ipython",
    "version": 3
   },
   "file_extension": ".py",
   "mimetype": "text/x-python",
   "name": "python",
   "nbconvert_exporter": "python",
   "pygments_lexer": "ipython3",
   "version": "3.12.5"
  }
 },
 "nbformat": 4,
 "nbformat_minor": 5
}
