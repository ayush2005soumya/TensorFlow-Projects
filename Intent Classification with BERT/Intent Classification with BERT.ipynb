{
 "cells": [
  {
   "cell_type": "code",
   "execution_count": 2,
   "id": "a501df86",
   "metadata": {},
   "outputs": [
    {
     "name": "stderr",
     "output_type": "stream",
     "text": [
      "Some weights of the PyTorch model were not used when initializing the TF 2.0 model TFBertModel: ['cls.seq_relationship.bias', 'cls.predictions.bias', 'cls.predictions.transform.dense.weight', 'cls.predictions.transform.LayerNorm.weight', 'cls.seq_relationship.weight', 'cls.predictions.transform.dense.bias', 'cls.predictions.transform.LayerNorm.bias']\n",
      "- This IS expected if you are initializing TFBertModel from a PyTorch model trained on another task or with another architecture (e.g. initializing a TFBertForSequenceClassification model from a BertForPreTraining model).\n",
      "- This IS NOT expected if you are initializing TFBertModel from a PyTorch model that you expect to be exactly identical (e.g. initializing a TFBertForSequenceClassification model from a BertForSequenceClassification model).\n",
      "All the weights of TFBertModel were initialized from the PyTorch model.\n",
      "If your task is similar to the task the model of the checkpoint was trained on, you can already use TFBertModel for predictions without further training.\n"
     ]
    },
    {
     "name": "stdout",
     "output_type": "stream",
     "text": [
      "1/1 [==============================] - 2s 2s/step\n",
      "🧑 Input: how to cancel my reservation?\n",
      "📌 Predicted Intent: Booking\n"
     ]
    }
   ],
   "source": [
    "import tensorflow as tf\n",
    "from transformers import TFAutoModel, AutoTokenizer\n",
    "import numpy as np\n",
    " \n",
    "# Sample intents dataset\n",
    "sentences = [\n",
    "    \"I want to book a flight to New York\",   # booking\n",
    "    \"Hey there!\",                            # greeting\n",
    "    \"What’s the weather like today?\",        # question\n",
    "    \"Can you help me cancel my ticket?\",     # cancel\n",
    "    \"Good morning, how are you?\"             # greeting\n",
    "]\n",
    "labels = [0, 1, 2, 3, 1]  # intent labels: 0=booking, 1=greeting, 2=question, 3=cancel\n",
    " \n",
    "# Load BERT base and tokenizer\n",
    "model_name = \"bert-base-uncased\"\n",
    "tokenizer = AutoTokenizer.from_pretrained(model_name)\n",
    "bert = TFAutoModel.from_pretrained(model_name)\n",
    " \n",
    "# Tokenize inputs\n",
    "tokens = tokenizer(sentences, padding=True, truncation=True, return_tensors='tf')\n",
    " \n",
    "# Build intent classification model\n",
    "input_ids = tf.keras.Input(shape=(None,), dtype=tf.int32, name=\"input_ids\")\n",
    "attention_mask = tf.keras.Input(shape=(None,), dtype=tf.int32, name=\"attention_mask\")\n",
    " \n",
    "bert_outputs = bert(input_ids, attention_mask=attention_mask)[1]  # [1] = pooled output\n",
    "x = tf.keras.layers.Dense(64, activation='relu')(bert_outputs)\n",
    "output = tf.keras.layers.Dense(4, activation='softmax')(x)  # 4 intent classes\n",
    " \n",
    "model = tf.keras.Model(inputs=[input_ids, attention_mask], outputs=output)\n",
    "model.compile(optimizer='adam', loss='sparse_categorical_crossentropy', metrics=['accuracy'])\n",
    " \n",
    "# Train the model\n",
    "model.fit(\n",
    "    {'input_ids': tokens['input_ids'], 'attention_mask': tokens['attention_mask']},\n",
    "    np.array(labels),\n",
    "    epochs=5,\n",
    "    verbose=0\n",
    ")\n",
    " \n",
    "# Inference\n",
    "test_input = \"how to cancel my reservation?\"\n",
    "test_tokens = tokenizer(test_input, return_tensors='tf', truncation=True, padding=True)\n",
    "pred = model.predict({'input_ids': test_tokens['input_ids'], 'attention_mask': test_tokens['attention_mask']})\n",
    "intent = [\"Booking\", \"Greeting\", \"Question\", \"Cancel\"][np.argmax(pred)]\n",
    "print(\"🧑 Input:\", test_input)\n",
    "print(\"📌 Predicted Intent:\", intent)\n"
   ]
  }
 ],
 "metadata": {
  "kernelspec": {
   "display_name": "Python 3",
   "language": "python",
   "name": "python3"
  },
  "language_info": {
   "codemirror_mode": {
    "name": "ipython",
    "version": 3
   },
   "file_extension": ".py",
   "mimetype": "text/x-python",
   "name": "python",
   "nbconvert_exporter": "python",
   "pygments_lexer": "ipython3",
   "version": "3.12.5"
  }
 },
 "nbformat": 4,
 "nbformat_minor": 5
}
