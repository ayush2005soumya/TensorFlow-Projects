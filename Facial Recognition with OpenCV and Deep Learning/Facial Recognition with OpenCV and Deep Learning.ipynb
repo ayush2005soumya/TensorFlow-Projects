{
 "cells": [
  {
   "cell_type": "code",
   "execution_count": 6,
   "id": "05f05e90",
   "metadata": {},
   "outputs": [],
   "source": [
    "import cv2\n",
    "import numpy as np\n",
    " \n",
    "# Load pre-trained face detector (Haar Cascade Classifier for faces)\n",
    "face_cascade = cv2.CascadeClassifier(cv2.data.haarcascades + 'haarcascade_frontalface_default.xml')\n",
    " \n",
    "# Initialize the camera (0 for default camera)\n",
    "cap = cv2.VideoCapture(0)\n",
    " \n",
    "# Load pre-trained deep learning model for face recognition (FaceNet)\n",
    "# This will use OpenCV's DNN module to load a pre-trained model like FaceNet or any other model for recognition\n",
    "net = cv2.dnn.readNetFromTorch(r\"G:\\MY PROJECTS\\nn4.small2.v1.t7\")  # Example: FaceNet model in Torch format\n",
    " \n",
    "while True:\n",
    "    ret, frame = cap.read()\n",
    "    \n",
    "    # Convert frame to grayscale for better face detection\n",
    "    gray = cv2.cvtColor(frame, cv2.COLOR_BGR2GRAY)\n",
    "    \n",
    "    # Detect faces in the image\n",
    "    faces = face_cascade.detectMultiScale(gray, 1.1, 4)\n",
    " \n",
    "    for (x, y, w, h) in faces:\n",
    "        # Draw a rectangle around each face\n",
    "        cv2.rectangle(frame, (x, y), (x + w, y + h), (255, 0, 0), 2)\n",
    " \n",
    "        # Extract face region from the frame\n",
    "        face = frame[y:y+h, x:x+w]\n",
    " \n",
    "        # Prepare the face for recognition using deep learning model (FaceNet example)\n",
    "        blob = cv2.dnn.blobFromImage(face, 1.0, (96, 96), (127.5, 127.5, 127.5), True, crop=False)\n",
    "        net.setInput(blob)\n",
    "        vec = net.forward()\n",
    " \n",
    "        # You can now compare 'vec' (the face encoding) with stored embeddings to identify the person\n",
    "        # For demonstration, we simply show the embeddings as a string in the window\n",
    "        cv2.putText(frame, str(vec), (x, y-10), cv2.FONT_HERSHEY_SIMPLEX, 0.5, (255, 255, 255), 1, cv2.LINE_AA)\n",
    " \n",
    "    # Show the image with faces and facial recognition embeddings\n",
    "    cv2.imshow('Face Recognition', frame)\n",
    " \n",
    "    # Break the loop on pressing 'q'\n",
    "    if cv2.waitKey(1) & 0xFF == ord('q'):\n",
    "        break\n",
    " \n",
    "# Release camera and close window\n",
    "cap.release()\n",
    "cv2.destroyAllWindows()"
   ]
  }
 ],
 "metadata": {
  "kernelspec": {
   "display_name": "Python 3",
   "language": "python",
   "name": "python3"
  },
  "language_info": {
   "codemirror_mode": {
    "name": "ipython",
    "version": 3
   },
   "file_extension": ".py",
   "mimetype": "text/x-python",
   "name": "python",
   "nbconvert_exporter": "python",
   "pygments_lexer": "ipython3",
   "version": "3.12.5"
  }
 },
 "nbformat": 4,
 "nbformat_minor": 5
}
