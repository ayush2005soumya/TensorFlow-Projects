{
 "cells": [
  {
   "cell_type": "code",
   "execution_count": 6,
   "id": "c32160ac",
   "metadata": {},
   "outputs": [
    {
     "name": "stderr",
     "output_type": "stream",
     "text": [
      "All PyTorch model weights were used when initializing TFT5ForConditionalGeneration.\n",
      "\n",
      "All the weights of TFT5ForConditionalGeneration were initialized from the PyTorch model.\n",
      "If your task is similar to the task the model of the checkpoint was trained on, you can already use TFT5ForConditionalGeneration for predictions without further training.\n"
     ]
    },
    {
     "name": "stdout",
     "output_type": "stream",
     "text": [
      "📄 Context:\n",
      " Albert Einstein was a physicist who developed the theory of relativity.\n",
      "\n",
      "❓Generated Question:\n",
      " Albert Einstein\n"
     ]
    }
   ],
   "source": [
    "from transformers import TFAutoModelForSeq2SeqLM, AutoTokenizer\n",
    "import tensorflow as tf\n",
    " \n",
    "# Load T5 model and tokenizer\n",
    "model_name = \"t5-small\"\n",
    "tokenizer = AutoTokenizer.from_pretrained(model_name)\n",
    "model = TFAutoModelForSeq2SeqLM.from_pretrained(model_name)\n",
    " \n",
    "# Input context (e.g., sentence from a passage)\n",
    "context = \"Albert Einstein was a physicist who developed the theory of relativity.\"\n",
    " \n",
    "# Format input for T5\n",
    "input_text = \"generate question: \" + context\n",
    "input_ids = tokenizer.encode(input_text, return_tensors=\"tf\")\n",
    " \n",
    "# Generate output\n",
    "outputs = model.generate(input_ids, max_length=32, num_beams=4, early_stopping=True)\n",
    "question = tokenizer.decode(outputs[0], skip_special_tokens=True)\n",
    " \n",
    "print(\"📄 Context:\\n\", context)\n",
    "print(\"\\n❓Generated Question:\\n\", question)\n"
   ]
  }
 ],
 "metadata": {
  "kernelspec": {
   "display_name": "Python 3",
   "language": "python",
   "name": "python3"
  },
  "language_info": {
   "codemirror_mode": {
    "name": "ipython",
    "version": 3
   },
   "file_extension": ".py",
   "mimetype": "text/x-python",
   "name": "python",
   "nbconvert_exporter": "python",
   "pygments_lexer": "ipython3",
   "version": "3.12.5"
  }
 },
 "nbformat": 4,
 "nbformat_minor": 5
}
