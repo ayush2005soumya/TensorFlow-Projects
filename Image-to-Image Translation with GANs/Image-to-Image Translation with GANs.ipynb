{
 "cells": [
  {
   "cell_type": "code",
   "execution_count": null,
   "id": "53ee2d30",
   "metadata": {},
   "outputs": [],
   "source": [
    "import tensorflow as tf\n",
    "import numpy as np\n",
    "import matplotlib.pyplot as plt\n",
    "from tensorflow.keras.layers import Input, Conv2D, Flatten, Dense, Reshape\n",
    "from tensorflow.keras.models import Model\n",
    " \n",
    "# Define the Generator Model (for image-to-image translation)\n",
    "def build_generator():\n",
    "    model = tf.keras.Sequential([\n",
    "        Input(shape=(256, 256, 3)),\n",
    "        Conv2D(64, (3, 3), strides=(2, 2), padding='same', activation='relu'),\n",
    "        Conv2D(128, (3, 3), strides=(2, 2), padding='same', activation='relu'),\n",
    "        Flatten(),\n",
    "        Dense(1024, activation='relu'),\n",
    "        Dense(256 * 256 * 3, activation='tanh'),\n",
    "        Reshape((256, 256, 3))\n",
    "    ])\n",
    "    return model\n",
    " \n",
    "# Define the Discriminator Model (to classify fake vs real images)\n",
    "def build_discriminator():\n",
    "    model = tf.keras.Sequential([\n",
    "        Input(shape=(256, 256, 3)),\n",
    "        Conv2D(64, (3, 3), strides=(2, 2), padding='same', activation='relu'),\n",
    "        Conv2D(128, (3, 3), strides=(2, 2), padding='same', activation='relu'),\n",
    "        Flatten(),\n",
    "        Dense(1, activation='sigmoid')\n",
    "    ])\n",
    "    return model\n",
    " \n",
    "# Build models\n",
    "generator = build_generator()\n",
    "discriminator = build_discriminator()\n",
    " \n",
    "# Compile the discriminator\n",
    "discriminator.compile(optimizer='adam', loss='binary_crossentropy', metrics=['accuracy'])\n",
    " \n",
    "# GAN Model (combines generator and discriminator)\n",
    "input_img = Input(shape=(256, 256, 3))\n",
    "generated_img = generator(input_img)\n",
    "discriminator.trainable = False  # Freeze discriminator during generator training\n",
    "validity = discriminator(generated_img)\n",
    " \n",
    "gan_model = Model(input_img, validity)\n",
    "gan_model.compile(optimizer='adam', loss='binary_crossentropy')\n",
    " \n",
    "# Generate a sample random image (for demonstration purposes)\n",
    "sample_input = r\"C:\\Users\\Dell\\OneDrive\\Pictures\\Screenshots\\Screenshot 2025-03-29 190123.png\"  # Random noise input (replace with actual image data)\n",
    "generated_img = generator.predict(sample_input)\n",
    " \n",
    "# Plot generated image\n",
    "plt.imshow(generated_img[0])\n",
    "plt.title(\"Generated Image (Image-to-Image Translation)\")\n",
    "plt.axis('off')\n",
    "plt.show()\n"
   ]
  }
 ],
 "metadata": {
  "kernelspec": {
   "display_name": "Python 3",
   "language": "python",
   "name": "python3"
  },
  "language_info": {
   "codemirror_mode": {
    "name": "ipython",
    "version": 3
   },
   "file_extension": ".py",
   "mimetype": "text/x-python",
   "name": "python",
   "nbconvert_exporter": "python",
   "pygments_lexer": "ipython3",
   "version": "3.12.5"
  }
 },
 "nbformat": 4,
 "nbformat_minor": 5
}
