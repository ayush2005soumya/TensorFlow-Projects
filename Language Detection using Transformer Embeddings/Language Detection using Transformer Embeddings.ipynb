{
 "cells": [
  {
   "cell_type": "code",
   "execution_count": 1,
   "id": "f7c28a75",
   "metadata": {},
   "outputs": [
    {
     "name": "stdout",
     "output_type": "stream",
     "text": [
      "WARNING:tensorflow:From C:\\Users\\Dell\\AppData\\Roaming\\Python\\Python312\\site-packages\\tf_keras\\src\\losses.py:2976: The name tf.losses.sparse_softmax_cross_entropy is deprecated. Please use tf.compat.v1.losses.sparse_softmax_cross_entropy instead.\n",
      "\n"
     ]
    }
   ],
   "source": [
    "from sentence_transformers import SentenceTransformer, util"
   ]
  },
  {
   "cell_type": "markdown",
   "id": "2a182a6d",
   "metadata": {},
   "source": [
    "# Load multilingual embedding model (LaBSE)"
   ]
  },
  {
   "cell_type": "code",
   "execution_count": 2,
   "id": "a614c7cb",
   "metadata": {},
   "outputs": [],
   "source": [
    "model = SentenceTransformer(\"sentence-transformers/LaBSE\")"
   ]
  },
  {
   "cell_type": "markdown",
   "id": "aa2bbfbe",
   "metadata": {},
   "source": [
    "# Prototype sentences for each language"
   ]
  },
  {
   "cell_type": "code",
   "execution_count": 3,
   "id": "b06c37e2",
   "metadata": {},
   "outputs": [],
   "source": [
    "language_examples = {\n",
    "    \"English\": \"This is a sample sentence.\",\n",
    "    \"Spanish\": \"Esta es una frase de ejemplo.\",\n",
    "    \"French\": \"Ceci est une phrase d'exemple.\",\n",
    "    \"German\": \"Dies ist ein Beispielsatz.\",\n",
    "    \"Italian\": \"Questa è una frase di esempio.\",\n",
    "    \"Portuguese\": \"Esta é uma frase de exemplo.\",\n",
    "    \"Hindi\": \"यह एक उदाहरण वाक्य है।\",\n",
    "    \"Japanese\": \"これは例文です。\"\n",
    "}"
   ]
  },
  {
   "cell_type": "code",
   "execution_count": 4,
   "id": "05c11ddf",
   "metadata": {},
   "outputs": [],
   "source": [
    "# Encode language prototypes"
   ]
  },
  {
   "cell_type": "code",
   "execution_count": 5,
   "id": "f3e41ecd",
   "metadata": {},
   "outputs": [],
   "source": [
    "langs = list(language_examples.keys())\n",
    "prototypes = list(language_examples.values())\n",
    "prototype_embeddings = model.encode(prototypes, convert_to_tensor=True)"
   ]
  },
  {
   "cell_type": "markdown",
   "id": "86e21906",
   "metadata": {},
   "source": [
    "# Input text for detection"
   ]
  },
  {
   "cell_type": "code",
   "execution_count": 6,
   "id": "eb6d5453",
   "metadata": {},
   "outputs": [],
   "source": [
    "text_input = \"Dove posso trovare una farmacia vicino a me?\""
   ]
  },
  {
   "cell_type": "markdown",
   "id": "86928cce",
   "metadata": {},
   "source": [
    "# Encode input sentence"
   ]
  },
  {
   "cell_type": "code",
   "execution_count": 7,
   "id": "28a2ca50",
   "metadata": {},
   "outputs": [],
   "source": [
    "input_embedding = model.encode(text_input, convert_to_tensor=True)"
   ]
  },
  {
   "cell_type": "markdown",
   "id": "defe91bc",
   "metadata": {},
   "source": [
    "# Compute cosine similarity to each language"
   ]
  },
  {
   "cell_type": "code",
   "execution_count": 8,
   "id": "7331c8ea",
   "metadata": {},
   "outputs": [],
   "source": [
    "similarities = util.pytorch_cos_sim(input_embedding, prototype_embeddings)[0]\n",
    "best_lang_index = int(similarities.argmax())\n",
    "predicted_language = langs[best_lang_index]"
   ]
  },
  {
   "cell_type": "markdown",
   "id": "d83fe6ec",
   "metadata": {},
   "source": [
    "# Display result"
   ]
  },
  {
   "cell_type": "code",
   "execution_count": 9,
   "id": "068b1de0",
   "metadata": {},
   "outputs": [
    {
     "name": "stdout",
     "output_type": "stream",
     "text": [
      "🌐 Input Text:\n",
      " Dove posso trovare una farmacia vicino a me?\n",
      "\n",
      "🔤 Detected Language: Portuguese\n",
      "\n",
      "🔢 Similarity Score: 0.32\n"
     ]
    }
   ],
   "source": [
    "print(\"🌐 Input Text:\\n\", text_input)\n",
    "print(\"\\n🔤 Detected Language:\", predicted_language)\n",
    "print(\"\\n🔢 Similarity Score: {:.2f}\".format(similarities[best_lang_index].item()))"
   ]
  }
 ],
 "metadata": {
  "kernelspec": {
   "display_name": "Python 3",
   "language": "python",
   "name": "python3"
  },
  "language_info": {
   "codemirror_mode": {
    "name": "ipython",
    "version": 3
   },
   "file_extension": ".py",
   "mimetype": "text/x-python",
   "name": "python",
   "nbconvert_exporter": "python",
   "pygments_lexer": "ipython3",
   "version": "3.12.5"
  }
 },
 "nbformat": 4,
 "nbformat_minor": 5
}
