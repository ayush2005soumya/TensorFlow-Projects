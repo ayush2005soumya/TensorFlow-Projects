{
 "cells": [
  {
   "cell_type": "code",
   "execution_count": 2,
   "id": "a6906675",
   "metadata": {},
   "outputs": [],
   "source": [
    "import tensorflow as tf\n",
    "from transformers import BertTokenizer, TFBertModel\n",
    "import numpy as np"
   ]
  },
  {
   "cell_type": "markdown",
   "id": "ff63a832",
   "metadata": {},
   "source": [
    "# Load BERT tokenizer and model from Hugging Face"
   ]
  },
  {
   "cell_type": "code",
   "execution_count": 3,
   "id": "274c5eef",
   "metadata": {},
   "outputs": [
    {
     "data": {
      "application/vnd.jupyter.widget-view+json": {
       "model_id": "10aa2f82fb8a4101bfd10ab136235e01",
       "version_major": 2,
       "version_minor": 0
      },
      "text/plain": [
       "tokenizer_config.json:   0%|          | 0.00/48.0 [00:00<?, ?B/s]"
      ]
     },
     "metadata": {},
     "output_type": "display_data"
    },
    {
     "name": "stderr",
     "output_type": "stream",
     "text": [
      "c:\\Users\\Dell\\AppData\\Local\\Programs\\Python\\Python312\\Lib\\site-packages\\huggingface_hub\\file_download.py:143: UserWarning: `huggingface_hub` cache-system uses symlinks by default to efficiently store duplicated files but your machine does not support them in C:\\Users\\Dell\\.cache\\huggingface\\hub\\models--bert-base-uncased. Caching files will still work but in a degraded version that might require more space on your disk. This warning can be disabled by setting the `HF_HUB_DISABLE_SYMLINKS_WARNING` environment variable. For more details, see https://huggingface.co/docs/huggingface_hub/how-to-cache#limitations.\n",
      "To support symlinks on Windows, you either need to activate Developer Mode or to run Python as an administrator. In order to activate developer mode, see this article: https://docs.microsoft.com/en-us/windows/apps/get-started/enable-your-device-for-development\n",
      "  warnings.warn(message)\n"
     ]
    },
    {
     "data": {
      "application/vnd.jupyter.widget-view+json": {
       "model_id": "bf52acc3c6fe40148be9bcde394e12f7",
       "version_major": 2,
       "version_minor": 0
      },
      "text/plain": [
       "vocab.txt:   0%|          | 0.00/232k [00:00<?, ?B/s]"
      ]
     },
     "metadata": {},
     "output_type": "display_data"
    },
    {
     "data": {
      "application/vnd.jupyter.widget-view+json": {
       "model_id": "8448edaa81be42c0ba9b91a639684ac5",
       "version_major": 2,
       "version_minor": 0
      },
      "text/plain": [
       "tokenizer.json:   0%|          | 0.00/466k [00:00<?, ?B/s]"
      ]
     },
     "metadata": {},
     "output_type": "display_data"
    },
    {
     "data": {
      "application/vnd.jupyter.widget-view+json": {
       "model_id": "e2691c66fe29466caeaaaf6ab552554a",
       "version_major": 2,
       "version_minor": 0
      },
      "text/plain": [
       "config.json:   0%|          | 0.00/570 [00:00<?, ?B/s]"
      ]
     },
     "metadata": {},
     "output_type": "display_data"
    },
    {
     "name": "stderr",
     "output_type": "stream",
     "text": [
      "Xet Storage is enabled for this repo, but the 'hf_xet' package is not installed. Falling back to regular HTTP download. For better performance, install the package with: `pip install huggingface_hub[hf_xet]` or `pip install hf_xet`\n"
     ]
    },
    {
     "data": {
      "application/vnd.jupyter.widget-view+json": {
       "model_id": "c67ec9f25e914663bf20e8c9f6606aa6",
       "version_major": 2,
       "version_minor": 0
      },
      "text/plain": [
       "model.safetensors:   0%|          | 0.00/440M [00:00<?, ?B/s]"
      ]
     },
     "metadata": {},
     "output_type": "display_data"
    },
    {
     "name": "stdout",
     "output_type": "stream",
     "text": [
      "WARNING:tensorflow:From C:\\Users\\Dell\\AppData\\Roaming\\Python\\Python312\\site-packages\\tf_keras\\src\\backend.py:873: The name tf.get_default_graph is deprecated. Please use tf.compat.v1.get_default_graph instead.\n",
      "\n"
     ]
    },
    {
     "name": "stderr",
     "output_type": "stream",
     "text": [
      "Some weights of the PyTorch model were not used when initializing the TF 2.0 model TFBertModel: ['cls.predictions.transform.dense.bias', 'cls.predictions.bias', 'cls.predictions.transform.LayerNorm.bias', 'cls.predictions.transform.LayerNorm.weight', 'cls.predictions.transform.dense.weight', 'cls.seq_relationship.weight', 'cls.seq_relationship.bias']\n",
      "- This IS expected if you are initializing TFBertModel from a PyTorch model trained on another task or with another architecture (e.g. initializing a TFBertForSequenceClassification model from a BertForPreTraining model).\n",
      "- This IS NOT expected if you are initializing TFBertModel from a PyTorch model that you expect to be exactly identical (e.g. initializing a TFBertForSequenceClassification model from a BertForSequenceClassification model).\n",
      "All the weights of TFBertModel were initialized from the PyTorch model.\n",
      "If your task is similar to the task the model of the checkpoint was trained on, you can already use TFBertModel for predictions without further training.\n"
     ]
    }
   ],
   "source": [
    "tokenizer = BertTokenizer.from_pretrained('bert-base-uncased')\n",
    "bert_model = TFBertModel.from_pretrained('bert-base-uncased')"
   ]
  },
  {
   "cell_type": "markdown",
   "id": "dff6e40f",
   "metadata": {},
   "source": [
    "# Example emotion-labeled dataset (text, label)"
   ]
  },
  {
   "cell_type": "code",
   "execution_count": null,
   "id": "5563c605",
   "metadata": {},
   "outputs": [],
   "source": [
    "texts = [\n",
    "    \"I am so happy today!\",         # joy\n",
    "    \"This is absolutely terrible\",  # anger\n",
    "    \"I'm feeling really down\",      # sadness\n",
    "    \"You did a great job!\",         # joy\n",
    "    \"Why would you say that?\" ,     # anger\n",
    "    \"How dare you!\"                 # anger\n",
    "]\n",
    "labels = [0, 1, 2, 0, 1,1]  # 0 = joy, 1 = anger, 2 = sadness"
   ]
  },
  {
   "cell_type": "markdown",
   "id": "a99d6f25",
   "metadata": {},
   "source": [
    "# Tokenize input texts"
   ]
  },
  {
   "cell_type": "code",
   "execution_count": 15,
   "id": "64bab037",
   "metadata": {},
   "outputs": [],
   "source": [
    "encodings = tokenizer(texts, padding=True, truncation=True, return_tensors='tf')"
   ]
  },
  {
   "cell_type": "markdown",
   "id": "90e2e4f1",
   "metadata": {},
   "source": [
    "# Get BERT embeddings (pooled_output is [CLS] token representation)"
   ]
  },
  {
   "cell_type": "code",
   "execution_count": 16,
   "id": "fdd213eb",
   "metadata": {},
   "outputs": [],
   "source": [
    "outputs = bert_model(encodings)\n",
    "pooled_output = outputs.pooler_output  # Shape: (batch_size, 768)"
   ]
  },
  {
   "cell_type": "markdown",
   "id": "ae917b35",
   "metadata": {},
   "source": [
    "# Build emotion classifier model on top of BERT embeddings"
   ]
  },
  {
   "cell_type": "code",
   "execution_count": 17,
   "id": "6793d634",
   "metadata": {},
   "outputs": [],
   "source": [
    "classifier = tf.keras.Sequential([\n",
    "    tf.keras.layers.Input(shape=(768,)),\n",
    "    tf.keras.layers.Dense(64, activation='relu'),\n",
    "    tf.keras.layers.Dense(3, activation='softmax')  # 3 emotion classes\n",
    "])"
   ]
  },
  {
   "cell_type": "markdown",
   "id": "216c1f8d",
   "metadata": {},
   "source": [
    "# Compile and train"
   ]
  },
  {
   "cell_type": "code",
   "execution_count": 18,
   "id": "448df2a0",
   "metadata": {},
   "outputs": [
    {
     "data": {
      "text/plain": [
       "<keras.src.callbacks.history.History at 0x2b213945340>"
      ]
     },
     "execution_count": 18,
     "metadata": {},
     "output_type": "execute_result"
    }
   ],
   "source": [
    "classifier.compile(optimizer='adam', loss='sparse_categorical_crossentropy', metrics=['accuracy'])\n",
    "classifier.fit(pooled_output, np.array(labels), epochs=20, verbose=0)"
   ]
  },
  {
   "cell_type": "markdown",
   "id": "8e9159aa",
   "metadata": {},
   "source": [
    "# Inference on new text"
   ]
  },
  {
   "cell_type": "code",
   "execution_count": 19,
   "id": "249027d3",
   "metadata": {},
   "outputs": [],
   "source": [
    "def classify_emotion(text):\n",
    "    inputs = tokenizer(text, return_tensors='tf', padding=True, truncation=True)\n",
    "    outputs = bert_model(inputs)\n",
    "    pooled = outputs.pooler_output\n",
    "    pred = classifier.predict(pooled)[0]\n",
    "    emotion = [\"Joy\", \"Anger\", \"Sadness\"][np.argmax(pred)]\n",
    "    return emotion"
   ]
  },
  {
   "cell_type": "markdown",
   "id": "7bee2ab8",
   "metadata": {},
   "source": [
    "# Test the classifier"
   ]
  },
  {
   "cell_type": "code",
   "execution_count": 22,
   "id": "66a1e9d2",
   "metadata": {},
   "outputs": [
    {
     "name": "stdout",
     "output_type": "stream",
     "text": [
      "Text: hoWW dare you say that!\n",
      "\u001b[1m1/1\u001b[0m \u001b[32m━━━━━━━━━━━━━━━━━━━━\u001b[0m\u001b[37m\u001b[0m \u001b[1m0s\u001b[0m 46ms/step\n",
      "Predicted Emotion: Anger\n"
     ]
    }
   ],
   "source": [
    "test_text = \"hoWW dare you say that!\"\n",
    "print(\"Text:\", test_text)\n",
    "print(\"Predicted Emotion:\", classify_emotion(test_text))"
   ]
  }
 ],
 "metadata": {
  "kernelspec": {
   "display_name": "Python 3",
   "language": "python",
   "name": "python3"
  },
  "language_info": {
   "codemirror_mode": {
    "name": "ipython",
    "version": 3
   },
   "file_extension": ".py",
   "mimetype": "text/x-python",
   "name": "python",
   "nbconvert_exporter": "python",
   "pygments_lexer": "ipython3",
   "version": "3.12.5"
  }
 },
 "nbformat": 4,
 "nbformat_minor": 5
}
