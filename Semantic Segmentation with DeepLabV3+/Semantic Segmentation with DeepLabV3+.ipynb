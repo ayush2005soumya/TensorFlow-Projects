{
 "cells": [
  {
   "cell_type": "code",
   "execution_count": null,
   "id": "6e39226d",
   "metadata": {},
   "outputs": [],
   "source": [
    "import keras_cv\n",
    "import tensorflow as tf\n",
    "import matplotlib.pyplot as plt"
   ]
  },
  {
   "cell_type": "markdown",
   "id": "61219592",
   "metadata": {},
   "source": [
    "# Load image"
   ]
  },
  {
   "cell_type": "code",
   "execution_count": null,
   "id": "9044b713",
   "metadata": {},
   "outputs": [],
   "source": [
    "image_url = \"https://storage.googleapis.com/download.tensorflow.org/example_images/segmentation_input.jpg\"\n",
    "image_path = tf.keras.utils.get_file(\"street.jpg\", origin=image_url)\n",
    "image = tf.io.read_file(image_path)\n",
    "image = tf.image.decode_jpeg(image, channels=3)\n",
    "original_shape = tf.shape(image)[:2]"
   ]
  },
  {
   "cell_type": "markdown",
   "id": "e6681727",
   "metadata": {},
   "source": [
    "# Resize to 512x512 (as required by model)"
   ]
  },
  {
   "cell_type": "code",
   "execution_count": null,
   "id": "1888c2fd",
   "metadata": {},
   "outputs": [],
   "source": [
    "input_image = tf.image.resize(image, (512, 512))\n",
    "input_image = tf.cast(input_image, tf.float32) / 255.0  # Normalize to [0, 1]\n",
    "input_image = tf.expand_dims(input_image, axis=0)       # Add batch dimension"
   ]
  },
  {
   "cell_type": "markdown",
   "id": "7eb7d3be",
   "metadata": {},
   "source": [
    "# Load model"
   ]
  },
  {
   "cell_type": "code",
   "execution_count": null,
   "id": "c0c99c8a",
   "metadata": {},
   "outputs": [],
   "source": [
    "model = keras_cv.models.DeepLabV3Plus(\n",
    "    backbone=\"resnet50\",  # You can also use mobilenetv2, resnet101, etc.\n",
    "    num_classes=21,       # For Pascal VOC\n",
    "    weights=\"pascalvoc\"   # Load pre-trained weights\n",
    ")"
   ]
  },
  {
   "cell_type": "markdown",
   "id": "e6b4c1bf",
   "metadata": {},
   "source": [
    "# Run prediction"
   ]
  },
  {
   "cell_type": "code",
   "execution_count": null,
   "id": "6ee4e17b",
   "metadata": {},
   "outputs": [],
   "source": [
    "predictions = model.predict(input_image)\n",
    "segmentation = tf.argmax(predictions[0], axis=-1)\n",
    "segmentation = tf.image.resize(tf.expand_dims(segmentation, -1), original_shape, method=\"nearest\")\n",
    "segmentation = tf.squeeze(segmentation).numpy().astype(\"uint8\")"
   ]
  },
  {
   "cell_type": "markdown",
   "id": "d5b449de",
   "metadata": {},
   "source": [
    "# Display original + segmented"
   ]
  },
  {
   "cell_type": "code",
   "execution_count": null,
   "id": "3bd61da1",
   "metadata": {},
   "outputs": [],
   "source": [
    "plt.figure(figsize=(10, 5))\n",
    "plt.subplot(1, 2, 1)\n",
    "plt.imshow(image.numpy().astype(\"uint8\"))\n",
    "plt.title(\"Original Image\")\n",
    "plt.axis(\"off\")\n",
    "\n",
    "plt.subplot(1, 2, 2)\n",
    "plt.imshow(segmentation, cmap=\"jet\")  # Simple colormap for visualization\n",
    "plt.title(\"Segmented Output\")\n",
    "plt.axis(\"off\")\n",
    "plt.tight_layout()\n",
    "plt.show()"
   ]
  },
  {
   "cell_type": "markdown",
   "id": "1a83cfe4",
   "metadata": {},
   "source": [
    "# Some Extra codes"
   ]
  },
  {
   "cell_type": "code",
   "execution_count": null,
   "id": "480c0361",
   "metadata": {},
   "outputs": [],
   "source": [
    "# import tensorflow as tf\n",
    "# import tensorflow_hub as hub\n",
    "# import numpy as np\n",
    "# import matplotlib.pyplot as plt\n",
    " \n",
    "# # Load the DeepLabV3+ model from TensorFlow Hub\n",
    "# model = hub.load(\"https://tfhub.dev/tensorflow/deeplabv3/1\")\n",
    " \n",
    "# # Load and preprocess the input image\n",
    "# image_url = \"https://storage.googleapis.com/download.tensorflow.org/example_images/segmentation_input.jpg\"\n",
    "# image_path = tf.keras.utils.get_file(\"street.jpg\", origin=image_url)\n",
    " \n",
    "# img_raw = tf.io.read_file(image_path)                           # Read image bytes\n",
    "# img = tf.image.decode_jpeg(img_raw)                             # Decode JPEG\n",
    "# original_size = tf.shape(img)[:2]                               # Save original size for resizing output\n",
    "# img = tf.image.convert_image_dtype(img, tf.uint8)               # Ensure image is uint8\n",
    "# img_resized = tf.image.resize(img, [513, 513])                  # Resize to model's expected input\n",
    "# img_tensor = tf.expand_dims(img_resized, 0)                     # Add batch dimension\n",
    " \n",
    "# # Run the model\n",
    "# result = model(img_tensor)\n",
    "# segmentation_map = tf.argmax(result['semantic_pred'], axis=3)[0]  # Get class prediction map\n",
    " \n",
    "# # Define a color map (Pascal VOC colormap — simplified)\n",
    "# def create_pascal_label_colormap():\n",
    "#     colormap = np.zeros((256, 3), dtype=int)\n",
    "#     for i in range(256):\n",
    "#         r, g, b = 0, 0, 0\n",
    "#         c = i\n",
    "#         for j in range(8):\n",
    "#             r |= (c & 1) << (7 - j)\n",
    "#             g |= ((c >> 1) & 1) << (7 - j)\n",
    "#             b |= ((c >> 2) & 1) << (7 - j)\n",
    "#             c >>= 3\n",
    "#         colormap[i] = [r, g, b]\n",
    "#     return colormap\n",
    " \n",
    "# # Convert class map to color map\n",
    "# colormap = create_pascal_label_colormap()\n",
    "# segmentation_color = tf.gather(colormap, segmentation_map)\n",
    " \n",
    "# # Resize segmentation map back to original image size\n",
    "# segmentation_color = tf.image.resize(segmentation_color, original_size, method='nearest')\n",
    " \n",
    "# # Plot the original image and segmentation result\n",
    "# plt.figure(figsize=(10, 5))\n",
    "# plt.subplot(1, 2, 1)\n",
    "# plt.imshow(tf.image.decode_jpeg(img_raw))\n",
    "# plt.title(\"Original Image\")\n",
    "# plt.axis('off')\n",
    " \n",
    "# plt.subplot(1, 2, 2)\n",
    "# plt.imshow(tf.cast(segmentation_color, tf.uint8))\n",
    "# plt.title(\"Segmented Image\")\n",
    "# plt.axis('off')\n",
    "# plt.tight_layout()\n",
    "# plt.show()"
   ]
  }
 ],
 "metadata": {
  "kernelspec": {
   "display_name": "Python 3",
   "language": "python",
   "name": "python3"
  },
  "language_info": {
   "codemirror_mode": {
    "name": "ipython",
    "version": 3
   },
   "file_extension": ".py",
   "mimetype": "text/x-python",
   "name": "python",
   "nbconvert_exporter": "python",
   "pygments_lexer": "ipython3",
   "version": "3.12.5"
  }
 },
 "nbformat": 4,
 "nbformat_minor": 5
}
