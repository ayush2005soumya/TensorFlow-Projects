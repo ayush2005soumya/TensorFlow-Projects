{
 "cells": [
  {
   "cell_type": "code",
   "execution_count": 1,
   "id": "6cbd95e8",
   "metadata": {},
   "outputs": [],
   "source": [
    "import tensorflow as tf\n",
    "import numpy as np\n",
    "import librosa\n",
    "import random"
   ]
  },
  {
   "cell_type": "markdown",
   "id": "e0ae940b",
   "metadata": {},
   "source": [
    "# Simulate loading MFCC features from 3 speakers"
   ]
  },
  {
   "cell_type": "code",
   "execution_count": 2,
   "id": "288a36b5",
   "metadata": {},
   "outputs": [],
   "source": [
    "def generate_speaker_mfccs(num_speakers=3, samples_per_speaker=50, max_len=100, n_mfcc=13):\n",
    "    data, labels = [], []\n",
    "    for speaker_id in range(num_speakers):\n",
    "        for _ in range(samples_per_speaker):\n",
    "            signal = np.sin(np.linspace(0, 2 * np.pi * (random.uniform(100, 300)), 16000))  # Simulated tone\n",
    "            mfcc = librosa.feature.mfcc(y=signal.astype(np.float32), sr=16000, n_mfcc=n_mfcc)\n",
    "            mfcc = mfcc.T[:max_len]  # Trim/pad to max_len\n",
    "            if mfcc.shape[0] < max_len:\n",
    "                pad_width = max_len - mfcc.shape[0]\n",
    "                mfcc = np.pad(mfcc, ((0, pad_width), (0, 0)), mode='constant')\n",
    "            data.append(mfcc)\n",
    "            labels.append(speaker_id)\n",
    "    return np.array(data), tf.keras.utils.to_categorical(labels, num_classes=num_speakers)"
   ]
  },
  {
   "cell_type": "markdown",
   "id": "329a152a",
   "metadata": {},
   "source": [
    "# Generate dataset"
   ]
  },
  {
   "cell_type": "code",
   "execution_count": 3,
   "id": "613fac7a",
   "metadata": {},
   "outputs": [],
   "source": [
    "X, y = generate_speaker_mfccs()"
   ]
  },
  {
   "cell_type": "markdown",
   "id": "d77a0cf7",
   "metadata": {},
   "source": [
    "# Split into training and testing sets"
   ]
  },
  {
   "cell_type": "code",
   "execution_count": 4,
   "id": "e735cba5",
   "metadata": {},
   "outputs": [],
   "source": [
    "split = int(0.8 * len(X))\n",
    "X_train, X_test = X[:split], X[split:]\n",
    "y_train, y_test = y[:split], y[split:]"
   ]
  },
  {
   "cell_type": "markdown",
   "id": "5661569a",
   "metadata": {},
   "source": [
    "# Build LSTM-based speaker ID model"
   ]
  },
  {
   "cell_type": "code",
   "execution_count": 5,
   "id": "a9f2d540",
   "metadata": {},
   "outputs": [],
   "source": [
    "model = tf.keras.Sequential([\n",
    "    tf.keras.layers.Input(shape=(X.shape[1], X.shape[2])),     # (max_len, n_mfcc)\n",
    "    tf.keras.layers.LSTM(64),\n",
    "    tf.keras.layers.Dense(32, activation='relu'),\n",
    "    tf.keras.layers.Dense(y.shape[1], activation='softmax')    # Output: num_speakers\n",
    "])"
   ]
  },
  {
   "cell_type": "markdown",
   "id": "e4ada2db",
   "metadata": {},
   "source": [
    "# Compile and train"
   ]
  },
  {
   "cell_type": "code",
   "execution_count": 6,
   "id": "d67ee1ee",
   "metadata": {},
   "outputs": [
    {
     "name": "stdout",
     "output_type": "stream",
     "text": [
      "Epoch 1/10\n",
      "\u001b[1m3/3\u001b[0m \u001b[32m━━━━━━━━━━━━━━━━━━━━\u001b[0m\u001b[37m\u001b[0m \u001b[1m2s\u001b[0m 212ms/step - accuracy: 0.5456 - loss: 1.0958 - val_accuracy: 0.0000e+00 - val_loss: 1.1244\n",
      "Epoch 2/10\n",
      "\u001b[1m3/3\u001b[0m \u001b[32m━━━━━━━━━━━━━━━━━━━━\u001b[0m\u001b[37m\u001b[0m \u001b[1m0s\u001b[0m 68ms/step - accuracy: 0.4987 - loss: 1.0781 - val_accuracy: 0.0000e+00 - val_loss: 1.1633\n",
      "Epoch 3/10\n",
      "\u001b[1m3/3\u001b[0m \u001b[32m━━━━━━━━━━━━━━━━━━━━\u001b[0m\u001b[37m\u001b[0m \u001b[1m0s\u001b[0m 73ms/step - accuracy: 0.5729 - loss: 1.0516 - val_accuracy: 0.0000e+00 - val_loss: 1.2312\n",
      "Epoch 4/10\n",
      "\u001b[1m3/3\u001b[0m \u001b[32m━━━━━━━━━━━━━━━━━━━━\u001b[0m\u001b[37m\u001b[0m \u001b[1m0s\u001b[0m 70ms/step - accuracy: 0.5339 - loss: 1.0108 - val_accuracy: 0.0000e+00 - val_loss: 1.3880\n",
      "Epoch 5/10\n",
      "\u001b[1m3/3\u001b[0m \u001b[32m━━━━━━━━━━━━━━━━━━━━\u001b[0m\u001b[37m\u001b[0m \u001b[1m0s\u001b[0m 69ms/step - accuracy: 0.5299 - loss: 0.9278 - val_accuracy: 0.0000e+00 - val_loss: 2.1939\n",
      "Epoch 6/10\n",
      "\u001b[1m3/3\u001b[0m \u001b[32m━━━━━━━━━━━━━━━━━━━━\u001b[0m\u001b[37m\u001b[0m \u001b[1m0s\u001b[0m 69ms/step - accuracy: 0.5417 - loss: 0.7632 - val_accuracy: 0.0000e+00 - val_loss: 4.9786\n",
      "Epoch 7/10\n",
      "\u001b[1m3/3\u001b[0m \u001b[32m━━━━━━━━━━━━━━━━━━━━\u001b[0m\u001b[37m\u001b[0m \u001b[1m0s\u001b[0m 82ms/step - accuracy: 0.5299 - loss: 0.7084 - val_accuracy: 0.0000e+00 - val_loss: 5.7875\n",
      "Epoch 8/10\n",
      "\u001b[1m3/3\u001b[0m \u001b[32m━━━━━━━━━━━━━━━━━━━━\u001b[0m\u001b[37m\u001b[0m \u001b[1m0s\u001b[0m 75ms/step - accuracy: 0.5117 - loss: 0.6950 - val_accuracy: 0.1667 - val_loss: 6.1978\n",
      "Epoch 9/10\n",
      "\u001b[1m3/3\u001b[0m \u001b[32m━━━━━━━━━━━━━━━━━━━━\u001b[0m\u001b[37m\u001b[0m \u001b[1m0s\u001b[0m 75ms/step - accuracy: 0.4818 - loss: 0.7064 - val_accuracy: 0.1667 - val_loss: 6.5423\n",
      "Epoch 10/10\n",
      "\u001b[1m3/3\u001b[0m \u001b[32m━━━━━━━━━━━━━━━━━━━━\u001b[0m\u001b[37m\u001b[0m \u001b[1m0s\u001b[0m 75ms/step - accuracy: 0.4740 - loss: 0.6995 - val_accuracy: 0.0000e+00 - val_loss: 6.9045\n"
     ]
    },
    {
     "data": {
      "text/plain": [
       "<keras.src.callbacks.history.History at 0x148edd3ba40>"
      ]
     },
     "execution_count": 6,
     "metadata": {},
     "output_type": "execute_result"
    }
   ],
   "source": [
    "model.compile(optimizer='adam', loss='categorical_crossentropy', metrics=['accuracy'])\n",
    "model.fit(X_train, y_train, epochs=10, validation_split=0.2)"
   ]
  },
  {
   "cell_type": "markdown",
   "id": "cce24c97",
   "metadata": {},
   "source": [
    "# Evaluate on test set"
   ]
  },
  {
   "cell_type": "code",
   "execution_count": 7,
   "id": "f5187d9a",
   "metadata": {},
   "outputs": [
    {
     "name": "stdout",
     "output_type": "stream",
     "text": [
      "🎤 Speaker ID Accuracy: 0.00\n"
     ]
    }
   ],
   "source": [
    "loss, acc = model.evaluate(X_test, y_test, verbose=0)\n",
    "print(f\"🎤 Speaker ID Accuracy: {acc:.2f}\")"
   ]
  }
 ],
 "metadata": {
  "kernelspec": {
   "display_name": "Python 3",
   "language": "python",
   "name": "python3"
  },
  "language_info": {
   "codemirror_mode": {
    "name": "ipython",
    "version": 3
   },
   "file_extension": ".py",
   "mimetype": "text/x-python",
   "name": "python",
   "nbconvert_exporter": "python",
   "pygments_lexer": "ipython3",
   "version": "3.12.5"
  }
 },
 "nbformat": 4,
 "nbformat_minor": 5
}
