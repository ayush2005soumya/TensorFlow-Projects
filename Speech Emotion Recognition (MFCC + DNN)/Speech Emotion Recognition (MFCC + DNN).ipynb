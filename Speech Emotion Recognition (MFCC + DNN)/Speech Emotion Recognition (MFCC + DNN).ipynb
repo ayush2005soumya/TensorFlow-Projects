{
 "cells": [
  {
   "cell_type": "code",
   "execution_count": 2,
   "id": "89bbc773",
   "metadata": {},
   "outputs": [],
   "source": [
    "import tensorflow as tf\n",
    "import numpy as np\n",
    "import matplotlib.pyplot as plt\n",
    "import librosa\n",
    "import os"
   ]
  },
  {
   "cell_type": "markdown",
   "id": "b1a858f8",
   "metadata": {},
   "source": [
    "# Example audio file URL (RAVDESS dataset sample)"
   ]
  },
  {
   "cell_type": "code",
   "execution_count": 3,
   "id": "bd7cc9e4",
   "metadata": {},
   "outputs": [
    {
     "name": "stdout",
     "output_type": "stream",
     "text": [
      "Downloading data from https://github.com/pyannote/pyannote-audio/raw/develop/tutorials/assets/sample.wav\n",
      "\u001b[1m960104/960104\u001b[0m \u001b[32m━━━━━━━━━━━━━━━━━━━━\u001b[0m\u001b[37m\u001b[0m \u001b[1m1s\u001b[0m 1us/step\n"
     ]
    }
   ],
   "source": [
    "url = \"https://github.com/pyannote/pyannote-audio/raw/develop/tutorials/assets/sample.wav\"\n",
    "path = tf.keras.utils.get_file(\"sample.wav\", origin=url)"
   ]
  },
  {
   "cell_type": "markdown",
   "id": "46f51927",
   "metadata": {},
   "source": [
    "# Load audio file and extract MFCCs"
   ]
  },
  {
   "cell_type": "code",
   "execution_count": 4,
   "id": "8cc15c42",
   "metadata": {},
   "outputs": [],
   "source": [
    "y, sr = librosa.load(path, sr=16000)                      # Load with sampling rate 16kHz\n",
    "mfccs = librosa.feature.mfcc(y=y, sr=sr, n_mfcc=13)       # Extract 13 MFCCs\n",
    "mfccs = mfccs.T                                           # Shape: (time, features)"
   ]
  },
  {
   "cell_type": "markdown",
   "id": "685f7d53",
   "metadata": {},
   "source": [
    "# Simulate multiple samples by repeating and adding noise"
   ]
  },
  {
   "cell_type": "code",
   "execution_count": 5,
   "id": "e784e17e",
   "metadata": {},
   "outputs": [],
   "source": [
    "X = np.stack([mfccs + np.random.normal(scale=0.1, size=mfccs.shape) for _ in range(100)])\n",
    "y_labels = np.random.randint(0, 3, 100)                   # 3 emotion classes (e.g., happy, sad, angry)"
   ]
  },
  {
   "cell_type": "markdown",
   "id": "3c64cc05",
   "metadata": {},
   "source": [
    "# Pad or truncate MFCC sequences to fixed length"
   ]
  },
  {
   "cell_type": "code",
   "execution_count": 6,
   "id": "6d3160f2",
   "metadata": {},
   "outputs": [],
   "source": [
    "max_len = 100\n",
    "X_padded = tf.keras.preprocessing.sequence.pad_sequences(X, maxlen=max_len, padding='post', dtype='float32')"
   ]
  },
  {
   "cell_type": "markdown",
   "id": "ecaa5bf8",
   "metadata": {},
   "source": [
    "# Convert labels to one-hot"
   ]
  },
  {
   "cell_type": "code",
   "execution_count": 7,
   "id": "8712b33f",
   "metadata": {},
   "outputs": [],
   "source": [
    "y_cat = tf.keras.utils.to_categorical(y_labels, num_classes=3)"
   ]
  },
  {
   "cell_type": "markdown",
   "id": "7900b024",
   "metadata": {},
   "source": [
    "# Build DNN model"
   ]
  },
  {
   "cell_type": "code",
   "execution_count": 8,
   "id": "fab424f3",
   "metadata": {},
   "outputs": [],
   "source": [
    "model = tf.keras.Sequential([\n",
    "    tf.keras.layers.Input(shape=(max_len, 13)),\n",
    "    tf.keras.layers.Flatten(),\n",
    "    tf.keras.layers.Dense(128, activation='relu'),\n",
    "    tf.keras.layers.Dense(64, activation='relu'),\n",
    "    tf.keras.layers.Dense(3, activation='softmax')  # 3 emotion classes\n",
    "])"
   ]
  },
  {
   "cell_type": "markdown",
   "id": "24506333",
   "metadata": {},
   "source": [
    "# Compile and train"
   ]
  },
  {
   "cell_type": "code",
   "execution_count": 9,
   "id": "fac81481",
   "metadata": {},
   "outputs": [
    {
     "data": {
      "text/plain": [
       "<keras.src.callbacks.history.History at 0x22eb5546c00>"
      ]
     },
     "execution_count": 9,
     "metadata": {},
     "output_type": "execute_result"
    }
   ],
   "source": [
    "model.compile(optimizer='adam', loss='categorical_crossentropy', metrics=['accuracy'])\n",
    "model.fit(X_padded, y_cat, epochs=10, validation_split=0.2, verbose=0)"
   ]
  },
  {
   "cell_type": "markdown",
   "id": "f63c154b",
   "metadata": {},
   "source": [
    "# Predict a single example"
   ]
  },
  {
   "cell_type": "code",
   "execution_count": 10,
   "id": "784a2ffe",
   "metadata": {},
   "outputs": [
    {
     "name": "stdout",
     "output_type": "stream",
     "text": [
      "\u001b[1m1/1\u001b[0m \u001b[32m━━━━━━━━━━━━━━━━━━━━\u001b[0m\u001b[37m\u001b[0m \u001b[1m0s\u001b[0m 389ms/step\n",
      "Predicted Emotion Class: 2\n"
     ]
    }
   ],
   "source": [
    "pred = model.predict(X_padded[:1])[0]\n",
    "emotion = np.argmax(pred)\n",
    "print(\"Predicted Emotion Class:\", emotion)"
   ]
  }
 ],
 "metadata": {
  "kernelspec": {
   "display_name": "Python 3",
   "language": "python",
   "name": "python3"
  },
  "language_info": {
   "codemirror_mode": {
    "name": "ipython",
    "version": 3
   },
   "file_extension": ".py",
   "mimetype": "text/x-python",
   "name": "python",
   "nbconvert_exporter": "python",
   "pygments_lexer": "ipython3",
   "version": "3.12.5"
  }
 },
 "nbformat": 4,
 "nbformat_minor": 5
}
