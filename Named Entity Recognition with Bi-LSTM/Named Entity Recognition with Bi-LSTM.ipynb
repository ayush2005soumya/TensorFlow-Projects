{
 "cells": [
  {
   "cell_type": "code",
   "execution_count": 1,
   "id": "ae7384b8",
   "metadata": {},
   "outputs": [],
   "source": [
    "import tensorflow as tf\n",
    "import numpy as np"
   ]
  },
  {
   "cell_type": "markdown",
   "id": "ff6804da",
   "metadata": {},
   "source": [
    "# Sample token-level NER dataset"
   ]
  },
  {
   "cell_type": "code",
   "execution_count": 2,
   "id": "1205fe2b",
   "metadata": {},
   "outputs": [],
   "source": [
    "sentences = [[\"john\", \"lives\", \"in\", \"new\", \"york\"],\n",
    "             [\"alice\", \"is\", \"from\", \"paris\"],\n",
    "             [\"bob\", \"visited\", \"london\", \"last\", \"year\"]]\n",
    " \n",
    "labels = [[\"PER\", \"O\", \"O\", \"LOC\", \"LOC\"],\n",
    "          [\"PER\", \"O\", \"O\", \"LOC\"],\n",
    "          [\"PER\", \"O\", \"LOC\", \"O\", \"O\"]]"
   ]
  },
  {
   "cell_type": "markdown",
   "id": "52e21a81",
   "metadata": {},
   "source": [
    "# Build vocabularies"
   ]
  },
  {
   "cell_type": "code",
   "execution_count": 3,
   "id": "9bb678ea",
   "metadata": {},
   "outputs": [],
   "source": [
    "word_tokenizer = tf.keras.preprocessing.text.Tokenizer(lower=True, oov_token='UNK')\n",
    "word_tokenizer.fit_on_texts(sentences)\n",
    "X = word_tokenizer.texts_to_sequences(sentences)\n",
    "word_index = word_tokenizer.word_index\n",
    "vocab_size = len(word_index) + 1\n",
    " \n",
    "tag_tokenizer = tf.keras.preprocessing.text.Tokenizer(lower=False)\n",
    "tag_tokenizer.fit_on_texts(labels)\n",
    "y = tag_tokenizer.texts_to_sequences(labels)\n",
    "tag_index = tag_tokenizer.word_index\n",
    "num_tags = len(tag_index) + 1"
   ]
  },
  {
   "cell_type": "markdown",
   "id": "99a19f2b",
   "metadata": {},
   "source": [
    "# Pad sequences"
   ]
  },
  {
   "cell_type": "code",
   "execution_count": 4,
   "id": "b2a7e520",
   "metadata": {},
   "outputs": [],
   "source": [
    "max_len = max(len(s) for s in X)\n",
    "X = tf.keras.preprocessing.sequence.pad_sequences(X, maxlen=max_len, padding='post')\n",
    "y = tf.keras.preprocessing.sequence.pad_sequences(y, maxlen=max_len, padding='post')"
   ]
  },
  {
   "cell_type": "markdown",
   "id": "62ab904d",
   "metadata": {},
   "source": [
    "# Convert labels to categorical"
   ]
  },
  {
   "cell_type": "code",
   "execution_count": 5,
   "id": "e1781fbf",
   "metadata": {},
   "outputs": [],
   "source": [
    "y_cat = tf.keras.utils.to_categorical(y, num_classes=num_tags)"
   ]
  },
  {
   "cell_type": "markdown",
   "id": "38f300e7",
   "metadata": {},
   "source": [
    "# Build Bi-LSTM model"
   ]
  },
  {
   "cell_type": "code",
   "execution_count": 6,
   "id": "e81094a0",
   "metadata": {},
   "outputs": [
    {
     "name": "stderr",
     "output_type": "stream",
     "text": [
      "c:\\Users\\Dell\\AppData\\Local\\Programs\\Python\\Python312\\Lib\\site-packages\\keras\\src\\layers\\core\\embedding.py:97: UserWarning: Argument `input_length` is deprecated. Just remove it.\n",
      "  warnings.warn(\n"
     ]
    }
   ],
   "source": [
    "model = tf.keras.Sequential([\n",
    "    tf.keras.layers.Embedding(input_dim=vocab_size, output_dim=64, input_length=max_len),  # Word embeddings\n",
    "    tf.keras.layers.Bidirectional(tf.keras.layers.LSTM(64, return_sequences=True)),        # Bi-LSTM\n",
    "    tf.keras.layers.TimeDistributed(tf.keras.layers.Dense(num_tags, activation='softmax')) # One output per token\n",
    "])"
   ]
  },
  {
   "cell_type": "markdown",
   "id": "50a71918",
   "metadata": {},
   "source": [
    "# Compile model"
   ]
  },
  {
   "cell_type": "code",
   "execution_count": 7,
   "id": "8dc32f60",
   "metadata": {},
   "outputs": [],
   "source": [
    "model.compile(optimizer='adam', loss='categorical_crossentropy', metrics=['accuracy'])"
   ]
  },
  {
   "cell_type": "markdown",
   "id": "f3b4db4d",
   "metadata": {},
   "source": [
    "# Train"
   ]
  },
  {
   "cell_type": "code",
   "execution_count": 8,
   "id": "fe1e71d0",
   "metadata": {},
   "outputs": [
    {
     "data": {
      "text/plain": [
       "<keras.src.callbacks.history.History at 0x11ff6431b20>"
      ]
     },
     "execution_count": 8,
     "metadata": {},
     "output_type": "execute_result"
    }
   ],
   "source": [
    "model.fit(X, y_cat, epochs=50, verbose=0)"
   ]
  },
  {
   "cell_type": "markdown",
   "id": "182ce661",
   "metadata": {},
   "source": [
    "# Predict on a new sentence"
   ]
  },
  {
   "cell_type": "code",
   "execution_count": 9,
   "id": "cd8dca44",
   "metadata": {},
   "outputs": [
    {
     "name": "stdout",
     "output_type": "stream",
     "text": [
      "\u001b[1m1/1\u001b[0m \u001b[32m━━━━━━━━━━━━━━━━━━━━\u001b[0m\u001b[37m\u001b[0m \u001b[1m0s\u001b[0m 214ms/step\n"
     ]
    }
   ],
   "source": [
    "test_sentence = [\"alice\", \"visited\", \"new\", \"delhi\"]\n",
    "test_seq = word_tokenizer.texts_to_sequences([test_sentence])\n",
    "test_seq = tf.keras.preprocessing.sequence.pad_sequences(test_seq, maxlen=max_len, padding='post')\n",
    " \n",
    "pred = model.predict(test_seq)[0]\n",
    "pred_tags = [list(tag_index.keys())[np.argmax(p) - 1] if np.argmax(p) > 0 else \"PAD\" for p in pred]"
   ]
  },
  {
   "cell_type": "markdown",
   "id": "6e612761",
   "metadata": {},
   "source": [
    "# Print prediction"
   ]
  },
  {
   "cell_type": "code",
   "execution_count": 10,
   "id": "3581d338",
   "metadata": {},
   "outputs": [
    {
     "name": "stdout",
     "output_type": "stream",
     "text": [
      "alice → PER\n",
      "visited → O\n",
      "new → O\n",
      "delhi → LOC\n"
     ]
    }
   ],
   "source": [
    "for word, tag in zip(test_sentence, pred_tags):\n",
    "    print(f\"{word} → {tag}\")"
   ]
  }
 ],
 "metadata": {
  "kernelspec": {
   "display_name": "Python 3",
   "language": "python",
   "name": "python3"
  },
  "language_info": {
   "codemirror_mode": {
    "name": "ipython",
    "version": 3
   },
   "file_extension": ".py",
   "mimetype": "text/x-python",
   "name": "python",
   "nbconvert_exporter": "python",
   "pygments_lexer": "ipython3",
   "version": "3.12.5"
  }
 },
 "nbformat": 4,
 "nbformat_minor": 5
}
