{
 "cells": [
  {
   "cell_type": "code",
   "execution_count": 1,
   "id": "9a8eeb03",
   "metadata": {},
   "outputs": [
    {
     "name": "stdout",
     "output_type": "stream",
     "text": [
      "WARNING:tensorflow:From C:\\Users\\Dell\\AppData\\Roaming\\Python\\Python312\\site-packages\\tf_keras\\src\\losses.py:2976: The name tf.losses.sparse_softmax_cross_entropy is deprecated. Please use tf.compat.v1.losses.sparse_softmax_cross_entropy instead.\n",
      "\n"
     ]
    }
   ],
   "source": [
    "from sentence_transformers import SentenceTransformer, util"
   ]
  },
  {
   "cell_type": "markdown",
   "id": "f9c1aadd",
   "metadata": {},
   "source": [
    "# Load Sentence Transformer model"
   ]
  },
  {
   "cell_type": "code",
   "execution_count": 2,
   "id": "9aa1d53d",
   "metadata": {},
   "outputs": [],
   "source": [
    "model = SentenceTransformer(\"all-MiniLM-L6-v2\")"
   ]
  },
  {
   "cell_type": "markdown",
   "id": "915304d2",
   "metadata": {},
   "source": [
    "# Define FAQ pairs (question → answer)"
   ]
  },
  {
   "cell_type": "code",
   "execution_count": 3,
   "id": "1fa20ef8",
   "metadata": {},
   "outputs": [],
   "source": [
    "faq_questions = [\n",
    "    \"How do I reset my password?\",\n",
    "    \"What is the refund policy?\",\n",
    "    \"How can I contact customer support?\",\n",
    "    \"Where can I find my order history?\",\n",
    "    \"How do I update my account information?\"\n",
    "]\n",
    " \n",
    "faq_answers = [\n",
    "    \"To reset your password, click 'Forgot Password' on the login screen.\",\n",
    "    \"You can request a refund within 30 days of purchase.\",\n",
    "    \"You can reach our support team via the Contact Us page.\",\n",
    "    \"Go to your profile and click on 'Order History'.\",\n",
    "    \"Visit Account Settings to update your personal info.\"\n",
    "]"
   ]
  },
  {
   "cell_type": "markdown",
   "id": "e8aa383c",
   "metadata": {},
   "source": [
    "# Encode FAQ questions"
   ]
  },
  {
   "cell_type": "code",
   "execution_count": 4,
   "id": "b7b77ab1",
   "metadata": {},
   "outputs": [],
   "source": [
    "faq_embeddings = model.encode(faq_questions, convert_to_tensor=True)"
   ]
  },
  {
   "cell_type": "markdown",
   "id": "cfd09770",
   "metadata": {},
   "source": [
    "# User query"
   ]
  },
  {
   "cell_type": "code",
   "execution_count": 5,
   "id": "467ba9e7",
   "metadata": {},
   "outputs": [],
   "source": [
    "user_query = \"I want to change the email linked to my account.\""
   ]
  },
  {
   "cell_type": "markdown",
   "id": "68bae3c4",
   "metadata": {},
   "source": [
    "# Encode user query"
   ]
  },
  {
   "cell_type": "code",
   "execution_count": 6,
   "id": "8d10dfff",
   "metadata": {},
   "outputs": [],
   "source": [
    "query_embedding = model.encode(user_query, convert_to_tensor=True)"
   ]
  },
  {
   "cell_type": "markdown",
   "id": "a3c5cc78",
   "metadata": {},
   "source": [
    "# Compute cosine similarities"
   ]
  },
  {
   "cell_type": "code",
   "execution_count": 7,
   "id": "b9454e53",
   "metadata": {},
   "outputs": [],
   "source": [
    "cos_scores = util.pytorch_cos_sim(query_embedding, faq_embeddings)[0]"
   ]
  },
  {
   "cell_type": "markdown",
   "id": "9a454677",
   "metadata": {},
   "source": [
    "# Find best matching FAQ"
   ]
  },
  {
   "cell_type": "code",
   "execution_count": 8,
   "id": "a197df23",
   "metadata": {},
   "outputs": [
    {
     "name": "stdout",
     "output_type": "stream",
     "text": [
      "❓ User Query:\n",
      " I want to change the email linked to my account.\n",
      "\n",
      "✅ Matched FAQ:\n",
      " How do I update my account information?\n",
      "\n",
      "💬 Answer:\n",
      " Visit Account Settings to update your personal info.\n",
      "\n",
      "🔢 Similarity Score: 0.58\n"
     ]
    }
   ],
   "source": [
    "best_match_idx = int(cos_scores.argmax())\n",
    "print(\"❓ User Query:\\n\", user_query)\n",
    "print(\"\\n✅ Matched FAQ:\\n\", faq_questions[best_match_idx])\n",
    "print(\"\\n💬 Answer:\\n\", faq_answers[best_match_idx])\n",
    "print(\"\\n🔢 Similarity Score: {:.2f}\".format(cos_scores[best_match_idx].item()))"
   ]
  }
 ],
 "metadata": {
  "kernelspec": {
   "display_name": "Python 3",
   "language": "python",
   "name": "python3"
  },
  "language_info": {
   "codemirror_mode": {
    "name": "ipython",
    "version": 3
   },
   "file_extension": ".py",
   "mimetype": "text/x-python",
   "name": "python",
   "nbconvert_exporter": "python",
   "pygments_lexer": "ipython3",
   "version": "3.12.5"
  }
 },
 "nbformat": 4,
 "nbformat_minor": 5
}
