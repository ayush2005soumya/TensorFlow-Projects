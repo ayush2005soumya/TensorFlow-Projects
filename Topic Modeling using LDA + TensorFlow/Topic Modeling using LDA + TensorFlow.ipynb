{
 "cells": [
  {
   "cell_type": "code",
   "execution_count": 8,
   "id": "7f36d7c7",
   "metadata": {},
   "outputs": [],
   "source": [
    "import tensorflow as tf\n",
    "import tensorflow_probability as tfp\n",
    "import numpy as np"
   ]
  },
  {
   "cell_type": "markdown",
   "id": "8225f889",
   "metadata": {},
   "source": [
    "# Simulated vocabulary and documents"
   ]
  },
  {
   "cell_type": "code",
   "execution_count": 9,
   "id": "de8d239d",
   "metadata": {},
   "outputs": [],
   "source": [
    "vocab = [\"economy\", \"money\", \"market\", \"football\", \"goal\", \"team\", \"python\", \"code\", \"model\"]\n",
    "vocab_size = len(vocab)"
   ]
  },
  {
   "cell_type": "markdown",
   "id": "1d73af65",
   "metadata": {},
   "source": [
    "# Simulate 3 topics"
   ]
  },
  {
   "cell_type": "code",
   "execution_count": 10,
   "id": "b0dad1c0",
   "metadata": {},
   "outputs": [],
   "source": [
    "topics = [\n",
    "    [0.4, 0.3, 0.3, 0, 0, 0, 0, 0, 0],  # Topic 0: economy\n",
    "    [0, 0, 0, 0.3, 0.4, 0.3, 0, 0, 0],  # Topic 1: sports\n",
    "    [0, 0, 0, 0, 0, 0, 0.3, 0.3, 0.4]   # Topic 2: tech\n",
    "]"
   ]
  },
  {
   "cell_type": "markdown",
   "id": "c3884f85",
   "metadata": {},
   "source": [
    "# Sample a topic distribution per document (Dirichlet prior)"
   ]
  },
  {
   "cell_type": "code",
   "execution_count": 11,
   "id": "6c8a063c",
   "metadata": {},
   "outputs": [],
   "source": [
    "doc_topic_dist = tfp.distributions.Dirichlet(concentration=[0.5, 0.5, 0.5])\n",
    "sampled_topic_dists = doc_topic_dist.sample(5)  # 5 documents"
   ]
  },
  {
   "cell_type": "markdown",
   "id": "4082e97b",
   "metadata": {},
   "source": [
    "# Sample words for each document based on topic mixture"
   ]
  },
  {
   "cell_type": "code",
   "execution_count": 12,
   "id": "b3223557",
   "metadata": {},
   "outputs": [
    {
     "name": "stdout",
     "output_type": "stream",
     "text": [
      "\n",
      "Document 1 (Topic 0):\n",
      "economy market economy market money economy \n",
      "Document 2 (Topic 2):\n",
      "python python code model model python \n",
      "Document 3 (Topic 1):\n",
      "team goal team goal goal football \n",
      "Document 4 (Topic 2):\n",
      "code python python python model model \n",
      "Document 5 (Topic 1):\n",
      "team team team team goal football "
     ]
    }
   ],
   "source": [
    "for i, topic_dist in enumerate(sampled_topic_dists):\n",
    "    topic_idx = tf.random.categorical(tf.math.log([topic_dist]), num_samples=1)[0][0]\n",
    "    topic_word_probs = topics[topic_idx]\n",
    "    \n",
    "    word_dist = tfp.distributions.OneHotCategorical(probs=topic_word_probs)\n",
    "    sampled_words = word_dist.sample(6).numpy()  # 6 words per doc\n",
    "    \n",
    "    print(f\"\\nDocument {i+1} (Topic {topic_idx.numpy()}):\")\n",
    "    for word_vec in sampled_words:\n",
    "        word_idx = np.argmax(word_vec)\n",
    "        print(vocab[word_idx], end=' ')"
   ]
  }
 ],
 "metadata": {
  "kernelspec": {
   "display_name": "Python 3",
   "language": "python",
   "name": "python3"
  },
  "language_info": {
   "codemirror_mode": {
    "name": "ipython",
    "version": 3
   },
   "file_extension": ".py",
   "mimetype": "text/x-python",
   "name": "python",
   "nbconvert_exporter": "python",
   "pygments_lexer": "ipython3",
   "version": "3.12.5"
  }
 },
 "nbformat": 4,
 "nbformat_minor": 5
}
