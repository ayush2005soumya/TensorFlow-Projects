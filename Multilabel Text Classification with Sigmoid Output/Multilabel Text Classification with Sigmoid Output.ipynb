{
 "cells": [
  {
   "cell_type": "code",
   "execution_count": 2,
   "id": "af9a3cf6",
   "metadata": {},
   "outputs": [],
   "source": [
    "import tensorflow as tf\n",
    "from sklearn.feature_extraction.text import TfidfVectorizer\n",
    "from sklearn.preprocessing import MultiLabelBinarizer\n",
    "from sklearn.model_selection import train_test_split\n",
    "import numpy as np"
   ]
  },
  {
   "cell_type": "markdown",
   "id": "0d464675",
   "metadata": {},
   "source": [
    "# Sample dataset (texts with multiple tags)"
   ]
  },
  {
   "cell_type": "code",
   "execution_count": 3,
   "id": "ecabc060",
   "metadata": {},
   "outputs": [],
   "source": [
    "texts = [\n",
    "    \"The stock market saw major gains today.\",               # finance\n",
    "    \"New iPhone features cutting-edge technology.\",          # tech\n",
    "    \"Google and Microsoft both released earnings reports.\",  # tech, finance\n",
    "    \"The Lakers won the basketball championship.\",           # sports\n",
    "    \"Tesla's new AI chips are revolutionizing cars.\"         # tech, auto\n",
    "]\n",
    " \n",
    "labels = [\n",
    "    [\"finance\"],\n",
    "    [\"tech\"],\n",
    "    [\"tech\", \"finance\"],\n",
    "    [\"sports\"],\n",
    "    [\"tech\", \"auto\"]\n",
    "]"
   ]
  },
  {
   "cell_type": "markdown",
   "id": "b7868b4a",
   "metadata": {},
   "source": [
    "# Binarize multilabels"
   ]
  },
  {
   "cell_type": "markdown",
   "id": "fd6b3c94",
   "metadata": {},
   "source": [
    "mlb = MultiLabelBinarizer()\n",
    "y = mlb.fit_transform(labels)"
   ]
  },
  {
   "cell_type": "markdown",
   "id": "aa39a7e5",
   "metadata": {},
   "source": [
    "# TF-IDF vectorization"
   ]
  },
  {
   "cell_type": "code",
   "execution_count": 4,
   "id": "d45fc3ac",
   "metadata": {},
   "outputs": [],
   "source": [
    "vectorizer = TfidfVectorizer()\n",
    "X = vectorizer.fit_transform(texts).toarray()"
   ]
  },
  {
   "cell_type": "markdown",
   "id": "001896b3",
   "metadata": {},
   "source": [
    "# Split data"
   ]
  },
  {
   "cell_type": "code",
   "execution_count": 5,
   "id": "ae78ed87",
   "metadata": {},
   "outputs": [],
   "source": [
    "X_train, X_test, y_train, y_test = train_test_split(X, y, test_size=0.2, random_state=42)"
   ]
  },
  {
   "cell_type": "markdown",
   "id": "af0ddeb8",
   "metadata": {},
   "source": [
    "# Build multilabel classification model"
   ]
  },
  {
   "cell_type": "code",
   "execution_count": 6,
   "id": "7a4a2a64",
   "metadata": {},
   "outputs": [],
   "source": [
    "model = tf.keras.Sequential([\n",
    "    tf.keras.layers.Input(shape=(X.shape[1],)),\n",
    "    tf.keras.layers.Dense(64, activation='relu'),\n",
    "    tf.keras.layers.Dense(len(mlb.classes_), activation='sigmoid')  # One sigmoid per label\n",
    "])"
   ]
  },
  {
   "cell_type": "markdown",
   "id": "af3e125c",
   "metadata": {},
   "source": [
    "# Compile and train"
   ]
  },
  {
   "cell_type": "code",
   "execution_count": 7,
   "id": "5cf0e312",
   "metadata": {},
   "outputs": [
    {
     "data": {
      "text/plain": [
       "<keras.src.callbacks.history.History at 0x21906a64e60>"
      ]
     },
     "execution_count": 7,
     "metadata": {},
     "output_type": "execute_result"
    }
   ],
   "source": [
    "model.compile(optimizer='adam', loss='binary_crossentropy', metrics=['accuracy'])\n",
    "model.fit(X_train, y_train, epochs=10, verbose=0)"
   ]
  },
  {
   "cell_type": "markdown",
   "id": "adfd8745",
   "metadata": {},
   "source": [
    "# Predict on new sample"
   ]
  },
  {
   "cell_type": "code",
   "execution_count": 8,
   "id": "7787e54b",
   "metadata": {},
   "outputs": [
    {
     "name": "stdout",
     "output_type": "stream",
     "text": [
      "\u001b[1m1/1\u001b[0m \u001b[32m━━━━━━━━━━━━━━━━━━━━\u001b[0m\u001b[37m\u001b[0m \u001b[1m0s\u001b[0m 58ms/step\n",
      "📝 New Text:\n",
      " Apple's quarterly earnings beat expectations.\n",
      "\n",
      "📌 Predicted Tags: ['auto', 'finance']\n"
     ]
    }
   ],
   "source": [
    "new_text = [\"Apple's quarterly earnings beat expectations.\"]\n",
    "new_X = vectorizer.transform(new_text).toarray()\n",
    "pred = model.predict(new_X)[0]\n",
    "thresholded = [mlb.classes_[i] for i, p in enumerate(pred) if p > 0.5]\n",
    " \n",
    "print(\"📝 New Text:\\n\", new_text[0])\n",
    "print(\"\\n📌 Predicted Tags:\", thresholded)"
   ]
  }
 ],
 "metadata": {
  "kernelspec": {
   "display_name": "Python 3",
   "language": "python",
   "name": "python3"
  },
  "language_info": {
   "codemirror_mode": {
    "name": "ipython",
    "version": 3
   },
   "file_extension": ".py",
   "mimetype": "text/x-python",
   "name": "python",
   "nbconvert_exporter": "python",
   "pygments_lexer": "ipython3",
   "version": "3.12.5"
  }
 },
 "nbformat": 4,
 "nbformat_minor": 5
}
