{
 "cells": [
  {
   "cell_type": "code",
   "execution_count": 1,
   "id": "6b453cc7",
   "metadata": {},
   "outputs": [],
   "source": [
    "import spacy\n",
    "from spacy.matcher import Matcher"
   ]
  },
  {
   "cell_type": "markdown",
   "id": "a643da33",
   "metadata": {},
   "source": [
    "# Load spaCy language model"
   ]
  },
  {
   "cell_type": "code",
   "execution_count": null,
   "id": "39477d4b",
   "metadata": {},
   "outputs": [],
   "source": [
    "nlp = spacy.load(\"en_core_web_sm\")"
   ]
  },
  {
   "cell_type": "markdown",
   "id": "e917e427",
   "metadata": {},
   "source": [
    "# Input sentence"
   ]
  },
  {
   "cell_type": "code",
   "execution_count": 3,
   "id": "1b679339",
   "metadata": {},
   "outputs": [],
   "source": [
    "text = \"Anish works for Cilian Enterprise.\""
   ]
  },
  {
   "cell_type": "markdown",
   "id": "d41fcc4a",
   "metadata": {},
   "source": [
    "# Define matcher for \"PERSON works for ORG\""
   ]
  },
  {
   "cell_type": "code",
   "execution_count": 4,
   "id": "c4bb7dee",
   "metadata": {},
   "outputs": [],
   "source": [
    "matcher = Matcher(nlp.vocab)\n",
    "pattern = [\n",
    "    {\"ENT_TYPE\": \"PERSON\"},\n",
    "    {\"LEMMA\": \"work\", \"OP\": \"?\"},\n",
    "    {\"LOWER\": \"for\"},\n",
    "    {\"ENT_TYPE\": \"ORG\"}\n",
    "]\n",
    "matcher.add(\"WORKS_FOR\", [pattern])"
   ]
  },
  {
   "cell_type": "markdown",
   "id": "735524db",
   "metadata": {},
   "source": [
    "# Process the text"
   ]
  },
  {
   "cell_type": "code",
   "execution_count": 5,
   "id": "5eee2d8b",
   "metadata": {},
   "outputs": [],
   "source": [
    "doc = nlp(text)"
   ]
  },
  {
   "cell_type": "markdown",
   "id": "b9f72a95",
   "metadata": {},
   "source": [
    "# Find matches"
   ]
  },
  {
   "cell_type": "code",
   "execution_count": 7,
   "id": "9af4e739",
   "metadata": {},
   "outputs": [
    {
     "name": "stdout",
     "output_type": "stream",
     "text": [
      "📄 Text:\n",
      " Anish works for Cilian Enterprise.\n",
      "\n",
      "🔗 Extracted Relations:\n",
      "\n"
     ]
    }
   ],
   "source": [
    "matches = matcher(doc)\n",
    "print(\"📄 Text:\\n\", text)\n",
    "print(\"\\n🔗 Extracted Relations:\\n\")\n",
    "for match_id, start, end in matches:\n",
    "    span = doc[start:end]\n",
    "    person = None\n",
    "    org = None\n",
    "    for ent in doc.ents:\n",
    "        if ent.label_ == \"PERSON\" and ent.start >= start and ent.end <= end:\n",
    "            person = ent.text\n",
    "        elif ent.label_ == \"ORG\" and ent.start >= start and ent.end <= end:\n",
    "            org = ent.text\n",
    "    \n",
    "    if person and org:\n",
    "        print(f\"{person} → works for → {org}\")"
   ]
  }
 ],
 "metadata": {
  "kernelspec": {
   "display_name": "Python 3",
   "language": "python",
   "name": "python3"
  },
  "language_info": {
   "codemirror_mode": {
    "name": "ipython",
    "version": 3
   },
   "file_extension": ".py",
   "mimetype": "text/x-python",
   "name": "python",
   "nbconvert_exporter": "python",
   "pygments_lexer": "ipython3",
   "version": "3.12.5"
  }
 },
 "nbformat": 4,
 "nbformat_minor": 5
}
