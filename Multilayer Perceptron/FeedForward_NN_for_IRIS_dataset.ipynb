{
 "cells": [
  {
   "cell_type": "code",
   "execution_count": 1,
   "id": "7123bf6e",
   "metadata": {},
   "outputs": [],
   "source": [
    "import tensorflow as tf\n",
    "from sklearn.datasets import load_iris\n",
    "from sklearn.model_selection import train_test_split\n",
    "from sklearn.preprocessing import StandardScaler, OneHotEncoder\n"
   ]
  },
  {
   "cell_type": "markdown",
   "id": "72b4eb2f",
   "metadata": {},
   "source": [
    "# load Iris Dataset"
   ]
  },
  {
   "cell_type": "code",
   "execution_count": 2,
   "id": "233efca4",
   "metadata": {},
   "outputs": [],
   "source": [
    "iris=load_iris()\n",
    "X = iris.data # Features: sepal & petal length/width\n",
    "y = iris.target.reshape(-1,1) # Labels: 0, 1, 2"
   ]
  },
  {
   "cell_type": "markdown",
   "id": "a72fe3a2",
   "metadata": {},
   "source": [
    "# One-hot encode labels for multiclass classification"
   ]
  },
  {
   "cell_type": "code",
   "execution_count": 4,
   "id": "1d792de7",
   "metadata": {},
   "outputs": [],
   "source": [
    "encoder = OneHotEncoder(sparse_output=False)\n",
    "y_encoded = encoder.fit_transform(y)                    # Convert to one-hot format"
   ]
  },
  {
   "cell_type": "markdown",
   "id": "a9d6db6c",
   "metadata": {},
   "source": [
    "# Standardize Features"
   ]
  },
  {
   "cell_type": "code",
   "execution_count": 3,
   "id": "0f261884",
   "metadata": {},
   "outputs": [],
   "source": [
    "scalar = StandardScaler()\n",
    "X_scaled = scalar.fit_transform(X) # Normalize features"
   ]
  },
  {
   "cell_type": "markdown",
   "id": "7e10587a",
   "metadata": {},
   "source": [
    "# split into training and testing data"
   ]
  },
  {
   "cell_type": "code",
   "execution_count": 5,
   "id": "b3d40a54",
   "metadata": {},
   "outputs": [],
   "source": [
    "X_train, X_test, y_train, y_test = train_test_split(X_scaled, y_encoded, test_size=0.2, random_state=42)"
   ]
  },
  {
   "cell_type": "markdown",
   "id": "f5efd929",
   "metadata": {},
   "source": [
    "# Define the MLP model"
   ]
  },
  {
   "cell_type": "code",
   "execution_count": 6,
   "id": "3c23f537",
   "metadata": {},
   "outputs": [
    {
     "name": "stderr",
     "output_type": "stream",
     "text": [
      "c:\\Users\\Dell\\AppData\\Local\\Programs\\Python\\Python312\\Lib\\site-packages\\keras\\src\\layers\\core\\dense.py:87: UserWarning: Do not pass an `input_shape`/`input_dim` argument to a layer. When using Sequential models, prefer using an `Input(shape)` object as the first layer in the model instead.\n",
      "  super().__init__(activity_regularizer=activity_regularizer, **kwargs)\n"
     ]
    }
   ],
   "source": [
    "model = tf.keras.Sequential([\n",
    "    tf.keras.layers.Dense(10, activation='relu', input_shape=(4,)),   # First hidden layer with 10 ReLU units\n",
    "    tf.keras.layers.Dense(8, activation='relu'),                      # Second hidden layer with 8 ReLU units\n",
    "    tf.keras.layers.Dense(3, activation='softmax')                    # Output layer with softmax for 3 classes\n",
    "])"
   ]
  },
  {
   "cell_type": "markdown",
   "id": "522cda86",
   "metadata": {},
   "source": [
    "# Compile the model with categorical crossentropy and Adam optimizer"
   ]
  },
  {
   "cell_type": "code",
   "execution_count": 7,
   "id": "3ae315f6",
   "metadata": {},
   "outputs": [],
   "source": [
    "model.compile(optimizer='adam', loss='categorical_crossentropy', metrics=['accuracy'])"
   ]
  },
  {
   "cell_type": "markdown",
   "id": "93606296",
   "metadata": {},
   "source": [
    "# Train the model"
   ]
  },
  {
   "cell_type": "code",
   "execution_count": 8,
   "id": "22823d7b",
   "metadata": {},
   "outputs": [
    {
     "data": {
      "text/plain": [
       "<keras.src.callbacks.history.History at 0x14081c89ca0>"
      ]
     },
     "execution_count": 8,
     "metadata": {},
     "output_type": "execute_result"
    }
   ],
   "source": [
    "model.fit(X_train, y_train, epochs=100, verbose=0)        # Train silently for 100 epochs"
   ]
  },
  {
   "cell_type": "markdown",
   "id": "e7d4cf11",
   "metadata": {},
   "source": [
    "# Evaluate the model on the test set"
   ]
  },
  {
   "cell_type": "code",
   "execution_count": 9,
   "id": "3f07e0f2",
   "metadata": {},
   "outputs": [
    {
     "name": "stdout",
     "output_type": "stream",
     "text": [
      "Test Accuracy: 0.93\n"
     ]
    }
   ],
   "source": [
    "loss,acc=model.evaluate(X_test, y_test, verbose=0) # Evaluate model performance\n",
    "print(f\"Test Accuracy: {acc:.2f}\")"
   ]
  },
  {
   "cell_type": "code",
   "execution_count": 18,
   "id": "649348ed",
   "metadata": {},
   "outputs": [
    {
     "name": "stdout",
     "output_type": "stream",
     "text": [
      "You must install graphviz (see instructions at https://graphviz.gitlab.io/download/) for `plot_model` to work.\n"
     ]
    }
   ],
   "source": [
    "from tensorflow.keras.utils import plot_model\n",
    "plot_model(model, to_file='model_architecture.png', show_layer_names=True, show_shapes=True)"
   ]
  }
 ],
 "metadata": {
  "kernelspec": {
   "display_name": "Python 3",
   "language": "python",
   "name": "python3"
  },
  "language_info": {
   "codemirror_mode": {
    "name": "ipython",
    "version": 3
   },
   "file_extension": ".py",
   "mimetype": "text/x-python",
   "name": "python",
   "nbconvert_exporter": "python",
   "pygments_lexer": "ipython3",
   "version": "3.12.5"
  }
 },
 "nbformat": 4,
 "nbformat_minor": 5
}
