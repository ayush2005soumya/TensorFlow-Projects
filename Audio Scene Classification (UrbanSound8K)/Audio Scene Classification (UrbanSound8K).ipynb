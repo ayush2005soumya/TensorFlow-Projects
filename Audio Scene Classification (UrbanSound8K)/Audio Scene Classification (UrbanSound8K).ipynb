{
 "cells": [
  {
   "cell_type": "code",
   "execution_count": 1,
   "id": "dd7fe113",
   "metadata": {},
   "outputs": [],
   "source": [
    "import tensorflow as tf\n",
    "import numpy as np\n",
    "import librosa\n",
    "import random"
   ]
  },
  {
   "cell_type": "markdown",
   "id": "7a3e8d58",
   "metadata": {},
   "source": [
    "# Simulate audio features for 5 scene classes (e.g., siren, dog, drilling, engine, children)"
   ]
  },
  {
   "cell_type": "code",
   "execution_count": 2,
   "id": "c4a1c009",
   "metadata": {},
   "outputs": [],
   "source": [
    "def generate_urban_audio_data(classes=5, samples_per_class=40, max_len=100, n_mfcc=20):\n",
    "    X, y = [], []\n",
    "    for label in range(classes):\n",
    "        for _ in range(samples_per_class):\n",
    "            freq = random.uniform(200, 1000) + label * 50  # Vary frequency per class\n",
    "            signal = np.sin(np.linspace(0, 2 * np.pi * freq, 22050))\n",
    "            mfcc = librosa.feature.mfcc(y=signal.astype(np.float32), sr=22050, n_mfcc=n_mfcc)\n",
    "            mfcc = mfcc.T[:max_len]\n",
    "            if mfcc.shape[0] < max_len:\n",
    "                pad = max_len - mfcc.shape[0]\n",
    "                mfcc = np.pad(mfcc, ((0, pad), (0, 0)), mode='constant')\n",
    "            X.append(mfcc)\n",
    "            y.append(label)\n",
    "    return np.array(X), tf.keras.utils.to_categorical(y, num_classes=classes)"
   ]
  },
  {
   "cell_type": "markdown",
   "id": "d2027920",
   "metadata": {},
   "source": [
    "# Create dataset"
   ]
  },
  {
   "cell_type": "code",
   "execution_count": 3,
   "id": "37f4c3d4",
   "metadata": {},
   "outputs": [],
   "source": [
    "X, y = generate_urban_audio_data()\n",
    "X = X[..., np.newaxis]  # Add channel dimension"
   ]
  },
  {
   "cell_type": "markdown",
   "id": "60e7ed16",
   "metadata": {},
   "source": [
    "# Split into train and test sets"
   ]
  },
  {
   "cell_type": "code",
   "execution_count": 4,
   "id": "73f5c15e",
   "metadata": {},
   "outputs": [],
   "source": [
    "split = int(0.8 * len(X))\n",
    "X_train, X_test = X[:split], X[split:]\n",
    "y_train, y_test = y[:split], y[split:]"
   ]
  },
  {
   "cell_type": "markdown",
   "id": "136c3d93",
   "metadata": {},
   "source": [
    "# Build CNN model for scene classification"
   ]
  },
  {
   "cell_type": "code",
   "execution_count": 5,
   "id": "0a81023f",
   "metadata": {},
   "outputs": [
    {
     "name": "stderr",
     "output_type": "stream",
     "text": [
      "c:\\Users\\Dell\\AppData\\Local\\Programs\\Python\\Python312\\Lib\\site-packages\\keras\\src\\layers\\convolutional\\base_conv.py:113: UserWarning: Do not pass an `input_shape`/`input_dim` argument to a layer. When using Sequential models, prefer using an `Input(shape)` object as the first layer in the model instead.\n",
      "  super().__init__(activity_regularizer=activity_regularizer, **kwargs)\n"
     ]
    }
   ],
   "source": [
    "model = tf.keras.Sequential([\n",
    "    tf.keras.layers.Conv2D(32, (3, 3), activation='relu', input_shape=X.shape[1:]),\n",
    "    tf.keras.layers.MaxPooling2D((2, 2)),\n",
    "    tf.keras.layers.Conv2D(64, (3, 3), activation='relu'),\n",
    "    tf.keras.layers.GlobalAveragePooling2D(),\n",
    "    tf.keras.layers.Dense(64, activation='relu'),\n",
    "    tf.keras.layers.Dense(y.shape[1], activation='softmax')\n",
    "])"
   ]
  },
  {
   "cell_type": "markdown",
   "id": "55d14882",
   "metadata": {},
   "source": [
    "# Compile and train"
   ]
  },
  {
   "cell_type": "code",
   "execution_count": 6,
   "id": "3e26936a",
   "metadata": {},
   "outputs": [
    {
     "name": "stdout",
     "output_type": "stream",
     "text": [
      "Epoch 1/10\n",
      "\u001b[1m4/4\u001b[0m \u001b[32m━━━━━━━━━━━━━━━━━━━━\u001b[0m\u001b[37m\u001b[0m \u001b[1m1s\u001b[0m 96ms/step - accuracy: 0.1823 - loss: 2.1172 - val_accuracy: 0.0000e+00 - val_loss: 4.1326\n",
      "Epoch 2/10\n",
      "\u001b[1m4/4\u001b[0m \u001b[32m━━━━━━━━━━━━━━━━━━━━\u001b[0m\u001b[37m\u001b[0m \u001b[1m0s\u001b[0m 65ms/step - accuracy: 0.3417 - loss: 1.5581 - val_accuracy: 0.0000e+00 - val_loss: 4.9868\n",
      "Epoch 3/10\n",
      "\u001b[1m4/4\u001b[0m \u001b[32m━━━━━━━━━━━━━━━━━━━━\u001b[0m\u001b[37m\u001b[0m \u001b[1m0s\u001b[0m 40ms/step - accuracy: 0.2823 - loss: 1.4189 - val_accuracy: 0.0000e+00 - val_loss: 4.1563\n",
      "Epoch 4/10\n",
      "\u001b[1m4/4\u001b[0m \u001b[32m━━━━━━━━━━━━━━━━━━━━\u001b[0m\u001b[37m\u001b[0m \u001b[1m0s\u001b[0m 52ms/step - accuracy: 0.3385 - loss: 1.3333 - val_accuracy: 0.0000e+00 - val_loss: 3.4131\n",
      "Epoch 5/10\n",
      "\u001b[1m4/4\u001b[0m \u001b[32m━━━━━━━━━━━━━━━━━━━━\u001b[0m\u001b[37m\u001b[0m \u001b[1m0s\u001b[0m 51ms/step - accuracy: 0.3885 - loss: 1.2466 - val_accuracy: 0.0000e+00 - val_loss: 2.5640\n",
      "Epoch 6/10\n",
      "\u001b[1m4/4\u001b[0m \u001b[32m━━━━━━━━━━━━━━━━━━━━\u001b[0m\u001b[37m\u001b[0m \u001b[1m0s\u001b[0m 43ms/step - accuracy: 0.3604 - loss: 1.3088 - val_accuracy: 0.0000e+00 - val_loss: 2.0541\n",
      "Epoch 7/10\n",
      "\u001b[1m4/4\u001b[0m \u001b[32m━━━━━━━━━━━━━━━━━━━━\u001b[0m\u001b[37m\u001b[0m \u001b[1m0s\u001b[0m 39ms/step - accuracy: 0.3177 - loss: 1.2927 - val_accuracy: 0.0000e+00 - val_loss: 2.4153\n",
      "Epoch 8/10\n",
      "\u001b[1m4/4\u001b[0m \u001b[32m━━━━━━━━━━━━━━━━━━━━\u001b[0m\u001b[37m\u001b[0m \u001b[1m0s\u001b[0m 36ms/step - accuracy: 0.3385 - loss: 1.2369 - val_accuracy: 0.0000e+00 - val_loss: 2.8738\n",
      "Epoch 9/10\n",
      "\u001b[1m4/4\u001b[0m \u001b[32m━━━━━━━━━━━━━━━━━━━━\u001b[0m\u001b[37m\u001b[0m \u001b[1m0s\u001b[0m 46ms/step - accuracy: 0.4750 - loss: 1.2258 - val_accuracy: 0.0000e+00 - val_loss: 3.1119\n",
      "Epoch 10/10\n",
      "\u001b[1m4/4\u001b[0m \u001b[32m━━━━━━━━━━━━━━━━━━━━\u001b[0m\u001b[37m\u001b[0m \u001b[1m0s\u001b[0m 36ms/step - accuracy: 0.3854 - loss: 1.2420 - val_accuracy: 0.0000e+00 - val_loss: 3.0837\n"
     ]
    },
    {
     "data": {
      "text/plain": [
       "<keras.src.callbacks.history.History at 0x1b6af302000>"
      ]
     },
     "execution_count": 6,
     "metadata": {},
     "output_type": "execute_result"
    }
   ],
   "source": [
    "model.compile(optimizer='adam', loss='categorical_crossentropy', metrics=['accuracy'])\n",
    "model.fit(X_train, y_train, epochs=10, validation_split=0.2)"
   ]
  },
  {
   "cell_type": "markdown",
   "id": "f91b7129",
   "metadata": {},
   "source": [
    "# Evaluate model"
   ]
  },
  {
   "cell_type": "code",
   "execution_count": 7,
   "id": "9351a340",
   "metadata": {},
   "outputs": [
    {
     "name": "stdout",
     "output_type": "stream",
     "text": [
      "🏙️ Urban Sound Scene Classification Accuracy: 0.00\n"
     ]
    }
   ],
   "source": [
    "loss, acc = model.evaluate(X_test, y_test, verbose=0)\n",
    "print(f\"🏙️ Urban Sound Scene Classification Accuracy: {acc:.2f}\")"
   ]
  }
 ],
 "metadata": {
  "kernelspec": {
   "display_name": "Python 3",
   "language": "python",
   "name": "python3"
  },
  "language_info": {
   "codemirror_mode": {
    "name": "ipython",
    "version": 3
   },
   "file_extension": ".py",
   "mimetype": "text/x-python",
   "name": "python",
   "nbconvert_exporter": "python",
   "pygments_lexer": "ipython3",
   "version": "3.12.5"
  }
 },
 "nbformat": 4,
 "nbformat_minor": 5
}
