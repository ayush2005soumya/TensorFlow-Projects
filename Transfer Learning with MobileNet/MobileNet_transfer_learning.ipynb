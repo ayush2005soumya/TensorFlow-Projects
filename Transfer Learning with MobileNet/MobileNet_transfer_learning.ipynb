{
 "cells": [
  {
   "cell_type": "code",
   "execution_count": null,
   "id": "565e005a",
   "metadata": {},
   "outputs": [],
   "source": [
    "import tensorflow as tf\n",
    "import tensorflow_hub as hub\n",
    "import tensorflow_datasets as tfds\n",
    "import matplotlib.pyplot as plt"
   ]
  },
  {
   "cell_type": "markdown",
   "id": "6c0781eb",
   "metadata": {},
   "source": [
    "# Load cats_vs_dogs dataset from TensorFlow Datasets"
   ]
  },
  {
   "cell_type": "code",
   "execution_count": null,
   "id": "3976a013",
   "metadata": {},
   "outputs": [],
   "source": [
    "import os\n",
    "!curl -O https://download.microsoft.com/download/3/E/1/3E1C3F21-ECDB-4869-8368-6DEBA77B919F/kagglecatsanddogs_5340.zip\n",
    "import zipfile\n",
    "\n",
    "\n",
    "\n",
    "with zipfile.ZipFile(r\"G:\\MY PROJECTS\\TENSORFLOW\\Transfer Learning with MobileNet\\kagglecatsanddogs_5340.zip\", 'r') as zip_ref:\n",
    "\n",
    "    zip_ref.extractall()\n",
    "from os import listdir\n",
    "listdir(r\"G:\\MY PROJECTS\\TENSORFLOW\\Transfer Learning with MobileNet\\PetImages\")\n",
    "#filter out corrupted images\n",
    "num_skipped = 0\n",
    "for folder_name in (\"Cat\", \"Dog\"):\n",
    "    folder_path = os.path.join(\"PetImages\", folder_name)\n",
    "    for fname in os.listdir(folder_path):\n",
    "        fpath = os.path.join(folder_path, fname)\n",
    "        try:\n",
    "            fobj = open(fpath, \"rb\")\n",
    "            is_jfif = b\"JFIF\" in fobj.peek(10)\n",
    "        finally:\n",
    "            fobj.close()\n",
    "\n",
    "        if not is_jfif:\n",
    "            num_skipped += 1\n",
    "            # Delete corrupted image\n",
    "            os.remove(fpath)\n",
    "\n",
    "print(f\"Deleted {num_skipped} images.\")"
   ]
  },
  {
   "cell_type": "code",
   "execution_count": null,
   "id": "172a42f4",
   "metadata": {},
   "outputs": [],
   "source": [
    "from tensorflow.keras.utils import image_dataset_from_directory\n",
    "\n",
    "data_dir = r\"G:\\MY PROJECTS\\TENSORFLOW\\Transfer Learning with MobileNet\\PetImages\"\n",
    "batch_size = 32\n",
    "img_size = (160, 160)\n",
    "seed = 123\n",
    "\n",
    "# Load training and validation datasets from the filtered local directory\n",
    "train_ds = image_dataset_from_directory(\n",
    "    data_dir,\n",
    "    validation_split=0.2,\n",
    "    subset=\"training\",\n",
    "    seed=seed,\n",
    "    image_size=img_size,\n",
    "    batch_size=batch_size\n",
    ")\n",
    "val_ds = image_dataset_from_directory(\n",
    "    data_dir,\n",
    "    validation_split=0.2,\n",
    "    subset=\"validation\",\n",
    "    seed=seed,\n",
    "    image_size=img_size,\n",
    "    batch_size=batch_size\n",
    ")"
   ]
  },
  {
   "cell_type": "markdown",
   "id": "e18496fd",
   "metadata": {},
   "source": [
    "# Preprocess: resize and normalize"
   ]
  },
  {
   "cell_type": "code",
   "execution_count": null,
   "id": "b7211233",
   "metadata": {},
   "outputs": [],
   "source": [
    "IMG_SIZE = 160\n",
    "def format_image(image, label):\n",
    "    image = tf.image.resize(image, (IMG_SIZE, IMG_SIZE))     # Resize to 160x160\n",
    "    image = image / 255.0                                    # Normalize to [0, 1]\n",
    "    return image, label\n",
    " \n",
    "train_ds = train_ds.map(format_image).batch(32).prefetch(tf.data.AUTOTUNE)\n",
    "val_ds = val_ds.map(format_image).batch(32).prefetch(tf.data.AUTOTUNE)"
   ]
  },
  {
   "cell_type": "markdown",
   "id": "853750e0",
   "metadata": {},
   "source": [
    "# Load MobileNetV2 as feature extractor (frozen)"
   ]
  },
  {
   "cell_type": "code",
   "execution_count": null,
   "id": "4f52e4a6",
   "metadata": {},
   "outputs": [],
   "source": [
    "feature_extractor_url = \"https://tfhub.dev/google/tf2-preview/mobilenet_v2/feature_vector/4\"\n",
    "feature_extractor_layer = hub.KerasLayer(\n",
    "    feature_extractor_url, input_shape=(IMG_SIZE, IMG_SIZE, 3), trainable=False\n",
    ")"
   ]
  },
  {
   "cell_type": "markdown",
   "id": "17884f1f",
   "metadata": {},
   "source": [
    "# Build the model"
   ]
  },
  {
   "cell_type": "code",
   "execution_count": null,
   "id": "0f363dcb",
   "metadata": {},
   "outputs": [],
   "source": [
    "inputs = tf.keras.Input(shape=(IMG_SIZE, IMG_SIZE, 3))\n",
    "x = feature_extractor_layer(inputs)\n",
    "print(x.shape)  # Should be (None, 1280)\n",
    "# Remove any shape or flatten logic, connect directly to Dense\n",
    "outputs = tf.keras.layers.Dense(1, activation='sigmoid')(x)\n",
    "model = tf.keras.Model(inputs, outputs)"
   ]
  },
  {
   "cell_type": "markdown",
   "id": "2b6155c6",
   "metadata": {},
   "source": [
    "# Compile the model"
   ]
  },
  {
   "cell_type": "code",
   "execution_count": null,
   "id": "8807af08",
   "metadata": {},
   "outputs": [],
   "source": [
    "model.compile(optimizer='adam', loss='binary_crossentropy', metrics=['accuracy'])"
   ]
  },
  {
   "cell_type": "markdown",
   "id": "1bd1837a",
   "metadata": {},
   "source": [
    "# Train the model"
   ]
  },
  {
   "cell_type": "code",
   "execution_count": null,
   "id": "702106ad",
   "metadata": {},
   "outputs": [],
   "source": [
    "model.fit(train_ds, validation_data=val_ds, epochs=3)"
   ]
  },
  {
   "cell_type": "markdown",
   "id": "8bd06c7c",
   "metadata": {},
   "source": [
    "# Show prediction on one image"
   ]
  },
  {
   "cell_type": "code",
   "execution_count": null,
   "id": "0b2bf293",
   "metadata": {},
   "outputs": [],
   "source": [
    "for image, label in val_ds.take(1):\n",
    "    pred = model.predict(image[:1])\n",
    "    plt.imshow(image[0])\n",
    "    plt.title(f\"Predicted: {'Dog' if pred[0][0] > 0.5 else 'Cat'}\")\n",
    "    plt.axis('off')\n",
    "    plt.show()\n",
    "    break"
   ]
  }
 ],
 "metadata": {
  "kernelspec": {
   "display_name": "Python 3",
   "language": "python",
   "name": "python3"
  },
  "language_info": {
   "codemirror_mode": {
    "name": "ipython",
    "version": 3
   },
   "file_extension": ".py",
   "mimetype": "text/x-python",
   "name": "python",
   "nbconvert_exporter": "python",
   "pygments_lexer": "ipython3",
   "version": "3.12.5"
  }
 },
 "nbformat": 4,
 "nbformat_minor": 5
}
