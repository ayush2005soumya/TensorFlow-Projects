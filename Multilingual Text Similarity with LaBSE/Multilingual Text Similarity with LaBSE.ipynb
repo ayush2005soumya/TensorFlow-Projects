{
 "cells": [
  {
   "cell_type": "code",
   "execution_count": 3,
   "id": "f3153831",
   "metadata": {},
   "outputs": [],
   "source": [
    "from sentence_transformers import SentenceTransformer, util"
   ]
  },
  {
   "cell_type": "markdown",
   "id": "52b41e88",
   "metadata": {},
   "source": [
    "# Load LaBSE model (supports 100+ languages)"
   ]
  },
  {
   "cell_type": "code",
   "execution_count": 4,
   "id": "92f3ebd3",
   "metadata": {},
   "outputs": [
    {
     "name": "stderr",
     "output_type": "stream",
     "text": [
      "Xet Storage is enabled for this repo, but the 'hf_xet' package is not installed. Falling back to regular HTTP download. For better performance, install the package with: `pip install huggingface_hub[hf_xet]` or `pip install hf_xet`\n"
     ]
    },
    {
     "data": {
      "application/vnd.jupyter.widget-view+json": {
       "model_id": "efd8eb762d054c6da5e72d1b9fba6ea0",
       "version_major": 2,
       "version_minor": 0
      },
      "text/plain": [
       "model.safetensors:   3%|3         | 62.9M/1.95G [00:00<?, ?B/s]"
      ]
     },
     "metadata": {},
     "output_type": "display_data"
    },
    {
     "data": {
      "application/vnd.jupyter.widget-view+json": {
       "model_id": "f78e5caa2d7e444589191e3c6a03880e",
       "version_major": 2,
       "version_minor": 0
      },
      "text/plain": [
       "tokenizer_config.json:   0%|          | 0.00/397 [00:00<?, ?B/s]"
      ]
     },
     "metadata": {},
     "output_type": "display_data"
    },
    {
     "data": {
      "application/vnd.jupyter.widget-view+json": {
       "model_id": "9aa253f095c6426baf026aaec1ac9c35",
       "version_major": 2,
       "version_minor": 0
      },
      "text/plain": [
       "vocab.txt:   0%|          | 0.00/5.22M [00:00<?, ?B/s]"
      ]
     },
     "metadata": {},
     "output_type": "display_data"
    },
    {
     "data": {
      "application/vnd.jupyter.widget-view+json": {
       "model_id": "5a23043261f94f208c08e9c515f00e7c",
       "version_major": 2,
       "version_minor": 0
      },
      "text/plain": [
       "tokenizer.json:   0%|          | 0.00/9.62M [00:00<?, ?B/s]"
      ]
     },
     "metadata": {},
     "output_type": "display_data"
    },
    {
     "data": {
      "application/vnd.jupyter.widget-view+json": {
       "model_id": "bcc84661fada41e58e68e2c507695e8f",
       "version_major": 2,
       "version_minor": 0
      },
      "text/plain": [
       "special_tokens_map.json:   0%|          | 0.00/112 [00:00<?, ?B/s]"
      ]
     },
     "metadata": {},
     "output_type": "display_data"
    },
    {
     "data": {
      "application/vnd.jupyter.widget-view+json": {
       "model_id": "209dabcb809848d7a5767c8e80c53952",
       "version_major": 2,
       "version_minor": 0
      },
      "text/plain": [
       "config.json:   0%|          | 0.00/190 [00:00<?, ?B/s]"
      ]
     },
     "metadata": {},
     "output_type": "display_data"
    },
    {
     "name": "stderr",
     "output_type": "stream",
     "text": [
      "Xet Storage is enabled for this repo, but the 'hf_xet' package is not installed. Falling back to regular HTTP download. For better performance, install the package with: `pip install huggingface_hub[hf_xet]` or `pip install hf_xet`\n",
      "Xet Storage is enabled for this repo, but the 'hf_xet' package is not installed. Falling back to regular HTTP download. For better performance, install the package with: `pip install huggingface_hub[hf_xet]` or `pip install hf_xet`\n"
     ]
    },
    {
     "data": {
      "application/vnd.jupyter.widget-view+json": {
       "model_id": "056b45d9121e4bd9a034d96630d5893c",
       "version_major": 2,
       "version_minor": 0
      },
      "text/plain": [
       "pytorch_model.bin:   0%|          | 0.00/2.36M [00:00<?, ?B/s]"
      ]
     },
     "metadata": {},
     "output_type": "display_data"
    },
    {
     "data": {
      "application/vnd.jupyter.widget-view+json": {
       "model_id": "2cfd8d88a336491a9da06381bdaaa881",
       "version_major": 2,
       "version_minor": 0
      },
      "text/plain": [
       "config.json:   0%|          | 0.00/114 [00:00<?, ?B/s]"
      ]
     },
     "metadata": {},
     "output_type": "display_data"
    },
    {
     "data": {
      "application/vnd.jupyter.widget-view+json": {
       "model_id": "3ace8be85b964c9d87b64d0491e69195",
       "version_major": 2,
       "version_minor": 0
      },
      "text/plain": [
       "model.safetensors:   0%|          | 0.00/2.36M [00:00<?, ?B/s]"
      ]
     },
     "metadata": {},
     "output_type": "display_data"
    }
   ],
   "source": [
    "model = SentenceTransformer(\"sentence-transformers/LaBSE\")"
   ]
  },
  {
   "cell_type": "markdown",
   "id": "9e6914d4",
   "metadata": {},
   "source": [
    "# Sentences in different languages with similar meanings"
   ]
  },
  {
   "cell_type": "code",
   "execution_count": 9,
   "id": "bb2e2fd0",
   "metadata": {},
   "outputs": [],
   "source": [
    "sentences = [\n",
    "    \"Where is the nearest pharmacy?\",                # English\n",
    "    \"¿Dónde está la farmacia más cercana?\",          # Spanish\n",
    "    \"Où se trouve la pharmacie la plus proche ?\",     # French\n",
    "    \"Wo ist die nächste Apotheke?\",                  # German\n",
    "    \"最近の薬局はどこですか？\"                           # Japanese\n",
    "]"
   ]
  },
  {
   "cell_type": "markdown",
   "id": "bbca6c35",
   "metadata": {},
   "source": [
    "# Encode sentences"
   ]
  },
  {
   "cell_type": "code",
   "execution_count": 10,
   "id": "f69876c2",
   "metadata": {},
   "outputs": [],
   "source": [
    "embeddings = model.encode(sentences, convert_to_tensor=True)"
   ]
  },
  {
   "cell_type": "markdown",
   "id": "e71f41fc",
   "metadata": {},
   "source": [
    "# Compute similarity matrix"
   ]
  },
  {
   "cell_type": "code",
   "execution_count": 11,
   "id": "6c32db8b",
   "metadata": {},
   "outputs": [],
   "source": [
    "similarity_matrix = util.pytorch_cos_sim(embeddings, embeddings)"
   ]
  },
  {
   "cell_type": "markdown",
   "id": "eaa1a299",
   "metadata": {},
   "source": [
    "# Display similarity results"
   ]
  },
  {
   "cell_type": "code",
   "execution_count": 12,
   "id": "623b0c79",
   "metadata": {},
   "outputs": [
    {
     "name": "stdout",
     "output_type": "stream",
     "text": [
      "🌐 Multilingual Text Similarity Matrix:\n",
      "Where is the nearest pharmacy?\n",
      " → ['1.00', '0.94', '0.94', '0.86', '0.86']\n",
      "\n",
      "¿Dónde está la farmacia más cercana?\n",
      " → ['0.94', '1.00', '0.99', '0.89', '0.87']\n",
      "\n",
      "Où se trouve la pharmacie la plus proche ?\n",
      " → ['0.94', '0.99', '1.00', '0.91', '0.88']\n",
      "\n",
      "Wo ist die nächste Apotheke?\n",
      " → ['0.86', '0.89', '0.91', '1.00', '0.87']\n",
      "\n",
      "最近の薬局はどこですか？\n",
      " → ['0.86', '0.87', '0.88', '0.87', '1.00']\n",
      "\n"
     ]
    }
   ],
   "source": [
    "print(\"🌐 Multilingual Text Similarity Matrix:\")\n",
    "for i, s in enumerate(sentences):\n",
    "    sim_scores = [\"{:.2f}\".format(score) for score in similarity_matrix[i]]\n",
    "    print(f\"{s}\\n → {sim_scores}\\n\")"
   ]
  }
 ],
 "metadata": {
  "kernelspec": {
   "display_name": "Python 3",
   "language": "python",
   "name": "python3"
  },
  "language_info": {
   "codemirror_mode": {
    "name": "ipython",
    "version": 3
   },
   "file_extension": ".py",
   "mimetype": "text/x-python",
   "name": "python",
   "nbconvert_exporter": "python",
   "pygments_lexer": "ipython3",
   "version": "3.12.5"
  }
 },
 "nbformat": 4,
 "nbformat_minor": 5
}
