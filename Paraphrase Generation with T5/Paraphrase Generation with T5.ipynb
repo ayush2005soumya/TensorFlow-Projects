{
 "cells": [
  {
   "cell_type": "code",
   "execution_count": 1,
   "id": "f3267fbb",
   "metadata": {},
   "outputs": [],
   "source": [
    "from transformers import TFAutoModelForSeq2SeqLM, AutoTokenizer\n",
    "import tensorflow as tf"
   ]
  },
  {
   "cell_type": "markdown",
   "id": "5c910cd1",
   "metadata": {},
   "source": [
    "# Load pretrained T5 model and tokenizer"
   ]
  },
  {
   "cell_type": "code",
   "execution_count": 2,
   "id": "fcd2c4ae",
   "metadata": {},
   "outputs": [
    {
     "name": "stdout",
     "output_type": "stream",
     "text": [
      "WARNING:tensorflow:From C:\\Users\\Dell\\AppData\\Roaming\\Python\\Python312\\site-packages\\tf_keras\\src\\losses.py:2976: The name tf.losses.sparse_softmax_cross_entropy is deprecated. Please use tf.compat.v1.losses.sparse_softmax_cross_entropy instead.\n",
      "\n",
      "WARNING:tensorflow:From C:\\Users\\Dell\\AppData\\Roaming\\Python\\Python312\\site-packages\\tf_keras\\src\\backend.py:873: The name tf.get_default_graph is deprecated. Please use tf.compat.v1.get_default_graph instead.\n",
      "\n"
     ]
    },
    {
     "name": "stderr",
     "output_type": "stream",
     "text": [
      "All PyTorch model weights were used when initializing TFT5ForConditionalGeneration.\n",
      "\n",
      "All the weights of TFT5ForConditionalGeneration were initialized from the PyTorch model.\n",
      "If your task is similar to the task the model of the checkpoint was trained on, you can already use TFT5ForConditionalGeneration for predictions without further training.\n"
     ]
    }
   ],
   "source": [
    "model_name = \"t5-small\"\n",
    "tokenizer = AutoTokenizer.from_pretrained(model_name)\n",
    "model = TFAutoModelForSeq2SeqLM.from_pretrained(model_name)"
   ]
  },
  {
   "cell_type": "markdown",
   "id": "dde54b8c",
   "metadata": {},
   "source": [
    "# Input sentence to paraphrase"
   ]
  },
  {
   "cell_type": "code",
   "execution_count": 20,
   "id": "27ef9d9d",
   "metadata": {},
   "outputs": [],
   "source": [
    "sentence = \"I am Ayush Chatterjee, who likes to read books.\""
   ]
  },
  {
   "cell_type": "markdown",
   "id": "44751d9c",
   "metadata": {},
   "source": [
    "# Prepare input for T5"
   ]
  },
  {
   "cell_type": "code",
   "execution_count": 21,
   "id": "2c4e489e",
   "metadata": {},
   "outputs": [],
   "source": [
    "input_text = \"paraphrase: \" + sentence\n",
    "input_ids = tokenizer.encode(input_text, return_tensors=\"tf\", max_length=128, truncation=True)"
   ]
  },
  {
   "cell_type": "markdown",
   "id": "3540107a",
   "metadata": {},
   "source": [
    "# Generate paraphrase"
   ]
  },
  {
   "cell_type": "code",
   "execution_count": 22,
   "id": "ad2344f0",
   "metadata": {},
   "outputs": [],
   "source": [
    "outputs = model.generate(\n",
    "    input_ids,\n",
    "    max_length=50,\n",
    "    num_beams=5,\n",
    "    num_return_sequences=1,\n",
    "    no_repeat_ngram_size=2,\n",
    "    early_stopping=True\n",
    ")\n",
    "paraphrased = tokenizer.decode(outputs[0], skip_special_tokens=True)"
   ]
  },
  {
   "cell_type": "markdown",
   "id": "1ddccf63",
   "metadata": {},
   "source": [
    "# Display result"
   ]
  },
  {
   "cell_type": "code",
   "execution_count": 23,
   "id": "6c77e5ad",
   "metadata": {},
   "outputs": [
    {
     "name": "stdout",
     "output_type": "stream",
     "text": [
      "💬 Original Sentence:\n",
      " I am Ayush Chatterjee, who likes to read books.\n",
      "\n",
      "🔁 Paraphrased Sentence:\n",
      " Paraphrase: I am Ayush Chatterjee, who loves to read books.\n"
     ]
    }
   ],
   "source": [
    "print(\"💬 Original Sentence:\\n\", sentence)\n",
    "print(\"\\n🔁 Paraphrased Sentence:\\n\", paraphrased)"
   ]
  }
 ],
 "metadata": {
  "kernelspec": {
   "display_name": "Python 3",
   "language": "python",
   "name": "python3"
  },
  "language_info": {
   "codemirror_mode": {
    "name": "ipython",
    "version": 3
   },
   "file_extension": ".py",
   "mimetype": "text/x-python",
   "name": "python",
   "nbconvert_exporter": "python",
   "pygments_lexer": "ipython3",
   "version": "3.12.5"
  }
 },
 "nbformat": 4,
 "nbformat_minor": 5
}
