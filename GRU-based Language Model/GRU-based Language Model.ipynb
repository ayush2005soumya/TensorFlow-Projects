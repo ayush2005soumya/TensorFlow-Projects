{
 "cells": [
  {
   "cell_type": "code",
   "execution_count": 2,
   "id": "9b7ba718",
   "metadata": {},
   "outputs": [],
   "source": [
    "import tensorflow as tf\n",
    "import numpy as np\n",
    "import matplotlib.pyplot as plt"
   ]
  },
  {
   "cell_type": "markdown",
   "id": "a4f84f31",
   "metadata": {},
   "source": [
    "# Load and prepare text (tiny Shakespeare excerpt)"
   ]
  },
  {
   "cell_type": "code",
   "execution_count": 3,
   "id": "1fc418b1",
   "metadata": {},
   "outputs": [],
   "source": [
    "text = \"To be, or not to be, that is the question.\"\n",
    "chars = sorted(set(text))                            # Unique characters\n",
    "char2idx = {ch: i for i, ch in enumerate(chars)}\n",
    "idx2char = np.array(chars)\n",
    "vocab_size = len(chars)"
   ]
  },
  {
   "cell_type": "markdown",
   "id": "29ab97e8",
   "metadata": {},
   "source": [
    "# Convert entire text to integer sequence"
   ]
  },
  {
   "cell_type": "code",
   "execution_count": 4,
   "id": "aa5c57ee",
   "metadata": {},
   "outputs": [],
   "source": [
    "text_as_int = np.array([char2idx[c] for c in text])"
   ]
  },
  {
   "cell_type": "markdown",
   "id": "c37ac237",
   "metadata": {},
   "source": [
    "# Create input-output pairs for training (seq → next char)"
   ]
  },
  {
   "cell_type": "code",
   "execution_count": 5,
   "id": "ac96823a",
   "metadata": {},
   "outputs": [],
   "source": [
    "seq_length = 10\n",
    "examples_per_epoch = len(text_as_int) - seq_length\n",
    "inputs = []\n",
    "targets = []\n",
    "for i in range(examples_per_epoch):\n",
    "    inputs.append(text_as_int[i:i+seq_length])\n",
    "    targets.append(text_as_int[i+1:i+seq_length+1])\n",
    "X = np.array(inputs)\n",
    "y = np.array(targets)"
   ]
  },
  {
   "cell_type": "markdown",
   "id": "a30b55ac",
   "metadata": {},
   "source": [
    "# Build GRU language model"
   ]
  },
  {
   "cell_type": "code",
   "execution_count": 6,
   "id": "f268a9a7",
   "metadata": {},
   "outputs": [],
   "source": [
    "embedding_dim = 32\n",
    "gru_units = 64\n",
    " \n",
    "model = tf.keras.Sequential([\n",
    "    tf.keras.layers.Embedding(vocab_size, embedding_dim, input_length=seq_length),  # Embedding layer\n",
    "    tf.keras.layers.GRU(gru_units, return_sequences=True),                          # GRU layer\n",
    "    tf.keras.layers.Dense(vocab_size, activation='softmax')                         # Output: char probabilities\n",
    "])"
   ]
  },
  {
   "cell_type": "markdown",
   "id": "5739de97",
   "metadata": {},
   "source": [
    "# Compile and train"
   ]
  },
  {
   "cell_type": "code",
   "execution_count": 7,
   "id": "81ff46ab",
   "metadata": {},
   "outputs": [
    {
     "data": {
      "text/plain": [
       "<keras.src.callbacks.history.History at 0x2278f89c560>"
      ]
     },
     "execution_count": 7,
     "metadata": {},
     "output_type": "execute_result"
    }
   ],
   "source": [
    "model.compile(optimizer='adam', loss='sparse_categorical_crossentropy')\n",
    "model.fit(X, y, epochs=200, verbose=0)"
   ]
  },
  {
   "cell_type": "markdown",
   "id": "39bde518",
   "metadata": {},
   "source": [
    "# Generate text from a seed"
   ]
  },
  {
   "cell_type": "code",
   "execution_count": 8,
   "id": "61359e77",
   "metadata": {},
   "outputs": [],
   "source": [
    "def generate_text(seed, length=100):\n",
    "    input_eval = [char2idx[c] for c in seed.lower()]\n",
    "    input_eval = tf.expand_dims(input_eval, 0)\n",
    "    result = list(seed)\n",
    " \n",
    "    for _ in range(length):\n",
    "        predictions = model(input_eval)\n",
    "        predicted_id = tf.random.categorical(predictions[:, -1, :], num_samples=1).numpy()[0][0]\n",
    "        result.append(idx2char[predicted_id])\n",
    "        input_eval = tf.concat([input_eval[:, 1:], [[predicted_id]]], axis=1)\n",
    " \n",
    "    return ''.join(result)"
   ]
  },
  {
   "cell_type": "markdown",
   "id": "dbf2c223",
   "metadata": {},
   "source": [
    "# Generate from seed"
   ]
  },
  {
   "cell_type": "code",
   "execution_count": 10,
   "id": "9cb151ce",
   "metadata": {},
   "outputs": [
    {
     "name": "stdout",
     "output_type": "stream",
     "text": [
      "To be, or not to be, that is the question.anT .qhut, h.qniboh,ui,htss  bossTqT,q.h.t qhb,aue\n"
     ]
    }
   ],
   "source": [
    "print(generate_text(\"To be, or not to be, that is the question.\", length=50))"
   ]
  }
 ],
 "metadata": {
  "kernelspec": {
   "display_name": "Python 3",
   "language": "python",
   "name": "python3"
  },
  "language_info": {
   "codemirror_mode": {
    "name": "ipython",
    "version": 3
   },
   "file_extension": ".py",
   "mimetype": "text/x-python",
   "name": "python",
   "nbconvert_exporter": "python",
   "pygments_lexer": "ipython3",
   "version": "3.12.5"
  }
 },
 "nbformat": 4,
 "nbformat_minor": 5
}
