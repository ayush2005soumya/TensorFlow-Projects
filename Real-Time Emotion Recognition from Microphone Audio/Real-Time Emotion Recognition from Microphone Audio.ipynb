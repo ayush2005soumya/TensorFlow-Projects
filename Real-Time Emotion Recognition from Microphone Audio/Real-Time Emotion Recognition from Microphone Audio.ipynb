{
 "cells": [
  {
   "cell_type": "code",
   "execution_count": 2,
   "id": "0e797c75",
   "metadata": {},
   "outputs": [],
   "source": [
    "import tensorflow as tf\n",
    "import numpy as np\n",
    "import sounddevice as sd\n",
    "import librosa"
   ]
  },
  {
   "cell_type": "markdown",
   "id": "29101745",
   "metadata": {},
   "source": [
    "# Parameters"
   ]
  },
  {
   "cell_type": "code",
   "execution_count": 3,
   "id": "8e4f9a02",
   "metadata": {},
   "outputs": [],
   "source": [
    "sr = 16000                  # Sampling rate\n",
    "duration = 2.0              # Record duration in seconds\n",
    "n_mfcc = 13                 # Number of MFCCs\n",
    "max_len = 100               # Max time steps for padding"
   ]
  },
  {
   "cell_type": "markdown",
   "id": "e8ad8af1",
   "metadata": {},
   "source": [
    "# Record audio from microphone"
   ]
  },
  {
   "cell_type": "code",
   "execution_count": 4,
   "id": "2960b3f2",
   "metadata": {},
   "outputs": [
    {
     "name": "stdout",
     "output_type": "stream",
     "text": [
      "🎙️ Speak now...\n"
     ]
    }
   ],
   "source": [
    "print(\"🎙️ Speak now...\")\n",
    "recording = sd.rec(int(sr * duration), samplerate=sr, channels=1)\n",
    "sd.wait()\n",
    "audio = np.squeeze(recording)"
   ]
  },
  {
   "cell_type": "markdown",
   "id": "e806a39e",
   "metadata": {},
   "source": [
    "# Extract MFCCs"
   ]
  },
  {
   "cell_type": "code",
   "execution_count": 5,
   "id": "0470ee86",
   "metadata": {},
   "outputs": [],
   "source": [
    "mfcc = librosa.feature.mfcc(y=audio, sr=sr, n_mfcc=n_mfcc)\n",
    "mfcc = mfcc.T                                                  # Transpose to (time, features)"
   ]
  },
  {
   "cell_type": "markdown",
   "id": "14b31f67",
   "metadata": {},
   "source": [
    "# Pad/truncate to fixed length"
   ]
  },
  {
   "cell_type": "code",
   "execution_count": 6,
   "id": "0689b7fa",
   "metadata": {},
   "outputs": [],
   "source": [
    "mfcc_padded = tf.keras.preprocessing.sequence.pad_sequences([mfcc], maxlen=max_len, padding='post', dtype='float32')"
   ]
  },
  {
   "cell_type": "markdown",
   "id": "45c91245",
   "metadata": {},
   "source": [
    "# Dummy model (replace with pre-trained emotion model)"
   ]
  },
  {
   "cell_type": "code",
   "execution_count": 7,
   "id": "6c7caf0b",
   "metadata": {},
   "outputs": [],
   "source": [
    "model = tf.keras.Sequential([\n",
    "    tf.keras.layers.Input(shape=(max_len, n_mfcc)),\n",
    "    tf.keras.layers.Flatten(),\n",
    "    tf.keras.layers.Dense(128, activation='relu'),\n",
    "    tf.keras.layers.Dense(64, activation='relu'),\n",
    "    tf.keras.layers.Dense(3, activation='softmax')             # 3 emotions: happy, sad, angry\n",
    "])\n",
    "model.compile(optimizer='adam', loss='categorical_crossentropy')\n",
    "model.set_weights([np.random.randn(*w.shape) * 0.05 for w in model.get_weights()])  # Simulated weights"
   ]
  },
  {
   "cell_type": "markdown",
   "id": "8248cf8b",
   "metadata": {},
   "source": [
    "# Predict emotion"
   ]
  },
  {
   "cell_type": "code",
   "execution_count": 8,
   "id": "b3112485",
   "metadata": {},
   "outputs": [
    {
     "name": "stdout",
     "output_type": "stream",
     "text": [
      "\u001b[1m1/1\u001b[0m \u001b[32m━━━━━━━━━━━━━━━━━━━━\u001b[0m\u001b[37m\u001b[0m \u001b[1m0s\u001b[0m 61ms/step\n",
      "🧠 Detected Emotion: Angry\n"
     ]
    }
   ],
   "source": [
    "pred = model.predict(mfcc_padded)[0]\n",
    "emotion_index = np.argmax(pred)\n",
    "emotions = ['Happy', 'Sad', 'Angry']\n",
    "print(\"🧠 Detected Emotion:\", emotions[emotion_index])"
   ]
  }
 ],
 "metadata": {
  "kernelspec": {
   "display_name": "Python 3",
   "language": "python",
   "name": "python3"
  },
  "language_info": {
   "codemirror_mode": {
    "name": "ipython",
    "version": 3
   },
   "file_extension": ".py",
   "mimetype": "text/x-python",
   "name": "python",
   "nbconvert_exporter": "python",
   "pygments_lexer": "ipython3",
   "version": "3.12.5"
  }
 },
 "nbformat": 4,
 "nbformat_minor": 5
}
