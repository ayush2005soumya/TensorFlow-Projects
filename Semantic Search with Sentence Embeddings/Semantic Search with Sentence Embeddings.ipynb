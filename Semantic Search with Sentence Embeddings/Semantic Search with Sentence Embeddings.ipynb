{
 "cells": [
  {
   "cell_type": "code",
   "execution_count": 1,
   "id": "7bd7210a",
   "metadata": {},
   "outputs": [
    {
     "name": "stdout",
     "output_type": "stream",
     "text": [
      "WARNING:tensorflow:From C:\\Users\\Dell\\AppData\\Roaming\\Python\\Python312\\site-packages\\tf_keras\\src\\losses.py:2976: The name tf.losses.sparse_softmax_cross_entropy is deprecated. Please use tf.compat.v1.losses.sparse_softmax_cross_entropy instead.\n",
      "\n"
     ]
    }
   ],
   "source": [
    "from sentence_transformers import SentenceTransformer, util"
   ]
  },
  {
   "cell_type": "markdown",
   "id": "799b739f",
   "metadata": {},
   "source": [
    "# Load SentenceTransformer model"
   ]
  },
  {
   "cell_type": "code",
   "execution_count": 2,
   "id": "8841fd60",
   "metadata": {},
   "outputs": [],
   "source": [
    "model = SentenceTransformer(\"all-MiniLM-L6-v2\")"
   ]
  },
  {
   "cell_type": "markdown",
   "id": "df260b6c",
   "metadata": {},
   "source": [
    "# Sample document corpus"
   ]
  },
  {
   "cell_type": "code",
   "execution_count": 3,
   "id": "bf87218a",
   "metadata": {},
   "outputs": [],
   "source": [
    "documents = [\n",
    "    \"Machine learning models require a lot of data to perform well.\",\n",
    "    \"The Eiffel Tower is located in Paris, France.\",\n",
    "    \"Neural networks are a powerful tool in deep learning.\",\n",
    "    \"I love visiting historical places during vacations.\",\n",
    "    \"Transformers have revolutionized natural language processing.\"\n",
    "]"
   ]
  },
  {
   "cell_type": "markdown",
   "id": "de8e77d6",
   "metadata": {},
   "source": [
    "# Encode documents to embeddings"
   ]
  },
  {
   "cell_type": "code",
   "execution_count": 4,
   "id": "1ae8a352",
   "metadata": {},
   "outputs": [],
   "source": [
    "doc_embeddings = model.encode(documents, convert_to_tensor=True)"
   ]
  },
  {
   "cell_type": "markdown",
   "id": "69456711",
   "metadata": {},
   "source": [
    "# User query"
   ]
  },
  {
   "cell_type": "code",
   "execution_count": 5,
   "id": "f48d33f1",
   "metadata": {},
   "outputs": [],
   "source": [
    "query = \"How do neural networks work in AI?\""
   ]
  },
  {
   "cell_type": "markdown",
   "id": "cf486be5",
   "metadata": {},
   "source": [
    "# Encode query"
   ]
  },
  {
   "cell_type": "code",
   "execution_count": 6,
   "id": "7e529c21",
   "metadata": {},
   "outputs": [],
   "source": [
    "query_embedding = model.encode(query, convert_to_tensor=True)"
   ]
  },
  {
   "cell_type": "markdown",
   "id": "1f459ae4",
   "metadata": {},
   "source": [
    "# Compute cosine similarities"
   ]
  },
  {
   "cell_type": "code",
   "execution_count": 7,
   "id": "2db25c68",
   "metadata": {},
   "outputs": [],
   "source": [
    "cos_scores = util.pytorch_cos_sim(query_embedding, doc_embeddings)[0]"
   ]
  },
  {
   "cell_type": "markdown",
   "id": "c95140fb",
   "metadata": {},
   "source": [
    "# Find top match"
   ]
  },
  {
   "cell_type": "code",
   "execution_count": 8,
   "id": "93069924",
   "metadata": {},
   "outputs": [
    {
     "name": "stdout",
     "output_type": "stream",
     "text": [
      "🔍 Query: How do neural networks work in AI?\n",
      "\n",
      "📄 Top Matching Document:\n",
      " Neural networks are a powerful tool in deep learning.\n",
      "\n",
      "🔢 Similarity Score: 0.57\n"
     ]
    }
   ],
   "source": [
    "top_result = int(cos_scores.argmax())\n",
    "print(\"🔍 Query:\", query)\n",
    "print(\"\\n📄 Top Matching Document:\\n\", documents[top_result])\n",
    "print(\"\\n🔢 Similarity Score: {:.2f}\".format(cos_scores[top_result].item()))"
   ]
  }
 ],
 "metadata": {
  "kernelspec": {
   "display_name": "Python 3",
   "language": "python",
   "name": "python3"
  },
  "language_info": {
   "codemirror_mode": {
    "name": "ipython",
    "version": 3
   },
   "file_extension": ".py",
   "mimetype": "text/x-python",
   "name": "python",
   "nbconvert_exporter": "python",
   "pygments_lexer": "ipython3",
   "version": "3.12.5"
  }
 },
 "nbformat": 4,
 "nbformat_minor": 5
}
