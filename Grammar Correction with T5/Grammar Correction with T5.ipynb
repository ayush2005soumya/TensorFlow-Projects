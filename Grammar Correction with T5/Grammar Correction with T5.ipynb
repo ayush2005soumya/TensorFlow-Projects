{
 "cells": [
  {
   "cell_type": "code",
   "execution_count": 1,
   "id": "359b9d0d",
   "metadata": {},
   "outputs": [],
   "source": [
    "from transformers import TFAutoModelForSeq2SeqLM, AutoTokenizer\n",
    "import tensorflow as tf"
   ]
  },
  {
   "cell_type": "markdown",
   "id": "be376659",
   "metadata": {},
   "source": [
    "# Load the T5 model and tokenizer"
   ]
  },
  {
   "cell_type": "code",
   "execution_count": 2,
   "id": "619927da",
   "metadata": {},
   "outputs": [
    {
     "name": "stdout",
     "output_type": "stream",
     "text": [
      "WARNING:tensorflow:From C:\\Users\\Dell\\AppData\\Roaming\\Python\\Python312\\site-packages\\tf_keras\\src\\losses.py:2976: The name tf.losses.sparse_softmax_cross_entropy is deprecated. Please use tf.compat.v1.losses.sparse_softmax_cross_entropy instead.\n",
      "\n",
      "WARNING:tensorflow:From C:\\Users\\Dell\\AppData\\Roaming\\Python\\Python312\\site-packages\\tf_keras\\src\\backend.py:873: The name tf.get_default_graph is deprecated. Please use tf.compat.v1.get_default_graph instead.\n",
      "\n"
     ]
    },
    {
     "name": "stderr",
     "output_type": "stream",
     "text": [
      "All PyTorch model weights were used when initializing TFT5ForConditionalGeneration.\n",
      "\n",
      "All the weights of TFT5ForConditionalGeneration were initialized from the PyTorch model.\n",
      "If your task is similar to the task the model of the checkpoint was trained on, you can already use TFT5ForConditionalGeneration for predictions without further training.\n"
     ]
    }
   ],
   "source": [
    "model_name = \"t5-small\"\n",
    "tokenizer = AutoTokenizer.from_pretrained(model_name)\n",
    "model = TFAutoModelForSeq2SeqLM.from_pretrained(model_name)"
   ]
  },
  {
   "cell_type": "markdown",
   "id": "fc3b70fc",
   "metadata": {},
   "source": [
    "# Input sentence with grammar issues"
   ]
  },
  {
   "cell_type": "code",
   "execution_count": 11,
   "id": "278b759d",
   "metadata": {},
   "outputs": [],
   "source": [
    "sentence = \"She no went to the store because it raining.\""
   ]
  },
  {
   "cell_type": "markdown",
   "id": "868bd9f3",
   "metadata": {},
   "source": [
    "# Format the input with a grammar correction instruction"
   ]
  },
  {
   "cell_type": "code",
   "execution_count": 12,
   "id": "c94904f4",
   "metadata": {},
   "outputs": [],
   "source": [
    "input_text = \"correct grammar: \" + sentence\n",
    "input_ids = tokenizer.encode(input_text, return_tensors=\"tf\", max_length=128, truncation=True)"
   ]
  },
  {
   "cell_type": "markdown",
   "id": "eacccc87",
   "metadata": {},
   "source": [
    "# Generate the corrected sentence"
   ]
  },
  {
   "cell_type": "code",
   "execution_count": 13,
   "id": "4ddd9e1b",
   "metadata": {},
   "outputs": [],
   "source": [
    "outputs = model.generate(\n",
    "    input_ids,\n",
    "    max_length=64,\n",
    "    num_beams=5,\n",
    "    early_stopping=True\n",
    ")\n",
    "corrected = tokenizer.decode(outputs[0], skip_special_tokens=True)"
   ]
  },
  {
   "cell_type": "markdown",
   "id": "4344f02f",
   "metadata": {},
   "source": [
    "# Display result"
   ]
  },
  {
   "cell_type": "code",
   "execution_count": 14,
   "id": "dfda650e",
   "metadata": {},
   "outputs": [
    {
     "name": "stdout",
     "output_type": "stream",
     "text": [
      "❌ Original:\n",
      " She no went to the store because it raining.\n",
      "\n",
      "✅ Corrected:\n",
      " Elle ne a pas went to the store because it raining.\n"
     ]
    }
   ],
   "source": [
    "print(\"❌ Original:\\n\", sentence)\n",
    "print(\"\\n✅ Corrected:\\n\", corrected)"
   ]
  }
 ],
 "metadata": {
  "kernelspec": {
   "display_name": "Python 3",
   "language": "python",
   "name": "python3"
  },
  "language_info": {
   "codemirror_mode": {
    "name": "ipython",
    "version": 3
   },
   "file_extension": ".py",
   "mimetype": "text/x-python",
   "name": "python",
   "nbconvert_exporter": "python",
   "pygments_lexer": "ipython3",
   "version": "3.12.5"
  }
 },
 "nbformat": 4,
 "nbformat_minor": 5
}
