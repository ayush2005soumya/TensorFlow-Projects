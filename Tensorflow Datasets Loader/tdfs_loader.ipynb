{
 "cells": [
  {
   "cell_type": "code",
   "execution_count": 2,
   "id": "52b44b20",
   "metadata": {},
   "outputs": [],
   "source": [
    "import tensorflow_datasets as tfds\n",
    "import tensorflow as tf"
   ]
  },
  {
   "cell_type": "markdown",
   "id": "70605a96",
   "metadata": {},
   "source": [
    "# Load the CIFAR-10 dataset using TFDS"
   ]
  },
  {
   "cell_type": "code",
   "execution_count": 3,
   "id": "2107f5fd",
   "metadata": {},
   "outputs": [
    {
     "name": "stderr",
     "output_type": "stream",
     "text": [
      "WARNING:absl:Variant folder C:\\Users\\Dell\\tensorflow_datasets\\cifar10\\3.0.2 has no dataset_info.json\n"
     ]
    },
    {
     "name": "stdout",
     "output_type": "stream",
     "text": [
      "\u001b[1mDownloading and preparing dataset Unknown size (download: Unknown size, generated: Unknown size, total: Unknown size) to C:\\Users\\Dell\\tensorflow_datasets\\cifar10\\3.0.2...\u001b[0m\n"
     ]
    },
    {
     "data": {
      "application/vnd.jupyter.widget-view+json": {
       "model_id": "8e0f3de1055643e8a272b2b3ddc3c426",
       "version_major": 2,
       "version_minor": 0
      },
      "text/plain": [
       "Dl Completed...: 0 url [00:00, ? url/s]"
      ]
     },
     "metadata": {},
     "output_type": "display_data"
    },
    {
     "data": {
      "application/vnd.jupyter.widget-view+json": {
       "model_id": "fd7821cb1db341eeaa78b8478630cf01",
       "version_major": 2,
       "version_minor": 0
      },
      "text/plain": [
       "Dl Size...: 0 MiB [00:00, ? MiB/s]"
      ]
     },
     "metadata": {},
     "output_type": "display_data"
    },
    {
     "data": {
      "application/vnd.jupyter.widget-view+json": {
       "model_id": "5706f5acf2f04c01b7bc5a72b8c473c5",
       "version_major": 2,
       "version_minor": 0
      },
      "text/plain": [
       "Extraction completed...: 0 file [00:00, ? file/s]"
      ]
     },
     "metadata": {},
     "output_type": "display_data"
    },
    {
     "data": {
      "application/vnd.jupyter.widget-view+json": {
       "model_id": "0db7375ee91f41308067b038aff8d84d",
       "version_major": 2,
       "version_minor": 0
      },
      "text/plain": [
       "Generating splits...:   0%|          | 0/2 [00:00<?, ? splits/s]"
      ]
     },
     "metadata": {},
     "output_type": "display_data"
    },
    {
     "data": {
      "application/vnd.jupyter.widget-view+json": {
       "model_id": "feaaa7b4f9694f89bd889a90d0c553b9",
       "version_major": 2,
       "version_minor": 0
      },
      "text/plain": [
       "Generating train examples...: 0 examples [00:00, ? examples/s]"
      ]
     },
     "metadata": {},
     "output_type": "display_data"
    },
    {
     "data": {
      "application/vnd.jupyter.widget-view+json": {
       "model_id": "4e4e0a4c185b4dbc9450bb9dbae1763b",
       "version_major": 2,
       "version_minor": 0
      },
      "text/plain": [
       "Shuffling C:\\Users\\Dell\\tensorflow_datasets\\cifar10\\incomplete.8F143M_3.0.2\\cifar10-train.tfrecord*...:   0%| …"
      ]
     },
     "metadata": {},
     "output_type": "display_data"
    },
    {
     "data": {
      "application/vnd.jupyter.widget-view+json": {
       "model_id": "85fca71abad24d5da20e45a7b98e6bdd",
       "version_major": 2,
       "version_minor": 0
      },
      "text/plain": [
       "Generating test examples...: 0 examples [00:00, ? examples/s]"
      ]
     },
     "metadata": {},
     "output_type": "display_data"
    },
    {
     "data": {
      "application/vnd.jupyter.widget-view+json": {
       "model_id": "aa09666e28884e3f88bf75e72a5f7277",
       "version_major": 2,
       "version_minor": 0
      },
      "text/plain": [
       "Shuffling C:\\Users\\Dell\\tensorflow_datasets\\cifar10\\incomplete.8F143M_3.0.2\\cifar10-test.tfrecord*...:   0%|  …"
      ]
     },
     "metadata": {},
     "output_type": "display_data"
    },
    {
     "name": "stdout",
     "output_type": "stream",
     "text": [
      "\u001b[1mDataset cifar10 downloaded and prepared to C:\\Users\\Dell\\tensorflow_datasets\\cifar10\\3.0.2. Subsequent calls will reuse this data.\u001b[0m\n"
     ]
    }
   ],
   "source": [
    "(ds_train, ds_test), ds_info = tfds.load(\n",
    "    'cifar10',                             # Dataset name\n",
    "    split=['train', 'test'],               # Specify train/test splits\n",
    "    shuffle_files=True,                    # Shuffle data files\n",
    "    as_supervised=True,                    # Return (image, label) pairs\n",
    "    with_info=True                         # Get metadata about the dataset\n",
    ")"
   ]
  },
  {
   "cell_type": "markdown",
   "id": "fa85fbda",
   "metadata": {},
   "source": [
    "# Normalize and batch the data"
   ]
  },
  {
   "cell_type": "code",
   "execution_count": 4,
   "id": "74e85f40",
   "metadata": {},
   "outputs": [],
   "source": [
    "def preprocess(image, label):\n",
    "    image = tf.cast(image, tf.float32) / 255.0            # Normalize image pixels to [0, 1]\n",
    "    return image, label\n",
    " \n",
    "batch_size = 32\n",
    "ds_train = ds_train.map(preprocess).batch(batch_size).prefetch(tf.data.AUTOTUNE)  # Map, batch, prefetch\n",
    "ds_test = ds_test.map(preprocess).batch(batch_size).prefetch(tf.data.AUTOTUNE)"
   ]
  },
  {
   "cell_type": "markdown",
   "id": "6f91a704",
   "metadata": {},
   "source": [
    "# Build a simple CNN model"
   ]
  },
  {
   "cell_type": "code",
   "execution_count": 6,
   "id": "87d13eb5",
   "metadata": {},
   "outputs": [],
   "source": [
    "model = tf.keras.Sequential([\n",
    "    tf.keras.layers.Conv2D(32, 3, activation='relu', input_shape=(32, 32, 3)),  # Conv layer\n",
    "    tf.keras.layers.MaxPooling2D(),                                             # Pooling layer\n",
    "    tf.keras.layers.Flatten(),                                                  # Flatten before Dense\n",
    "    tf.keras.layers.Dense(64, activation='relu'),                               # Hidden layer\n",
    "    tf.keras.layers.Dense(10, activation='softmax')                             # Output for 10 classes\n",
    "])"
   ]
  },
  {
   "cell_type": "markdown",
   "id": "fd920bf0",
   "metadata": {},
   "source": [
    "# Compile the model"
   ]
  },
  {
   "cell_type": "code",
   "execution_count": 7,
   "id": "6a73e4d4",
   "metadata": {},
   "outputs": [],
   "source": [
    "model.compile(optimizer='adam', loss='sparse_categorical_crossentropy', metrics=['accuracy'])"
   ]
  },
  {
   "cell_type": "markdown",
   "id": "23680e2d",
   "metadata": {},
   "source": [
    "# Train the model"
   ]
  },
  {
   "cell_type": "code",
   "execution_count": 8,
   "id": "da8c542c",
   "metadata": {},
   "outputs": [
    {
     "name": "stdout",
     "output_type": "stream",
     "text": [
      "Epoch 1/5\n",
      "\u001b[1m1563/1563\u001b[0m \u001b[32m━━━━━━━━━━━━━━━━━━━━\u001b[0m\u001b[37m\u001b[0m \u001b[1m14s\u001b[0m 9ms/step - accuracy: 0.4002 - loss: 1.6765 - val_accuracy: 0.5432 - val_loss: 1.3106\n",
      "Epoch 2/5\n",
      "\u001b[1m1563/1563\u001b[0m \u001b[32m━━━━━━━━━━━━━━━━━━━━\u001b[0m\u001b[37m\u001b[0m \u001b[1m13s\u001b[0m 8ms/step - accuracy: 0.5729 - loss: 1.2155 - val_accuracy: 0.5940 - val_loss: 1.1602\n",
      "Epoch 3/5\n",
      "\u001b[1m1563/1563\u001b[0m \u001b[32m━━━━━━━━━━━━━━━━━━━━\u001b[0m\u001b[37m\u001b[0m \u001b[1m12s\u001b[0m 8ms/step - accuracy: 0.6184 - loss: 1.0875 - val_accuracy: 0.6164 - val_loss: 1.1099\n",
      "Epoch 4/5\n",
      "\u001b[1m1563/1563\u001b[0m \u001b[32m━━━━━━━━━━━━━━━━━━━━\u001b[0m\u001b[37m\u001b[0m \u001b[1m12s\u001b[0m 8ms/step - accuracy: 0.6522 - loss: 0.9960 - val_accuracy: 0.6252 - val_loss: 1.0850\n",
      "Epoch 5/5\n",
      "\u001b[1m1563/1563\u001b[0m \u001b[32m━━━━━━━━━━━━━━━━━━━━\u001b[0m\u001b[37m\u001b[0m \u001b[1m12s\u001b[0m 8ms/step - accuracy: 0.6783 - loss: 0.9246 - val_accuracy: 0.6313 - val_loss: 1.0818\n"
     ]
    },
    {
     "data": {
      "text/plain": [
       "<keras.src.callbacks.history.History at 0x2680c24e9c0>"
      ]
     },
     "execution_count": 8,
     "metadata": {},
     "output_type": "execute_result"
    }
   ],
   "source": [
    "model.fit(ds_train, epochs=5, validation_data=ds_test, verbose=1)"
   ]
  }
 ],
 "metadata": {
  "kernelspec": {
   "display_name": "Python 3",
   "language": "python",
   "name": "python3"
  },
  "language_info": {
   "codemirror_mode": {
    "name": "ipython",
    "version": 3
   },
   "file_extension": ".py",
   "mimetype": "text/x-python",
   "name": "python",
   "nbconvert_exporter": "python",
   "pygments_lexer": "ipython3",
   "version": "3.12.5"
  }
 },
 "nbformat": 4,
 "nbformat_minor": 5
}
